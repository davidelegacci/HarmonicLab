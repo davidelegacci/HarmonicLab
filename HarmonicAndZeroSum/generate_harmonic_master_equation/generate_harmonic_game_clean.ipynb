{
 "cells": [
  {
   "cell_type": "code",
   "execution_count": 83,
   "id": "13956eb3-3756-43f7-997a-0114fdbcc235",
   "metadata": {},
   "outputs": [],
   "source": [
    "from sympy import *\n",
    "import itertools as it\n",
    "import numpy as np"
   ]
  },
  {
   "cell_type": "code",
   "execution_count": 84,
   "id": "60f4d655",
   "metadata": {},
   "outputs": [],
   "source": [
    "# Make symbols: methods to dynamically create as many as needed strings and Sympy symbols\n",
    "# Shift is starting index; default 0\n",
    "\n",
    "def make_strings(N,s, shift = 0):\n",
    "\tmy_strings = []\n",
    "\tfor i in range(shift, N + shift):\n",
    "\t    tmp_st = f'{s}{i}'\n",
    "\t    my_strings.append(tmp_st)\n",
    "\treturn my_strings\n",
    "\n",
    "def make_symbols(N,s, shift = 0):\n",
    "\tmy_symbols = []\n",
    "\tfor i in range(shift, N + shift):\n",
    "\t    tmp_st = f'{s}{i}'\n",
    "\t    globals()[tmp_st] = Symbol(tmp_st)\n",
    "\t    my_symbols.append(globals()[tmp_st])\n",
    "\treturn my_symbols"
   ]
  },
  {
   "cell_type": "markdown",
   "id": "a260385c-d254-478c-abad-54156b021118",
   "metadata": {},
   "source": [
    "# Generate harmonic game\n",
    "\n",
    "Given measure, generate harmonic game"
   ]
  },
  {
   "cell_type": "markdown",
   "id": "ff3c29c8-f1cb-45f2-8906-56ff8c9858b8",
   "metadata": {},
   "source": [
    "## Set Game skeleton"
   ]
  },
  {
   "cell_type": "code",
   "execution_count": 85,
   "id": "cb87129a-e7fe-452c-8d2c-bc8422b3e617",
   "metadata": {},
   "outputs": [
    {
     "data": {
      "text/plain": [
       "[2, 2, 2]"
      ]
     },
     "execution_count": 85,
     "metadata": {},
     "output_type": "execute_result"
    }
   ],
   "source": [
    "# Game skeleton\n",
    "\n",
    "# size of skeleton = number of players\n",
    "# each entry of skeleton = number of actions of each player\n",
    "\n",
    "skeleton = [2, 2, 2]\n",
    "skeleton"
   ]
  },
  {
   "cell_type": "markdown",
   "id": "a6ccacd1-b38a-4ac1-a725-ce9fe4ce4042",
   "metadata": {},
   "source": [
    "## Set Harmonic measure"
   ]
  },
  {
   "cell_type": "code",
   "execution_count": 86,
   "id": "77ee2b3c-dddd-40ea-85cf-0a2244cf4e0d",
   "metadata": {},
   "outputs": [
    {
     "data": {
      "text/plain": [
       "[[1, 1], [1, 2], [1, 3]]"
      ]
     },
     "execution_count": 86,
     "metadata": {},
     "output_type": "execute_result"
    }
   ],
   "source": [
    "# Harmonic measure\n",
    "# controls position of equilibrium; for default (center) set all = 1\n",
    "# else can choose any strictly positive number for each entry\n",
    "\n",
    "mu_values = [  [1, 1], [1, 2], [1,3] ]\n",
    "\n",
    "# Size is determined by skeleton\n",
    "assert len(mu_values) == len(skeleton)\n",
    "for i, Ai in enumerate(skeleton):\n",
    "    assert len(mu_values[i]) == Ai\n",
    "\n",
    "mu_values"
   ]
  },
  {
   "cell_type": "markdown",
   "id": "c0b0f7c6-049d-4795-a79c-d6f16ceff967",
   "metadata": {},
   "source": [
    "---"
   ]
  },
  {
   "cell_type": "code",
   "execution_count": 87,
   "id": "90f8d17d-d6a2-4b30-bf55-64a869a9009c",
   "metadata": {},
   "outputs": [],
   "source": [
    "# N\n",
    "numPlayers = len(skeleton)\n",
    "players = range(numPlayers)\n",
    "\n",
    "# -------------------------\n",
    "# Number of action profiles\n",
    "# -------------------------\n",
    "\n",
    "# A\n",
    "numPures = prod(skeleton)\n",
    "\n",
    "# List of A_{-i} = for each player, number of action profiles of other players\n",
    "numPuresMinus = [  int(numPures / skeleton[i]) for i in players ]\n",
    "\n",
    "# -------------------------\n",
    "# Number of payoff degrees of freedom\n",
    "# -------------------------\n",
    "\n",
    "# AN; number of payoff degrees of freedom\n",
    "numPays = numPlayers * numPures\n",
    "\n",
    "# sum_i A_i; number of harmonic measure dofs\n",
    "numMeas = sum(skeleton)"
   ]
  },
  {
   "cell_type": "code",
   "execution_count": 88,
   "id": "89324e17-2a67-403b-81e8-2d3317b533de",
   "metadata": {},
   "outputs": [],
   "source": [
    "# Pure actions: list of N lists, each with Ai elements; pure actions of each player\n",
    "\n",
    "pures_play = [ make_strings(skeleton[i], f'a{i}', shift = 1) for i in players ]"
   ]
  },
  {
   "cell_type": "code",
   "execution_count": 89,
   "id": "f0ac537f-ec3b-4a94-b99c-05a6d506ca8a",
   "metadata": {},
   "outputs": [],
   "source": [
    "# Pure profiles; cartesian product of pure actions of each player\n",
    "# Returns one list with A = numPures elements; each element is a tuple of strings\n",
    "\n",
    "pures = list(it.product(*pures_play))"
   ]
  },
  {
   "cell_type": "code",
   "execution_count": 90,
   "id": "dfd59f2a-19ae-4f77-8ca4-023d2eb637f3",
   "metadata": {},
   "outputs": [],
   "source": [
    "assert len(pures) == numPures"
   ]
  },
  {
   "cell_type": "code",
   "execution_count": 91,
   "id": "47987a3b-40d1-44c2-8c62-41814afa96b1",
   "metadata": {},
   "outputs": [],
   "source": [
    "# Pack mu in list of dicts\n",
    "\n",
    "mu = [   dict(zip( pures_play[i], mu_values[i] )) for i in players    ]"
   ]
  },
  {
   "cell_type": "code",
   "execution_count": 92,
   "id": "4352335f-e0b2-4b81-b95a-08b788ecd13d",
   "metadata": {},
   "outputs": [],
   "source": [
    "def print_payoff(payoff_dict, payoff_symbol):\n",
    "    for i in players:\n",
    "        for a in pures:\n",
    "            print( f'{payoff_symbol}_{i}{a} = {payoff_dict[i][a]}' )\n",
    "        print()"
   ]
  },
  {
   "cell_type": "markdown",
   "id": "86c8aab7-730d-41ba-bf0b-0cacda506245",
   "metadata": {},
   "source": [
    "# Profiles of other players"
   ]
  },
  {
   "cell_type": "code",
   "execution_count": 93,
   "id": "c225d35e-abdc-4e9f-a500-8d17bc980cb6",
   "metadata": {},
   "outputs": [],
   "source": [
    "# Pure profiles of other players\n",
    "# Make list of N lists; the list pure_minus[i] contains the pure action profiles of players other than i\n",
    "# Build taking the cartesian product of pure actions of all players other than i\n",
    "# The size of the list pure_minus[i] is A_{-i} = \\prod_{j \\neq i} A_j\n",
    "\n",
    "pures_minus = [ list( it.product( *( pures_play[:i] + pures_play[i+1:] ) ) ) for i in players ]"
   ]
  },
  {
   "cell_type": "code",
   "execution_count": 94,
   "id": "dd1a4f70-3ebb-4255-8290-da6ebcdd9836",
   "metadata": {},
   "outputs": [],
   "source": [
    "for i in players:\n",
    "    assert len(pures_minus[i]) == numPuresMinus[i]"
   ]
  },
  {
   "cell_type": "markdown",
   "id": "c8b7bdae-e523-43f9-a9b7-9c8bce1914b6",
   "metadata": {},
   "source": [
    "# Make a"
   ]
  },
  {
   "cell_type": "code",
   "execution_count": 95,
   "id": "770e216c-80a2-4c09-8d22-2573dc3f46e5",
   "metadata": {},
   "outputs": [],
   "source": [
    "# Util to make (a_i, a_{-i}) given a_i and a_{-i} as tuple of strings (to be used as key for payoff dictionaries)\n",
    "def make_pure(ai, a_minus_i, i):\n",
    "    l = list(a_minus_i)\n",
    "    return tuple(l[:i] + [ai] + l[i:])"
   ]
  },
  {
   "cell_type": "code",
   "execution_count": 96,
   "id": "2a2ea4fc-d8ef-4d6d-9442-f206cc568795",
   "metadata": {},
   "outputs": [],
   "source": [
    "def split_pure(a, i):\n",
    "    \n",
    "    ai = a[i]\n",
    "\n",
    "    l = list(a)\n",
    "    a_minus_i = tuple( l[:i] + l[i+1:] )\n",
    "    return ai, a_minus_i"
   ]
  },
  {
   "cell_type": "code",
   "execution_count": 97,
   "id": "da36612c-714a-4d14-a161-942434afa021",
   "metadata": {},
   "outputs": [],
   "source": [
    "# check consistency\n",
    "for i in players:\n",
    "    for a in pures:\n",
    "        ai, a_minus_i = split_pure(a, i)\n",
    "        assert a == make_pure( ai, a_minus_i, i )"
   ]
  },
  {
   "cell_type": "markdown",
   "id": "aaed4957-305a-4d08-81b2-d1e9f8bee92f",
   "metadata": {},
   "source": [
    "# Harmonic payoff"
   ]
  },
  {
   "cell_type": "code",
   "execution_count": 98,
   "id": "1fd2c7db-3857-4b81-94d0-06778ea53d31",
   "metadata": {},
   "outputs": [],
   "source": [
    "# harmonic payoff degrees of freedom; will build harmonic payoff h out of these\n",
    "\n",
    "# to be determined harmonic payoff of player i (as many as A)\n",
    "\n",
    "h_sym = [make_symbols(numPures, f'h{i}', shift = 1) for i in players]\n"
   ]
  },
  {
   "cell_type": "code",
   "execution_count": 99,
   "id": "9e1b082d-9c94-4736-bc3a-b2deb0339c9e",
   "metadata": {},
   "outputs": [],
   "source": [
    "h = [  dict(zip(pures , h_sym[i] ))  for i in players]\n"
   ]
  },
  {
   "cell_type": "markdown",
   "id": "bc51e5b9-7650-4ba8-bba8-89482ba099b1",
   "metadata": {},
   "source": [
    "# System"
   ]
  },
  {
   "cell_type": "code",
   "execution_count": 100,
   "id": "fdc5d244-fd60-4452-9d3e-ed87924a2050",
   "metadata": {},
   "outputs": [],
   "source": [
    "# --------------------------------\n",
    "# KEY: HARMONIC FUNCTION\n",
    "# --------------------------------\n",
    "def Hi(a, i):\n",
    "    ai, a_minus_i = split_pure(a, i)\n",
    "    return sum(   [   mu[i][bi] * ( h[i][a] - h[i][ make_pure(bi, a_minus_i, i) ] )    for bi in pures_play[i]   ]  )"
   ]
  },
  {
   "cell_type": "code",
   "execution_count": 101,
   "id": "8c300f7b-09ab-40f4-95f0-61d1d5d819fe",
   "metadata": {},
   "outputs": [],
   "source": [
    "# --------------------------------\n",
    "# KEY: HARMONIC SYSTEM in degrees of freedom h, that is payoff to be determined, prescribed the harmonic measure\n",
    "# --------------------------------\n",
    "system = [  sum( [  Hi(a,i)   for i in players ] )   for a in pures  ]"
   ]
  },
  {
   "cell_type": "code",
   "execution_count": 102,
   "id": "2a8fe2a2-8175-464f-ac7c-eab05a9d6c1b",
   "metadata": {},
   "outputs": [],
   "source": [
    "# one equation per pure in pures\n",
    "assert len(system) == numPures"
   ]
  },
  {
   "cell_type": "code",
   "execution_count": 103,
   "id": "97f7fe83-e0a4-4500-821d-c002acec01a3",
   "metadata": {},
   "outputs": [],
   "source": [
    "# Unknowns of system to solve: the weights (one per player) + the non-strategic dofs\n",
    "dofs = list(it.chain(*h_sym))"
   ]
  },
  {
   "cell_type": "code",
   "execution_count": 104,
   "id": "cf95f160-22c3-4b06-9d51-306eec8b30e5",
   "metadata": {},
   "outputs": [],
   "source": [
    "numDofs = len(dofs)"
   ]
  },
  {
   "cell_type": "code",
   "execution_count": 105,
   "id": "bae667d6-9c3e-401f-86ab-3f5ddaef0096",
   "metadata": {},
   "outputs": [],
   "source": [
    "# Unknowns of system to solve: harmonic weights\n",
    "assert numDofs == numPays"
   ]
  },
  {
   "cell_type": "code",
   "execution_count": 106,
   "id": "4fda08f7-8d90-4c6b-bbe2-fca17d1083b8",
   "metadata": {},
   "outputs": [],
   "source": [
    "# Matrix of linear system\n",
    "A, b = linear_eq_to_matrix(system, *dofs)"
   ]
  },
  {
   "cell_type": "code",
   "execution_count": 107,
   "id": "40094d64-90c4-4dec-8b06-1b015fe72554",
   "metadata": {},
   "outputs": [],
   "source": [
    "sol = solve(system, dofs)"
   ]
  },
  {
   "cell_type": "code",
   "execution_count": 108,
   "id": "971f11d1-26e8-408d-b606-ce2355b41047",
   "metadata": {},
   "outputs": [],
   "source": [
    "# Replace sol in dofs\n",
    "\n",
    "extracted_sol = [e.subs(sol) for e in dofs]"
   ]
  },
  {
   "cell_type": "markdown",
   "id": "0b0c6b94-b2f1-47c8-a000-0cee3417fcca",
   "metadata": {},
   "source": [
    "# General solution here"
   ]
  },
  {
   "cell_type": "code",
   "execution_count": 109,
   "id": "c02ce821-1aef-4d69-8285-d820f174ca69",
   "metadata": {},
   "outputs": [],
   "source": [
    "# zip solution in dictionary with dofs\n",
    "sol_dict = dict(zip(dofs, extracted_sol))"
   ]
  },
  {
   "cell_type": "markdown",
   "id": "997a81d1-b08a-4a6e-8bbf-1c07643a9cd0",
   "metadata": {},
   "source": [
    "---"
   ]
  },
  {
   "cell_type": "markdown",
   "id": "9d512ff2-66bf-4cee-a5f4-024faffdd18e",
   "metadata": {},
   "source": [
    "# Build solution instance"
   ]
  },
  {
   "cell_type": "code",
   "execution_count": 110,
   "id": "417831e0-5f84-43e5-a67d-445230c6ef5b",
   "metadata": {},
   "outputs": [],
   "source": [
    "# fix remaining dofs; generate dictionary with dofs keys and random values\n",
    "fix_remaining_dofs = dict(zip(dofs, np.random.randint(-5, 5, numDofs)))"
   ]
  },
  {
   "cell_type": "code",
   "execution_count": 111,
   "id": "518dc722-bcc8-4787-afcd-7bebf2a8aa99",
   "metadata": {},
   "outputs": [],
   "source": [
    "# fix remaining dofs to random number by subbing in sol_dict\n",
    "sol_dict_instance = { key : sol_dict[key].subs(fix_remaining_dofs) for key in sol_dict}"
   ]
  },
  {
   "cell_type": "code",
   "execution_count": 112,
   "id": "3e8ba019-59bb-4f90-aaed-68ec814782fc",
   "metadata": {},
   "outputs": [
    {
     "data": {
      "text/plain": [
       "{h01: 10,\n",
       " h02: -10,\n",
       " h03: -3,\n",
       " h04: 6,\n",
       " h05: 1,\n",
       " h06: -1,\n",
       " h07: 3,\n",
       " h08: 1,\n",
       " h11: 2,\n",
       " h12: -2,\n",
       " h13: 2,\n",
       " h14: -5,\n",
       " h15: 1,\n",
       " h16: -3,\n",
       " h17: -5,\n",
       " h18: 2,\n",
       " h21: -4,\n",
       " h22: -1,\n",
       " h23: 0,\n",
       " h24: -2,\n",
       " h25: 0,\n",
       " h26: 1,\n",
       " h27: -1,\n",
       " h28: -1}"
      ]
     },
     "execution_count": 112,
     "metadata": {},
     "output_type": "execute_result"
    }
   ],
   "source": [
    "sol_dict_instance"
   ]
  },
  {
   "cell_type": "markdown",
   "id": "303ed4b9-722a-4822-9b6e-7cdae6509eb0",
   "metadata": {},
   "source": [
    "# Result: harmonic game"
   ]
  },
  {
   "cell_type": "code",
   "execution_count": 115,
   "id": "90855238-7e9f-4bea-966d-84bdab2cad05",
   "metadata": {},
   "outputs": [
    {
     "data": {
      "text/plain": [
       "[2, 2, 2]"
      ]
     },
     "execution_count": 115,
     "metadata": {},
     "output_type": "execute_result"
    }
   ],
   "source": [
    "skeleton"
   ]
  },
  {
   "cell_type": "code",
   "execution_count": 118,
   "id": "c1510456-d20a-41dd-8e15-357918dd3b18",
   "metadata": {},
   "outputs": [
    {
     "data": {
      "text/plain": [
       "dict_values([10, -10, -3, 6, 1, -1, 3, 1, 2, -2, 2, -5, 1, -3, -5, 2, -4, -1, 0, -2, 0, 1, -1, -1])"
      ]
     },
     "execution_count": 118,
     "metadata": {},
     "output_type": "execute_result"
    }
   ],
   "source": [
    "sol_dict_instance.values()"
   ]
  },
  {
   "cell_type": "code",
   "execution_count": 119,
   "id": "44bb6c8d-468b-4f20-a631-c7f8f974440e",
   "metadata": {},
   "outputs": [
    {
     "data": {
      "text/plain": [
       "8"
      ]
     },
     "execution_count": 119,
     "metadata": {},
     "output_type": "execute_result"
    }
   ],
   "source": [
    "numPures"
   ]
  },
  {
   "cell_type": "markdown",
   "id": "70bd87b9-39f7-486d-ba22-857ba411b3bf",
   "metadata": {},
   "source": [
    "## Order\n",
    "This output give the flattened payoff vector; the first A numbers are the payoffs of the first player, the second A numbers are the payoffs of the second player, and so on.\n",
    "\n",
    "For each player, the order in the 2x2x2 case is\n",
    "\n",
    "```\n",
    "1: (1, 1, 1)\n",
    "2: (1, 1, 2)\n",
    "3: (1, 2, 1)\n",
    "4: (1, 2, 2)\n",
    "5: (2, 1, 1)\n",
    "6: (2, 1, 2)\n",
    "7: (2, 2, 1)\n",
    "8: (2, 2, 2)\n",
    "```"
   ]
  },
  {
   "cell_type": "markdown",
   "id": "292abe02",
   "metadata": {},
   "source": [
    "# End"
   ]
  }
 ],
 "metadata": {
  "kernelspec": {
   "display_name": "Python 3 (ipykernel)",
   "language": "python",
   "name": "python3"
  },
  "language_info": {
   "codemirror_mode": {
    "name": "ipython",
    "version": 3
   },
   "file_extension": ".py",
   "mimetype": "text/x-python",
   "name": "python",
   "nbconvert_exporter": "python",
   "pygments_lexer": "ipython3",
   "version": "3.12.3"
  }
 },
 "nbformat": 4,
 "nbformat_minor": 5
}
