{
 "cells": [
  {
   "cell_type": "code",
   "execution_count": 828,
   "id": "13956eb3-3756-43f7-997a-0114fdbcc235",
   "metadata": {},
   "outputs": [],
   "source": [
    "from sympy import *\n",
    "import itertools as it\n",
    "import numpy as np"
   ]
  },
  {
   "cell_type": "code",
   "execution_count": 829,
   "id": "9b83da47-2623-4c9f-a002-76dd8eac4ec1",
   "metadata": {},
   "outputs": [],
   "source": [
    "# To comment whole cell, convert to markdown by selecting cell and hitting M. To revert back to code, select cell and Y"
   ]
  },
  {
   "cell_type": "markdown",
   "id": "c1a73663-50b6-4386-8a3b-cdfa6f901a9d",
   "metadata": {},
   "source": [
    "# This code is nested by the N-player version and not maintained anymore"
   ]
  },
  {
   "cell_type": "markdown",
   "id": "449f0c1a-3776-49bf-96c1-844901312a7a",
   "metadata": {},
   "source": [
    "# GAME; 2x2 harmonic\n",
    "\n",
    "## Number of pures\n",
    "#A1 = 2\n",
    "#A2 = 2\n",
    "\n",
    "## Payoffs\n",
    "#u1_values = [1, -1, 0, 0]\n",
    "#u2_values = [-1, 1, 0, -1]"
   ]
  },
  {
   "cell_type": "markdown",
   "id": "fbffeb06-8d4c-4883-8de4-59271a959cae",
   "metadata": {},
   "source": [
    "# GAME; 2x3 harmonic\n",
    "\n",
    "## Number of pures\n",
    "A1 = 2\n",
    "A2 = 3\n",
    "\n",
    "## Payoffs\n",
    "u1_values = [-5, 0, 4, -1, 1, -1]\n",
    "u2_values = [5, 4, 2, -2, -1, 1]"
   ]
  },
  {
   "cell_type": "markdown",
   "id": "a68b2b6f-301a-4f74-b6e1-c1ef2994d810",
   "metadata": {},
   "source": [
    "# GAME; 2x4 harmonic\n",
    "\n",
    "## Number of pures\n",
    "A1 = 2\n",
    "A2 = 4\n",
    "\n",
    "## Nuber of action profiles\n",
    "numPures = A1 * A2\n",
    "\n",
    "## Payoffs\n",
    "\n",
    "u_values = [5, -8, 4, 1, 2, 1, -3, 2, 2, 5, 1, 3, 0, -3, 1, -1]\n",
    "\n",
    "u1_values = u_values[:numPures]\n",
    "u2_values = u_values[numPures:]"
   ]
  },
  {
   "cell_type": "markdown",
   "id": "3ef07b0b-faef-413f-a706-c52907ec90d3",
   "metadata": {},
   "source": [
    "# GAME; 2x5 harmonic\n",
    "\n",
    "## Number of pures\n",
    "A1 = 2\n",
    "A2 = 5\n",
    "\n",
    "## Nuber of action profiles\n",
    "numPures = A1 * A2\n",
    "\n",
    "## Payoffs\n",
    "\n",
    "u_values = [14, 0, 8, -18, -1, 2, -2, 1, 0, 2, -6, -4, -5, 0, -3, 3, 1, 2, -3, 0]\n",
    "\n",
    "assert len(u_values) == 2 * numPures\n",
    "\n",
    "u1_values = u_values[:numPures]\n",
    "u2_values = u_values[numPures:]"
   ]
  },
  {
   "cell_type": "code",
   "execution_count": 1494,
   "id": "3c0725d8-0753-41eb-93c7-b0f991baaeb7",
   "metadata": {},
   "outputs": [],
   "source": [
    "# GAME; 4x6 harmonic\n",
    "\n",
    "## Number of pures\n",
    "A1 = 4\n",
    "A2 = 6\n",
    "\n",
    "## Nuber of action profiles\n",
    "numPures = A1 * A2\n",
    "\n",
    "## Payoffs\n",
    "\n",
    "\n",
    "u_values = [-8.50000000000000 + 0.0, -9.50000000000000, 15.0000000000000, -2.50000000000000, 11.5000000000000, -8.00000000000000, 3.00000000000000, 2.00000000000000, 5.50000000000000, -6.00000000000000, 5.00000000000000, -11.5000000000000, 2.50000000000000, 1.50000000000000, 0.500000000000000, -3.50000000000000, 1.50000000000000, -4.50000000000000, -2, -3, 2, 1, 3, -3, 1.00000000000000, 0.999999999999999, -10.0000000000000, -4.00000000000000, -8.00000000000000, -3, -3, -3, 0, 2, 0, 3, -3, -3, 3, 0, 2, -2, 0, 0, 2, -3, 1, -3]\n",
    "\n",
    "assert len(u_values) == 2 * numPures\n",
    "\n",
    "u1_values = u_values[:numPures]\n",
    "u2_values = u_values[numPures:]"
   ]
  },
  {
   "cell_type": "markdown",
   "id": "694cc8c2-e885-4efc-b185-d4271f08a363",
   "metadata": {},
   "source": [
    "# GAME; 2x3 generic --> seems almost never to be st eq to weighted zero sum\n",
    "\n",
    "## Number of pures\n",
    "A1 = 2\n",
    "A2 = 3\n",
    "\n",
    "## Nuber of action profiles\n",
    "numPures = A1 * A2\n",
    "\n",
    "## Payoffs\n",
    "\n",
    "u_values = np.random.randint(-5, 5, 2*numPures)\n",
    "\n",
    "u1_values = u_values[:numPures]\n",
    "u2_values = u_values[numPures:]\n"
   ]
  },
  {
   "cell_type": "markdown",
   "id": "3c59586c-5eec-4bd3-83bf-b4f5a9d8dfa9",
   "metadata": {},
   "source": [
    "# GAME; 2x2 generic --> seems almost always to be st eq to weighted zero sum\n",
    "\n",
    "## Number of pures\n",
    "A1 = 2\n",
    "A2 = 2\n",
    "\n",
    "## Nuber of action profiles\n",
    "numPures = A1 * A2\n",
    "\n",
    "## Payoffs\n",
    "\n",
    "u_values = np.random.randint(-5, 5, 2*numPures)\n",
    "\n",
    "u1_values = u_values[:numPures]\n",
    "u2_values = u_values[numPures:]\n"
   ]
  },
  {
   "cell_type": "code",
   "execution_count": 1495,
   "id": "7b6863e0-eaee-4184-b93a-cf07ba7dcb45",
   "metadata": {},
   "outputs": [],
   "source": [
    "players = [0,1] # start at 0 for indexing\n",
    "numPlayers = 2"
   ]
  },
  {
   "cell_type": "code",
   "execution_count": 1496,
   "id": "070b1781-ffc1-4b07-bab7-28c18ebc1c64",
   "metadata": {},
   "outputs": [
    {
     "data": {
      "text/plain": [
       "[-8.5,\n",
       " -9.5,\n",
       " 15.0,\n",
       " -2.5,\n",
       " 11.5,\n",
       " -8.0,\n",
       " 3.0,\n",
       " 2.0,\n",
       " 5.5,\n",
       " -6.0,\n",
       " 5.0,\n",
       " -11.5,\n",
       " 2.5,\n",
       " 1.5,\n",
       " 0.5,\n",
       " -3.5,\n",
       " 1.5,\n",
       " -4.5,\n",
       " -2,\n",
       " -3,\n",
       " 2,\n",
       " 1,\n",
       " 3,\n",
       " -3]"
      ]
     },
     "execution_count": 1496,
     "metadata": {},
     "output_type": "execute_result"
    }
   ],
   "source": [
    "u1_values"
   ]
  },
  {
   "cell_type": "code",
   "execution_count": 1497,
   "id": "4024541d-3414-4c88-8596-a6781a1de3a5",
   "metadata": {},
   "outputs": [
    {
     "data": {
      "text/plain": [
       "[1.0,\n",
       " 0.999999999999999,\n",
       " -10.0,\n",
       " -4.0,\n",
       " -8.0,\n",
       " -3,\n",
       " -3,\n",
       " -3,\n",
       " 0,\n",
       " 2,\n",
       " 0,\n",
       " 3,\n",
       " -3,\n",
       " -3,\n",
       " 3,\n",
       " 0,\n",
       " 2,\n",
       " -2,\n",
       " 0,\n",
       " 0,\n",
       " 2,\n",
       " -3,\n",
       " 1,\n",
       " -3]"
      ]
     },
     "execution_count": 1497,
     "metadata": {},
     "output_type": "execute_result"
    }
   ],
   "source": [
    "u2_values"
   ]
  },
  {
   "cell_type": "code",
   "execution_count": 1498,
   "id": "60f4d655",
   "metadata": {},
   "outputs": [],
   "source": [
    "# Make symbols\n",
    "def make_strings(N,s, shift = 0):\n",
    "\tmy_strings = []\n",
    "\tfor i in range(shift, N + shift):\n",
    "\t    tmp_st = f'{s}{i}'\n",
    "\t    my_strings.append(tmp_st)\n",
    "\treturn my_strings\n",
    "\n",
    "def make_symbols(N,s, shift = 0):\n",
    "\tmy_symbols = []\n",
    "\tfor i in range(shift, N + shift):\n",
    "\t    tmp_st = f'{s}{i}'\n",
    "\t    globals()[tmp_st] = Symbol(tmp_st)\n",
    "\t    my_symbols.append(globals()[tmp_st])\n",
    "\treturn my_symbols\n",
    "\n",
    "def make_functions(N,s,variables, shift = 0):\n",
    "    strings = make_strings(N,s,shift)\n",
    "    functions = [Function(s)(*variables) for s in strings]\n",
    "    return functions"
   ]
  },
  {
   "cell_type": "code",
   "execution_count": 1499,
   "id": "0e31f83c-4320-42f4-a728-a593f7fe0e2c",
   "metadata": {},
   "outputs": [],
   "source": [
    "# Pure actions\n",
    "pures1 = make_strings(A1, 'a1', shift = 1)\n",
    "pures2 = make_strings(A2, 'a2', shift = 1)\n",
    "\n",
    "# Pure profiles\n",
    "pures = list(it.product(pures1, pures2))\n",
    "\n",
    "# Number of non-strategic dofs\n",
    "numNS = A1 + A2\n",
    "\n",
    "\n",
    "\n",
    "# Number of constraints = number of pures\n",
    "numConstrains = numPures\n",
    "\n",
    "# Coefficients for weighted zero-sum\n",
    "lam = make_symbols(2, 'lambda', shift = 1)\n",
    "\n",
    "# Non-strategic payoff dofs\n",
    "\n",
    "# NB not a typo; number of ns1 is A2; and number of ns2 is A2\n",
    "\n",
    "# to be determined non-strategic payoff of player 1 (as many as pures of player 2)\n",
    "n1_sym = make_symbols(A2, 'alpha', shift = 1)\n",
    "\n",
    "# to be determined non-strategic payoff of player 2 (as many as pures of player 1)\n",
    "n2_sym = make_symbols(A1, 'beta', shift = 1)\n",
    "\n",
    "# to be determined non-strategic payoff of player 1 (as many as pures of player 2)\n",
    "# read this as: when player 2 plays .., player 1 gets ..\n",
    "n1 = dict(zip(pures2, n1_sym))\n",
    "\n",
    "# to be determined non-strategic payoff of player 2 (as many as pures of player 1)\n",
    "# read this as: when player 1 plays .., player 2 gets ..\n",
    "n2 = dict(zip(pures1, n2_sym))\n",
    "\n",
    "# Unknowns of system to solve\n",
    "dofs = lam + n1_sym + n2_sym\n",
    "\n",
    "# Number of degrees of freedom; 1 per player + dimension of non-strategic\n",
    "numDofs = numPlayers + numNS\n",
    "assert len(dofs) == numDofs"
   ]
  },
  {
   "cell_type": "code",
   "execution_count": 1500,
   "id": "73247391-3de9-4ac0-9379-8bfa3ebab1dc",
   "metadata": {},
   "outputs": [
    {
     "name": "stdout",
     "output_type": "stream",
     "text": [
      "u_1('a11', 'a21') = -8.5\n",
      "u_1('a11', 'a22') = -9.5\n",
      "u_1('a11', 'a23') = 15.0\n",
      "u_1('a11', 'a24') = -2.5\n",
      "u_1('a11', 'a25') = 11.5\n",
      "u_1('a11', 'a26') = -8.0\n",
      "u_1('a12', 'a21') = 3.0\n",
      "u_1('a12', 'a22') = 2.0\n",
      "u_1('a12', 'a23') = 5.5\n",
      "u_1('a12', 'a24') = -6.0\n",
      "u_1('a12', 'a25') = 5.0\n",
      "u_1('a12', 'a26') = -11.5\n",
      "u_1('a13', 'a21') = 2.5\n",
      "u_1('a13', 'a22') = 1.5\n",
      "u_1('a13', 'a23') = 0.5\n",
      "u_1('a13', 'a24') = -3.5\n",
      "u_1('a13', 'a25') = 1.5\n",
      "u_1('a13', 'a26') = -4.5\n",
      "u_1('a14', 'a21') = -2\n",
      "u_1('a14', 'a22') = -3\n",
      "u_1('a14', 'a23') = 2\n",
      "u_1('a14', 'a24') = 1\n",
      "u_1('a14', 'a25') = 3\n",
      "u_1('a14', 'a26') = -3\n",
      "\n",
      "u_2('a11', 'a21') = 1.0\n",
      "u_2('a11', 'a22') = 0.999999999999999\n",
      "u_2('a11', 'a23') = -10.0\n",
      "u_2('a11', 'a24') = -4.0\n",
      "u_2('a11', 'a25') = -8.0\n",
      "u_2('a11', 'a26') = -3\n",
      "u_2('a12', 'a21') = -3\n",
      "u_2('a12', 'a22') = -3\n",
      "u_2('a12', 'a23') = 0\n",
      "u_2('a12', 'a24') = 2\n",
      "u_2('a12', 'a25') = 0\n",
      "u_2('a12', 'a26') = 3\n",
      "u_2('a13', 'a21') = -3\n",
      "u_2('a13', 'a22') = -3\n",
      "u_2('a13', 'a23') = 3\n",
      "u_2('a13', 'a24') = 0\n",
      "u_2('a13', 'a25') = 2\n",
      "u_2('a13', 'a26') = -2\n",
      "u_2('a14', 'a21') = 0\n",
      "u_2('a14', 'a22') = 0\n",
      "u_2('a14', 'a23') = 2\n",
      "u_2('a14', 'a24') = -3\n",
      "u_2('a14', 'a25') = 1\n",
      "u_2('a14', 'a26') = -3\n",
      "\n"
     ]
    }
   ],
   "source": [
    "# Build payoff dict\n",
    "\n",
    "\n",
    "u1 =  dict(zip(pures , u1_values ))\n",
    "u2 =  dict(zip(pures , u2_values ))\n",
    "\n",
    "u = [u1, u2]\n",
    "\n",
    "\n",
    "\n",
    "for i in players:\n",
    "    for a in pures:\n",
    "        print( f'u_{i+1}{a} = {u[i][a]}' )\n",
    "    print()"
   ]
  },
  {
   "cell_type": "code",
   "execution_count": 1501,
   "id": "1a4c0bf3-13ed-493f-9d70-0b1f4f4caff3",
   "metadata": {},
   "outputs": [
    {
     "data": {
      "text/plain": [
       "[lambda1,\n",
       " lambda2,\n",
       " alpha1,\n",
       " alpha2,\n",
       " alpha3,\n",
       " alpha4,\n",
       " alpha5,\n",
       " alpha6,\n",
       " beta1,\n",
       " beta2,\n",
       " beta3,\n",
       " beta4]"
      ]
     },
     "execution_count": 1501,
     "metadata": {},
     "output_type": "execute_result"
    }
   ],
   "source": [
    "dofs"
   ]
  },
  {
   "cell_type": "code",
   "execution_count": 1502,
   "id": "2b1e9da5-3bf2-4681-a309-b16c9789f869",
   "metadata": {},
   "outputs": [
    {
     "data": {
      "text/plain": [
       "{'a21': alpha1,\n",
       " 'a22': alpha2,\n",
       " 'a23': alpha3,\n",
       " 'a24': alpha4,\n",
       " 'a25': alpha5,\n",
       " 'a26': alpha6}"
      ]
     },
     "execution_count": 1502,
     "metadata": {},
     "output_type": "execute_result"
    }
   ],
   "source": [
    "n1"
   ]
  },
  {
   "cell_type": "code",
   "execution_count": 1503,
   "id": "4c544ca2-8ef5-4298-9a88-a383a244876c",
   "metadata": {},
   "outputs": [
    {
     "data": {
      "text/plain": [
       "{'a11': beta1, 'a12': beta2, 'a13': beta3, 'a14': beta4}"
      ]
     },
     "execution_count": 1503,
     "metadata": {},
     "output_type": "execute_result"
    }
   ],
   "source": [
    "n2"
   ]
  },
  {
   "cell_type": "code",
   "execution_count": 1504,
   "id": "fc890e66-8326-4ac7-8d2f-2c5c1f116d76",
   "metadata": {},
   "outputs": [],
   "source": [
    "# Full non-strategic payoff, to be determined\n",
    "k1 = { }\n",
    "for a1 in pures1:\n",
    "    for a2 in pures2:\n",
    "        k1[ (a1, a2)] = n1[a2] \n",
    "\n",
    "k2 = { }\n",
    "for a1 in pures1:\n",
    "    for a2 in pures2:\n",
    "        k2[ (a1, a2)] = n2[a1] \n",
    "\n",
    "k = [k1, k2]"
   ]
  },
  {
   "cell_type": "code",
   "execution_count": 1505,
   "id": "aa2178c6-bb51-4f02-b58a-cbd8f8fa4f80",
   "metadata": {},
   "outputs": [
    {
     "data": {
      "text/plain": [
       "{('a11', 'a21'): alpha1,\n",
       " ('a11', 'a22'): alpha2,\n",
       " ('a11', 'a23'): alpha3,\n",
       " ('a11', 'a24'): alpha4,\n",
       " ('a11', 'a25'): alpha5,\n",
       " ('a11', 'a26'): alpha6,\n",
       " ('a12', 'a21'): alpha1,\n",
       " ('a12', 'a22'): alpha2,\n",
       " ('a12', 'a23'): alpha3,\n",
       " ('a12', 'a24'): alpha4,\n",
       " ('a12', 'a25'): alpha5,\n",
       " ('a12', 'a26'): alpha6,\n",
       " ('a13', 'a21'): alpha1,\n",
       " ('a13', 'a22'): alpha2,\n",
       " ('a13', 'a23'): alpha3,\n",
       " ('a13', 'a24'): alpha4,\n",
       " ('a13', 'a25'): alpha5,\n",
       " ('a13', 'a26'): alpha6,\n",
       " ('a14', 'a21'): alpha1,\n",
       " ('a14', 'a22'): alpha2,\n",
       " ('a14', 'a23'): alpha3,\n",
       " ('a14', 'a24'): alpha4,\n",
       " ('a14', 'a25'): alpha5,\n",
       " ('a14', 'a26'): alpha6}"
      ]
     },
     "execution_count": 1505,
     "metadata": {},
     "output_type": "execute_result"
    }
   ],
   "source": [
    "k1"
   ]
  },
  {
   "cell_type": "code",
   "execution_count": 1506,
   "id": "aeb6ee1c-5cdd-4e88-a3df-ad8e3577fa3b",
   "metadata": {},
   "outputs": [
    {
     "data": {
      "text/plain": [
       "{('a11', 'a21'): beta1,\n",
       " ('a11', 'a22'): beta1,\n",
       " ('a11', 'a23'): beta1,\n",
       " ('a11', 'a24'): beta1,\n",
       " ('a11', 'a25'): beta1,\n",
       " ('a11', 'a26'): beta1,\n",
       " ('a12', 'a21'): beta2,\n",
       " ('a12', 'a22'): beta2,\n",
       " ('a12', 'a23'): beta2,\n",
       " ('a12', 'a24'): beta2,\n",
       " ('a12', 'a25'): beta2,\n",
       " ('a12', 'a26'): beta2,\n",
       " ('a13', 'a21'): beta3,\n",
       " ('a13', 'a22'): beta3,\n",
       " ('a13', 'a23'): beta3,\n",
       " ('a13', 'a24'): beta3,\n",
       " ('a13', 'a25'): beta3,\n",
       " ('a13', 'a26'): beta3,\n",
       " ('a14', 'a21'): beta4,\n",
       " ('a14', 'a22'): beta4,\n",
       " ('a14', 'a23'): beta4,\n",
       " ('a14', 'a24'): beta4,\n",
       " ('a14', 'a25'): beta4,\n",
       " ('a14', 'a26'): beta4}"
      ]
     },
     "execution_count": 1506,
     "metadata": {},
     "output_type": "execute_result"
    }
   ],
   "source": [
    "k2"
   ]
  },
  {
   "cell_type": "code",
   "execution_count": 1507,
   "id": "09794763-ccf4-4249-8c93-76ebcae61999",
   "metadata": {},
   "outputs": [
    {
     "data": {
      "text/plain": [
       "[lambda1, lambda2]"
      ]
     },
     "execution_count": 1507,
     "metadata": {},
     "output_type": "execute_result"
    }
   ],
   "source": [
    "lam"
   ]
  },
  {
   "cell_type": "code",
   "execution_count": 1508,
   "id": "e1f58a10-fdbb-4fbd-a734-32b5fa6ec0ef",
   "metadata": {},
   "outputs": [
    {
     "data": {
      "text/plain": [
       "[('a11', 'a21'),\n",
       " ('a11', 'a22'),\n",
       " ('a11', 'a23'),\n",
       " ('a11', 'a24'),\n",
       " ('a11', 'a25'),\n",
       " ('a11', 'a26'),\n",
       " ('a12', 'a21'),\n",
       " ('a12', 'a22'),\n",
       " ('a12', 'a23'),\n",
       " ('a12', 'a24'),\n",
       " ('a12', 'a25'),\n",
       " ('a12', 'a26'),\n",
       " ('a13', 'a21'),\n",
       " ('a13', 'a22'),\n",
       " ('a13', 'a23'),\n",
       " ('a13', 'a24'),\n",
       " ('a13', 'a25'),\n",
       " ('a13', 'a26'),\n",
       " ('a14', 'a21'),\n",
       " ('a14', 'a22'),\n",
       " ('a14', 'a23'),\n",
       " ('a14', 'a24'),\n",
       " ('a14', 'a25'),\n",
       " ('a14', 'a26')]"
      ]
     },
     "execution_count": 1508,
     "metadata": {},
     "output_type": "execute_result"
    }
   ],
   "source": [
    "pures"
   ]
  },
  {
   "cell_type": "code",
   "execution_count": 1509,
   "id": "95bf0a5c-4284-4780-955d-e75d0f09ef57",
   "metadata": {},
   "outputs": [
    {
     "data": {
      "text/plain": [
       "[lambda1, lambda2]"
      ]
     },
     "execution_count": 1509,
     "metadata": {},
     "output_type": "execute_result"
    }
   ],
   "source": [
    "lam"
   ]
  },
  {
   "cell_type": "code",
   "execution_count": 1510,
   "id": "3683959a-bcca-46d1-b22f-618351a093ce",
   "metadata": {},
   "outputs": [
    {
     "data": {
      "text/plain": [
       "[{('a11', 'a21'): -8.5,\n",
       "  ('a11', 'a22'): -9.5,\n",
       "  ('a11', 'a23'): 15.0,\n",
       "  ('a11', 'a24'): -2.5,\n",
       "  ('a11', 'a25'): 11.5,\n",
       "  ('a11', 'a26'): -8.0,\n",
       "  ('a12', 'a21'): 3.0,\n",
       "  ('a12', 'a22'): 2.0,\n",
       "  ('a12', 'a23'): 5.5,\n",
       "  ('a12', 'a24'): -6.0,\n",
       "  ('a12', 'a25'): 5.0,\n",
       "  ('a12', 'a26'): -11.5,\n",
       "  ('a13', 'a21'): 2.5,\n",
       "  ('a13', 'a22'): 1.5,\n",
       "  ('a13', 'a23'): 0.5,\n",
       "  ('a13', 'a24'): -3.5,\n",
       "  ('a13', 'a25'): 1.5,\n",
       "  ('a13', 'a26'): -4.5,\n",
       "  ('a14', 'a21'): -2,\n",
       "  ('a14', 'a22'): -3,\n",
       "  ('a14', 'a23'): 2,\n",
       "  ('a14', 'a24'): 1,\n",
       "  ('a14', 'a25'): 3,\n",
       "  ('a14', 'a26'): -3},\n",
       " {('a11', 'a21'): 1.0,\n",
       "  ('a11', 'a22'): 0.999999999999999,\n",
       "  ('a11', 'a23'): -10.0,\n",
       "  ('a11', 'a24'): -4.0,\n",
       "  ('a11', 'a25'): -8.0,\n",
       "  ('a11', 'a26'): -3,\n",
       "  ('a12', 'a21'): -3,\n",
       "  ('a12', 'a22'): -3,\n",
       "  ('a12', 'a23'): 0,\n",
       "  ('a12', 'a24'): 2,\n",
       "  ('a12', 'a25'): 0,\n",
       "  ('a12', 'a26'): 3,\n",
       "  ('a13', 'a21'): -3,\n",
       "  ('a13', 'a22'): -3,\n",
       "  ('a13', 'a23'): 3,\n",
       "  ('a13', 'a24'): 0,\n",
       "  ('a13', 'a25'): 2,\n",
       "  ('a13', 'a26'): -2,\n",
       "  ('a14', 'a21'): 0,\n",
       "  ('a14', 'a22'): 0,\n",
       "  ('a14', 'a23'): 2,\n",
       "  ('a14', 'a24'): -3,\n",
       "  ('a14', 'a25'): 1,\n",
       "  ('a14', 'a26'): -3}]"
      ]
     },
     "execution_count": 1510,
     "metadata": {},
     "output_type": "execute_result"
    }
   ],
   "source": [
    "u"
   ]
  },
  {
   "cell_type": "code",
   "execution_count": 1511,
   "id": "cff81a3a-74a2-46da-8144-798782991b50",
   "metadata": {},
   "outputs": [
    {
     "data": {
      "text/plain": [
       "[{('a11', 'a21'): alpha1,\n",
       "  ('a11', 'a22'): alpha2,\n",
       "  ('a11', 'a23'): alpha3,\n",
       "  ('a11', 'a24'): alpha4,\n",
       "  ('a11', 'a25'): alpha5,\n",
       "  ('a11', 'a26'): alpha6,\n",
       "  ('a12', 'a21'): alpha1,\n",
       "  ('a12', 'a22'): alpha2,\n",
       "  ('a12', 'a23'): alpha3,\n",
       "  ('a12', 'a24'): alpha4,\n",
       "  ('a12', 'a25'): alpha5,\n",
       "  ('a12', 'a26'): alpha6,\n",
       "  ('a13', 'a21'): alpha1,\n",
       "  ('a13', 'a22'): alpha2,\n",
       "  ('a13', 'a23'): alpha3,\n",
       "  ('a13', 'a24'): alpha4,\n",
       "  ('a13', 'a25'): alpha5,\n",
       "  ('a13', 'a26'): alpha6,\n",
       "  ('a14', 'a21'): alpha1,\n",
       "  ('a14', 'a22'): alpha2,\n",
       "  ('a14', 'a23'): alpha3,\n",
       "  ('a14', 'a24'): alpha4,\n",
       "  ('a14', 'a25'): alpha5,\n",
       "  ('a14', 'a26'): alpha6},\n",
       " {('a11', 'a21'): beta1,\n",
       "  ('a11', 'a22'): beta1,\n",
       "  ('a11', 'a23'): beta1,\n",
       "  ('a11', 'a24'): beta1,\n",
       "  ('a11', 'a25'): beta1,\n",
       "  ('a11', 'a26'): beta1,\n",
       "  ('a12', 'a21'): beta2,\n",
       "  ('a12', 'a22'): beta2,\n",
       "  ('a12', 'a23'): beta2,\n",
       "  ('a12', 'a24'): beta2,\n",
       "  ('a12', 'a25'): beta2,\n",
       "  ('a12', 'a26'): beta2,\n",
       "  ('a13', 'a21'): beta3,\n",
       "  ('a13', 'a22'): beta3,\n",
       "  ('a13', 'a23'): beta3,\n",
       "  ('a13', 'a24'): beta3,\n",
       "  ('a13', 'a25'): beta3,\n",
       "  ('a13', 'a26'): beta3,\n",
       "  ('a14', 'a21'): beta4,\n",
       "  ('a14', 'a22'): beta4,\n",
       "  ('a14', 'a23'): beta4,\n",
       "  ('a14', 'a24'): beta4,\n",
       "  ('a14', 'a25'): beta4,\n",
       "  ('a14', 'a26'): beta4}]"
      ]
     },
     "execution_count": 1511,
     "metadata": {},
     "output_type": "execute_result"
    }
   ],
   "source": [
    "k"
   ]
  },
  {
   "cell_type": "code",
   "execution_count": 1512,
   "id": "fdf8c209-c1b4-4046-a3b9-e3c3a67b92b4",
   "metadata": {},
   "outputs": [],
   "source": [
    "eqs = [  sum( [ lam[i] * ( -u[i][a] + k[i][a] ) for i in players ] )  for a in pures  ]"
   ]
  },
  {
   "cell_type": "code",
   "execution_count": 1513,
   "id": "fc2c106a-7b69-4d7d-a9e4-03304f34096f",
   "metadata": {},
   "outputs": [
    {
     "data": {
      "text/plain": [
       "[lambda1*(alpha1 + 8.5) + lambda2*(beta1 - 1.0),\n",
       " lambda1*(alpha2 + 9.5) + lambda2*(beta1 - 0.999999999999999),\n",
       " lambda1*(alpha3 - 15.0) + lambda2*(beta1 + 10.0),\n",
       " lambda1*(alpha4 + 2.5) + lambda2*(beta1 + 4.0),\n",
       " lambda1*(alpha5 - 11.5) + lambda2*(beta1 + 8.0),\n",
       " lambda1*(alpha6 + 8.0) + lambda2*(beta1 + 3),\n",
       " lambda1*(alpha1 - 3.0) + lambda2*(beta2 + 3),\n",
       " lambda1*(alpha2 - 2.0) + lambda2*(beta2 + 3),\n",
       " beta2*lambda2 + lambda1*(alpha3 - 5.5),\n",
       " lambda1*(alpha4 + 6.0) + lambda2*(beta2 - 2),\n",
       " beta2*lambda2 + lambda1*(alpha5 - 5.0),\n",
       " lambda1*(alpha6 + 11.5) + lambda2*(beta2 - 3),\n",
       " lambda1*(alpha1 - 2.5) + lambda2*(beta3 + 3),\n",
       " lambda1*(alpha2 - 1.5) + lambda2*(beta3 + 3),\n",
       " lambda1*(alpha3 - 0.5) + lambda2*(beta3 - 3),\n",
       " beta3*lambda2 + lambda1*(alpha4 + 3.5),\n",
       " lambda1*(alpha5 - 1.5) + lambda2*(beta3 - 2),\n",
       " lambda1*(alpha6 + 4.5) + lambda2*(beta3 + 2),\n",
       " beta4*lambda2 + lambda1*(alpha1 + 2),\n",
       " beta4*lambda2 + lambda1*(alpha2 + 3),\n",
       " lambda1*(alpha3 - 2) + lambda2*(beta4 - 2),\n",
       " lambda1*(alpha4 - 1) + lambda2*(beta4 + 3),\n",
       " lambda1*(alpha5 - 3) + lambda2*(beta4 - 1),\n",
       " lambda1*(alpha6 + 3) + lambda2*(beta4 + 3)]"
      ]
     },
     "execution_count": 1513,
     "metadata": {},
     "output_type": "execute_result"
    }
   ],
   "source": [
    "eqs"
   ]
  },
  {
   "cell_type": "code",
   "execution_count": 1514,
   "id": "40094d64-90c4-4dec-8b06-1b015fe72554",
   "metadata": {},
   "outputs": [],
   "source": [
    "sol = nonlinsolve(eqs, dofs)"
   ]
  },
  {
   "cell_type": "code",
   "execution_count": 1515,
   "id": "16f9104d-d73d-433c-bc3e-01490521d82e",
   "metadata": {},
   "outputs": [
    {
     "data": {
      "text/plain": [
       "[lambda1,\n",
       " lambda2,\n",
       " alpha1,\n",
       " alpha2,\n",
       " alpha3,\n",
       " alpha4,\n",
       " alpha5,\n",
       " alpha6,\n",
       " beta1,\n",
       " beta2,\n",
       " beta3,\n",
       " beta4]"
      ]
     },
     "execution_count": 1515,
     "metadata": {},
     "output_type": "execute_result"
    }
   ],
   "source": [
    "dofs"
   ]
  },
  {
   "cell_type": "code",
   "execution_count": 1516,
   "id": "a5b6de26-fd92-40e4-92d9-cf40af6e013f",
   "metadata": {},
   "outputs": [
    {
     "data": {
      "text/latex": [
       "$\\displaystyle \\left\\{\\left( 0, \\  0, \\  \\text{NaN}, \\  \\text{NaN}, \\  \\text{NaN}, \\  \\text{NaN}, \\  \\text{NaN}, \\  \\text{NaN}, \\  \\text{NaN}, \\  \\beta_{2}, \\  \\beta_{4}, \\  \\beta_{4}\\right), \\left( 0, \\  0, \\  \\text{NaN}, \\  \\text{NaN}, \\  \\text{NaN}, \\  \\text{NaN}, \\  \\text{NaN}, \\  \\text{NaN}, \\  \\beta_{1}, \\  \\beta_{2}, \\  \\beta_{4}, \\  \\beta_{4}\\right), \\left( 0, \\  0, \\  \\text{NaN}, \\  \\text{NaN}, \\  \\text{NaN}, \\  \\text{NaN}, \\  \\text{NaN}, \\  \\alpha_{6}, \\  \\beta_{1}, \\  \\beta_{2}, \\  \\beta_{4}, \\  \\beta_{4}\\right), \\left( 0, \\  0, \\  \\text{NaN}, \\  \\text{NaN}, \\  \\text{NaN}, \\  \\text{NaN}, \\  \\alpha_{5}, \\  \\alpha_{6}, \\  \\beta_{1}, \\  \\beta_{2}, \\  \\beta_{4}, \\  \\beta_{4}\\right), \\left( 0, \\  0, \\  \\text{NaN}, \\  \\text{NaN}, \\  \\text{NaN}, \\  \\alpha_{4}, \\  \\alpha_{5}, \\  \\alpha_{6}, \\  \\beta_{1}, \\  \\beta_{2}, \\  \\beta_{4}, \\  \\beta_{4}\\right), \\left( 0, \\  0, \\  \\text{NaN}, \\  \\text{NaN}, \\  \\alpha_{3}, \\  \\alpha_{4}, \\  \\alpha_{5}, \\  \\alpha_{6}, \\  \\beta_{1}, \\  \\beta_{2}, \\  \\beta_{4}, \\  \\beta_{4}\\right), \\left( 0, \\  0, \\  \\text{NaN}, \\  \\alpha_{2}, \\  \\alpha_{3}, \\  \\alpha_{4}, \\  \\alpha_{5}, \\  \\alpha_{6}, \\  \\beta_{1}, \\  \\beta_{2}, \\  \\beta_{4}, \\  \\beta_{4}\\right), \\left( 0, \\  0, \\  \\alpha_{1}, \\  \\alpha_{2}, \\  \\alpha_{3}, \\  \\alpha_{4}, \\  \\alpha_{5}, \\  \\alpha_{6}, \\  \\beta_{1}, \\  \\beta_{2}, \\  \\beta_{3}, \\  \\beta_{4}\\right), \\left( 0, \\  0, \\  \\alpha_{1}, \\  \\alpha_{2}, \\  \\alpha_{3}, \\  \\alpha_{4}, \\  \\alpha_{5}, \\  \\alpha_{6}, \\  \\beta_{1}, \\  \\beta_{2}, \\  \\beta_{4}, \\  \\beta_{4}\\right), \\left( 0.666666666666667 \\lambda_{2}, \\  \\lambda_{2}, \\  - \\frac{1.5 \\beta_{4} \\lambda_{2} + 2.0 \\lambda_{2}}{\\lambda_{2}}, \\  - \\frac{1.5 \\beta_{4} \\lambda_{2} + 3.0 \\lambda_{2}}{\\lambda_{2}}, \\  - \\frac{1.5 \\beta_{4} \\lambda_{2} - 5.0 \\lambda_{2}}{\\lambda_{2}}, \\  - \\frac{1.5 \\beta_{4} \\lambda_{2} + 3.5 \\lambda_{2}}{\\lambda_{2}}, \\  - \\frac{1.5 \\beta_{4} \\lambda_{2} - 4.5 \\lambda_{2}}{\\lambda_{2}}, \\  - \\frac{1.5 \\beta_{4} \\lambda_{2} + 7.5 \\lambda_{2}}{\\lambda_{2}}, \\  - \\frac{- \\beta_{4} \\lambda_{2} + 3.33333333333333 \\lambda_{2}}{\\lambda_{2}}, \\  - \\frac{- \\beta_{4} \\lambda_{2} - 0.333333333333333 \\lambda_{2}}{\\lambda_{2}}, \\  \\beta_{4}, \\  \\beta_{4}\\right), \\left( 0.666666666666667 \\lambda_{2}, \\  \\lambda_{2}, \\  - \\frac{1.5 \\beta_{4} \\lambda_{2} + 2.0 \\lambda_{2}}{\\lambda_{2}}, \\  - \\frac{1.5 \\beta_{4} \\lambda_{2} + 3.0 \\lambda_{2}}{\\lambda_{2}}, \\  - \\frac{1.5 \\beta_{4} \\lambda_{2} - 5.0 \\lambda_{2}}{\\lambda_{2}}, \\  - \\frac{1.5 \\beta_{4} \\lambda_{2} + 3.5 \\lambda_{2}}{\\lambda_{2}}, \\  - \\frac{1.5 \\beta_{4} \\lambda_{2} - 4.5 \\lambda_{2}}{\\lambda_{2}}, \\  - \\frac{1.5 \\beta_{4} \\lambda_{2} + 7.5 \\lambda_{2}}{\\lambda_{2}}, \\  - \\frac{- \\beta_{4} \\lambda_{2} + 3.33333333333333 \\lambda_{2}}{\\lambda_{2}}, \\  \\frac{\\beta_{4} \\lambda_{2} + 0.333333333333333 \\lambda_{2}}{\\lambda_{2}}, \\  \\beta_{4}, \\  \\beta_{4}\\right), \\left( 0.666666666666667 \\lambda_{2}, \\  \\lambda_{2}, \\  - \\frac{1.5 \\beta_{4} \\lambda_{2} + 2.0 \\lambda_{2}}{\\lambda_{2}}, \\  - \\frac{1.5 \\beta_{4} \\lambda_{2} + 3.0 \\lambda_{2}}{\\lambda_{2}}, \\  - \\frac{1.5 \\beta_{4} \\lambda_{2} - 5.0 \\lambda_{2}}{\\lambda_{2}}, \\  - \\frac{1.5 \\beta_{4} \\lambda_{2} + 3.5 \\lambda_{2}}{\\lambda_{2}}, \\  - \\frac{1.5 \\beta_{4} \\lambda_{2} - 4.5 \\lambda_{2}}{\\lambda_{2}}, \\  - \\frac{1.5 \\beta_{4} \\lambda_{2} + 7.5 \\lambda_{2}}{\\lambda_{2}}, \\  \\frac{\\beta_{4} \\lambda_{2} - 3.33333333333333 \\lambda_{2}}{\\lambda_{2}}, \\  - \\frac{- \\beta_{4} \\lambda_{2} - 0.333333333333333 \\lambda_{2}}{\\lambda_{2}}, \\  \\beta_{4}, \\  \\beta_{4}\\right), \\left( 0.666666666666667 \\lambda_{2}, \\  \\lambda_{2}, \\  - \\frac{1.5 \\beta_{4} \\lambda_{2} + 2.0 \\lambda_{2}}{\\lambda_{2}}, \\  - \\frac{1.5 \\beta_{4} \\lambda_{2} + 3.0 \\lambda_{2}}{\\lambda_{2}}, \\  - \\frac{1.5 \\beta_{4} \\lambda_{2} - 5.0 \\lambda_{2}}{\\lambda_{2}}, \\  - \\frac{1.5 \\beta_{4} \\lambda_{2} + 3.5 \\lambda_{2}}{\\lambda_{2}}, \\  - \\frac{1.5 \\beta_{4} \\lambda_{2} - 4.5 \\lambda_{2}}{\\lambda_{2}}, \\  - \\frac{1.5 \\beta_{4} \\lambda_{2} + 7.5 \\lambda_{2}}{\\lambda_{2}}, \\  \\frac{\\beta_{4} \\lambda_{2} - 3.33333333333333 \\lambda_{2}}{\\lambda_{2}}, \\  \\frac{\\beta_{4} \\lambda_{2} + 0.333333333333333 \\lambda_{2}}{\\lambda_{2}}, \\  \\beta_{4}, \\  \\beta_{4}\\right)\\right\\}$"
      ],
      "text/plain": [
       "{(0, 0, nan, nan, nan, nan, nan, nan, nan, beta2, beta4, beta4), (0, 0, nan, nan, nan, nan, nan, nan, beta1, beta2, beta4, beta4), (0, 0, nan, nan, nan, nan, nan, alpha6, beta1, beta2, beta4, beta4), (0, 0, nan, nan, nan, nan, alpha5, alpha6, beta1, beta2, beta4, beta4), (0, 0, nan, nan, nan, alpha4, alpha5, alpha6, beta1, beta2, beta4, beta4), (0, 0, nan, nan, alpha3, alpha4, alpha5, alpha6, beta1, beta2, beta4, beta4), (0, 0, nan, alpha2, alpha3, alpha4, alpha5, alpha6, beta1, beta2, beta4, beta4), (0, 0, alpha1, alpha2, alpha3, alpha4, alpha5, alpha6, beta1, beta2, beta3, beta4), (0, 0, alpha1, alpha2, alpha3, alpha4, alpha5, alpha6, beta1, beta2, beta4, beta4), (0.666666666666667*lambda2, lambda2, -(1.5*beta4*lambda2 + 2.0*lambda2)/lambda2, -(1.5*beta4*lambda2 + 3.0*lambda2)/lambda2, -(1.5*beta4*lambda2 - 5.0*lambda2)/lambda2, -(1.5*beta4*lambda2 + 3.5*lambda2)/lambda2, -(1.5*beta4*lambda2 - 4.5*lambda2)/lambda2, -(1.5*beta4*lambda2 + 7.5*lambda2)/lambda2, -(-beta4*lambda2 + 3.33333333333333*lambda2)/lambda2, -(-beta4*lambda2 - 0.333333333333333*lambda2)/lambda2, beta4, beta4), (0.666666666666667*lambda2, lambda2, -(1.5*beta4*lambda2 + 2.0*lambda2)/lambda2, -(1.5*beta4*lambda2 + 3.0*lambda2)/lambda2, -(1.5*beta4*lambda2 - 5.0*lambda2)/lambda2, -(1.5*beta4*lambda2 + 3.5*lambda2)/lambda2, -(1.5*beta4*lambda2 - 4.5*lambda2)/lambda2, -(1.5*beta4*lambda2 + 7.5*lambda2)/lambda2, -(-beta4*lambda2 + 3.33333333333333*lambda2)/lambda2, (beta4*lambda2 + 0.333333333333333*lambda2)/lambda2, beta4, beta4), (0.666666666666667*lambda2, lambda2, -(1.5*beta4*lambda2 + 2.0*lambda2)/lambda2, -(1.5*beta4*lambda2 + 3.0*lambda2)/lambda2, -(1.5*beta4*lambda2 - 5.0*lambda2)/lambda2, -(1.5*beta4*lambda2 + 3.5*lambda2)/lambda2, -(1.5*beta4*lambda2 - 4.5*lambda2)/lambda2, -(1.5*beta4*lambda2 + 7.5*lambda2)/lambda2, (beta4*lambda2 - 3.33333333333333*lambda2)/lambda2, -(-beta4*lambda2 - 0.333333333333333*lambda2)/lambda2, beta4, beta4), (0.666666666666667*lambda2, lambda2, -(1.5*beta4*lambda2 + 2.0*lambda2)/lambda2, -(1.5*beta4*lambda2 + 3.0*lambda2)/lambda2, -(1.5*beta4*lambda2 - 5.0*lambda2)/lambda2, -(1.5*beta4*lambda2 + 3.5*lambda2)/lambda2, -(1.5*beta4*lambda2 - 4.5*lambda2)/lambda2, -(1.5*beta4*lambda2 + 7.5*lambda2)/lambda2, (beta4*lambda2 - 3.33333333333333*lambda2)/lambda2, (beta4*lambda2 + 0.333333333333333*lambda2)/lambda2, beta4, beta4)}"
      ]
     },
     "execution_count": 1516,
     "metadata": {},
     "output_type": "execute_result"
    }
   ],
   "source": [
    "# select sols with first two entries, lambda1 and lambda2, non-zero (if exists\n",
    "sol"
   ]
  },
  {
   "cell_type": "code",
   "execution_count": 1517,
   "id": "971f11d1-26e8-408d-b606-ce2355b41047",
   "metadata": {},
   "outputs": [],
   "source": [
    "extracted_sol = list(list(sol)[-1])"
   ]
  },
  {
   "cell_type": "code",
   "execution_count": 1518,
   "id": "2fc0ac6f-0059-4fa6-9151-9db7b09e5616",
   "metadata": {},
   "outputs": [
    {
     "data": {
      "text/plain": [
       "[0.666666666666667*lambda2,\n",
       " lambda2,\n",
       " -(1.5*beta4*lambda2 + 2.0*lambda2)/lambda2,\n",
       " -(1.5*beta4*lambda2 + 3.0*lambda2)/lambda2,\n",
       " -(1.5*beta4*lambda2 - 5.0*lambda2)/lambda2,\n",
       " -(1.5*beta4*lambda2 + 3.5*lambda2)/lambda2,\n",
       " -(1.5*beta4*lambda2 - 4.5*lambda2)/lambda2,\n",
       " -(1.5*beta4*lambda2 + 7.5*lambda2)/lambda2,\n",
       " -(-beta4*lambda2 + 3.33333333333333*lambda2)/lambda2,\n",
       " -(-beta4*lambda2 - 0.333333333333333*lambda2)/lambda2,\n",
       " beta4,\n",
       " beta4]"
      ]
     },
     "execution_count": 1518,
     "metadata": {},
     "output_type": "execute_result"
    }
   ],
   "source": [
    "extracted_sol"
   ]
  },
  {
   "cell_type": "code",
   "execution_count": 1519,
   "id": "c02ce821-1aef-4d69-8285-d820f174ca69",
   "metadata": {},
   "outputs": [],
   "source": [
    "sol_dict = dict(zip(dofs, extracted_sol))"
   ]
  },
  {
   "cell_type": "code",
   "execution_count": 1520,
   "id": "39d1a96e-704a-408d-b070-e18c16ba0fe7",
   "metadata": {},
   "outputs": [
    {
     "data": {
      "text/plain": [
       "{lambda1: 0.666666666666667*lambda2,\n",
       " lambda2: lambda2,\n",
       " alpha1: -(1.5*beta4*lambda2 + 2.0*lambda2)/lambda2,\n",
       " alpha2: -(1.5*beta4*lambda2 + 3.0*lambda2)/lambda2,\n",
       " alpha3: -(1.5*beta4*lambda2 - 5.0*lambda2)/lambda2,\n",
       " alpha4: -(1.5*beta4*lambda2 + 3.5*lambda2)/lambda2,\n",
       " alpha5: -(1.5*beta4*lambda2 - 4.5*lambda2)/lambda2,\n",
       " alpha6: -(1.5*beta4*lambda2 + 7.5*lambda2)/lambda2,\n",
       " beta1: -(-beta4*lambda2 + 3.33333333333333*lambda2)/lambda2,\n",
       " beta2: -(-beta4*lambda2 - 0.333333333333333*lambda2)/lambda2,\n",
       " beta3: beta4,\n",
       " beta4: beta4}"
      ]
     },
     "execution_count": 1520,
     "metadata": {},
     "output_type": "execute_result"
    }
   ],
   "source": [
    "sol_dict"
   ]
  },
  {
   "cell_type": "code",
   "execution_count": 1521,
   "id": "417831e0-5f84-43e5-a67d-445230c6ef5b",
   "metadata": {},
   "outputs": [],
   "source": [
    "# fix remaining dofs; to avoid generating zero lambda, generate positive\n",
    "fix_remaining_dofs = dict(zip(dofs, np.random.randint(1, 5, numDofs)))"
   ]
  },
  {
   "cell_type": "code",
   "execution_count": 1522,
   "id": "e66bd83e-ca13-43d3-9420-9f2b62271d16",
   "metadata": {},
   "outputs": [
    {
     "data": {
      "text/plain": [
       "{lambda1: 3,\n",
       " lambda2: 3,\n",
       " alpha1: 4,\n",
       " alpha2: 4,\n",
       " alpha3: 3,\n",
       " alpha4: 2,\n",
       " alpha5: 3,\n",
       " alpha6: 1,\n",
       " beta1: 4,\n",
       " beta2: 2,\n",
       " beta3: 3,\n",
       " beta4: 1}"
      ]
     },
     "execution_count": 1522,
     "metadata": {},
     "output_type": "execute_result"
    }
   ],
   "source": [
    "fix_remaining_dofs"
   ]
  },
  {
   "cell_type": "code",
   "execution_count": 1523,
   "id": "518dc722-bcc8-4787-afcd-7bebf2a8aa99",
   "metadata": {},
   "outputs": [],
   "source": [
    "# fix remaining dofs to random number\n",
    "sol_dict_instance = { key : sol_dict[key].subs(fix_remaining_dofs) for key in sol_dict}"
   ]
  },
  {
   "cell_type": "code",
   "execution_count": 1524,
   "id": "60d82b25-4372-4045-9dd8-04e41acec32f",
   "metadata": {},
   "outputs": [
    {
     "data": {
      "text/plain": [
       "{lambda1: 2.00000000000000,\n",
       " lambda2: 3,\n",
       " alpha1: -3.50000000000000,\n",
       " alpha2: -4.50000000000000,\n",
       " alpha3: 3.50000000000000,\n",
       " alpha4: -5.00000000000000,\n",
       " alpha5: 3.00000000000000,\n",
       " alpha6: -9.00000000000000,\n",
       " beta1: -2.33333333333333,\n",
       " beta2: 1.33333333333333,\n",
       " beta3: 1,\n",
       " beta4: 1}"
      ]
     },
     "execution_count": 1524,
     "metadata": {},
     "output_type": "execute_result"
    }
   ],
   "source": [
    "sol_dict_instance"
   ]
  },
  {
   "cell_type": "code",
   "execution_count": 1525,
   "id": "19af6445-bf22-4f0f-840e-5360ab54ee97",
   "metadata": {},
   "outputs": [
    {
     "data": {
      "text/plain": [
       "{('a11', 'a21'): alpha1,\n",
       " ('a11', 'a22'): alpha2,\n",
       " ('a11', 'a23'): alpha3,\n",
       " ('a11', 'a24'): alpha4,\n",
       " ('a11', 'a25'): alpha5,\n",
       " ('a11', 'a26'): alpha6,\n",
       " ('a12', 'a21'): alpha1,\n",
       " ('a12', 'a22'): alpha2,\n",
       " ('a12', 'a23'): alpha3,\n",
       " ('a12', 'a24'): alpha4,\n",
       " ('a12', 'a25'): alpha5,\n",
       " ('a12', 'a26'): alpha6,\n",
       " ('a13', 'a21'): alpha1,\n",
       " ('a13', 'a22'): alpha2,\n",
       " ('a13', 'a23'): alpha3,\n",
       " ('a13', 'a24'): alpha4,\n",
       " ('a13', 'a25'): alpha5,\n",
       " ('a13', 'a26'): alpha6,\n",
       " ('a14', 'a21'): alpha1,\n",
       " ('a14', 'a22'): alpha2,\n",
       " ('a14', 'a23'): alpha3,\n",
       " ('a14', 'a24'): alpha4,\n",
       " ('a14', 'a25'): alpha5,\n",
       " ('a14', 'a26'): alpha6}"
      ]
     },
     "execution_count": 1525,
     "metadata": {},
     "output_type": "execute_result"
    }
   ],
   "source": [
    "k1"
   ]
  },
  {
   "cell_type": "code",
   "execution_count": 1526,
   "id": "dbf14160-6648-4fff-a2c2-bd0d8ed7321c",
   "metadata": {},
   "outputs": [
    {
     "data": {
      "text/plain": [
       "{('a11', 'a21'): beta1,\n",
       " ('a11', 'a22'): beta1,\n",
       " ('a11', 'a23'): beta1,\n",
       " ('a11', 'a24'): beta1,\n",
       " ('a11', 'a25'): beta1,\n",
       " ('a11', 'a26'): beta1,\n",
       " ('a12', 'a21'): beta2,\n",
       " ('a12', 'a22'): beta2,\n",
       " ('a12', 'a23'): beta2,\n",
       " ('a12', 'a24'): beta2,\n",
       " ('a12', 'a25'): beta2,\n",
       " ('a12', 'a26'): beta2,\n",
       " ('a13', 'a21'): beta3,\n",
       " ('a13', 'a22'): beta3,\n",
       " ('a13', 'a23'): beta3,\n",
       " ('a13', 'a24'): beta3,\n",
       " ('a13', 'a25'): beta3,\n",
       " ('a13', 'a26'): beta3,\n",
       " ('a14', 'a21'): beta4,\n",
       " ('a14', 'a22'): beta4,\n",
       " ('a14', 'a23'): beta4,\n",
       " ('a14', 'a24'): beta4,\n",
       " ('a14', 'a25'): beta4,\n",
       " ('a14', 'a26'): beta4}"
      ]
     },
     "execution_count": 1526,
     "metadata": {},
     "output_type": "execute_result"
    }
   ],
   "source": [
    "k2"
   ]
  },
  {
   "cell_type": "code",
   "execution_count": 1527,
   "id": "4887a45a-7f38-4569-878b-5c87b724ea7a",
   "metadata": {},
   "outputs": [
    {
     "data": {
      "text/plain": [
       "[lambda1, lambda2]"
      ]
     },
     "execution_count": 1527,
     "metadata": {},
     "output_type": "execute_result"
    }
   ],
   "source": [
    "lam"
   ]
  },
  {
   "cell_type": "code",
   "execution_count": 1528,
   "id": "c1510456-d20a-41dd-8e15-357918dd3b18",
   "metadata": {},
   "outputs": [],
   "source": [
    "def replace_in_dict(target_dict, sol_dict):\n",
    "    return { key : target_dict[key].subs(sol_dict) for key in target_dict }"
   ]
  },
  {
   "cell_type": "code",
   "execution_count": 1529,
   "id": "7ce75350-c85f-4479-bf0b-2f89d31ad9f9",
   "metadata": {},
   "outputs": [],
   "source": [
    "k1_sol = replace_in_dict(k1, sol_dict_instance)"
   ]
  },
  {
   "cell_type": "code",
   "execution_count": 1530,
   "id": "bd159549-dd87-4a41-9cb8-e6e195551f40",
   "metadata": {},
   "outputs": [
    {
     "data": {
      "text/plain": [
       "{('a11', 'a21'): -3.50000000000000,\n",
       " ('a11', 'a22'): -4.50000000000000,\n",
       " ('a11', 'a23'): 3.50000000000000,\n",
       " ('a11', 'a24'): -5.00000000000000,\n",
       " ('a11', 'a25'): 3.00000000000000,\n",
       " ('a11', 'a26'): -9.00000000000000,\n",
       " ('a12', 'a21'): -3.50000000000000,\n",
       " ('a12', 'a22'): -4.50000000000000,\n",
       " ('a12', 'a23'): 3.50000000000000,\n",
       " ('a12', 'a24'): -5.00000000000000,\n",
       " ('a12', 'a25'): 3.00000000000000,\n",
       " ('a12', 'a26'): -9.00000000000000,\n",
       " ('a13', 'a21'): -3.50000000000000,\n",
       " ('a13', 'a22'): -4.50000000000000,\n",
       " ('a13', 'a23'): 3.50000000000000,\n",
       " ('a13', 'a24'): -5.00000000000000,\n",
       " ('a13', 'a25'): 3.00000000000000,\n",
       " ('a13', 'a26'): -9.00000000000000,\n",
       " ('a14', 'a21'): -3.50000000000000,\n",
       " ('a14', 'a22'): -4.50000000000000,\n",
       " ('a14', 'a23'): 3.50000000000000,\n",
       " ('a14', 'a24'): -5.00000000000000,\n",
       " ('a14', 'a25'): 3.00000000000000,\n",
       " ('a14', 'a26'): -9.00000000000000}"
      ]
     },
     "execution_count": 1530,
     "metadata": {},
     "output_type": "execute_result"
    }
   ],
   "source": [
    "k1_sol"
   ]
  },
  {
   "cell_type": "code",
   "execution_count": 1531,
   "id": "f631a5eb-b7a9-47d1-bb68-aeb5d16754b5",
   "metadata": {},
   "outputs": [],
   "source": [
    "k2_sol = replace_in_dict(k2, sol_dict_instance)"
   ]
  },
  {
   "cell_type": "code",
   "execution_count": 1532,
   "id": "e9d07c5b-eb6b-4a78-9518-68e3dadd1c3d",
   "metadata": {},
   "outputs": [
    {
     "data": {
      "text/plain": [
       "{('a11', 'a21'): -2.33333333333333,\n",
       " ('a11', 'a22'): -2.33333333333333,\n",
       " ('a11', 'a23'): -2.33333333333333,\n",
       " ('a11', 'a24'): -2.33333333333333,\n",
       " ('a11', 'a25'): -2.33333333333333,\n",
       " ('a11', 'a26'): -2.33333333333333,\n",
       " ('a12', 'a21'): 1.33333333333333,\n",
       " ('a12', 'a22'): 1.33333333333333,\n",
       " ('a12', 'a23'): 1.33333333333333,\n",
       " ('a12', 'a24'): 1.33333333333333,\n",
       " ('a12', 'a25'): 1.33333333333333,\n",
       " ('a12', 'a26'): 1.33333333333333,\n",
       " ('a13', 'a21'): 1,\n",
       " ('a13', 'a22'): 1,\n",
       " ('a13', 'a23'): 1,\n",
       " ('a13', 'a24'): 1,\n",
       " ('a13', 'a25'): 1,\n",
       " ('a13', 'a26'): 1,\n",
       " ('a14', 'a21'): 1,\n",
       " ('a14', 'a22'): 1,\n",
       " ('a14', 'a23'): 1,\n",
       " ('a14', 'a24'): 1,\n",
       " ('a14', 'a25'): 1,\n",
       " ('a14', 'a26'): 1}"
      ]
     },
     "execution_count": 1532,
     "metadata": {},
     "output_type": "execute_result"
    }
   ],
   "source": [
    "k2_sol"
   ]
  },
  {
   "cell_type": "code",
   "execution_count": 1533,
   "id": "5679a0e7-13dd-434b-835d-95b68bbda91a",
   "metadata": {},
   "outputs": [],
   "source": [
    "k_sol = [k1_sol, k2_sol]"
   ]
  },
  {
   "cell_type": "code",
   "execution_count": 1534,
   "id": "3f681d54-622f-4cb9-80b1-cf993bd6a0b6",
   "metadata": {},
   "outputs": [
    {
     "data": {
      "text/plain": [
       "[2.00000000000000, 3]"
      ]
     },
     "execution_count": 1534,
     "metadata": {},
     "output_type": "execute_result"
    }
   ],
   "source": [
    "lam_sol = [l.subs(sol_dict_instance) for l in lam]\n",
    "lam_sol"
   ]
  },
  {
   "cell_type": "code",
   "execution_count": 1535,
   "id": "11534bf9-bd6f-4e46-b95f-b1ee004cc781",
   "metadata": {},
   "outputs": [
    {
     "data": {
      "text/plain": [
       "{('a11', 'a21'): -8.5,\n",
       " ('a11', 'a22'): -9.5,\n",
       " ('a11', 'a23'): 15.0,\n",
       " ('a11', 'a24'): -2.5,\n",
       " ('a11', 'a25'): 11.5,\n",
       " ('a11', 'a26'): -8.0,\n",
       " ('a12', 'a21'): 3.0,\n",
       " ('a12', 'a22'): 2.0,\n",
       " ('a12', 'a23'): 5.5,\n",
       " ('a12', 'a24'): -6.0,\n",
       " ('a12', 'a25'): 5.0,\n",
       " ('a12', 'a26'): -11.5,\n",
       " ('a13', 'a21'): 2.5,\n",
       " ('a13', 'a22'): 1.5,\n",
       " ('a13', 'a23'): 0.5,\n",
       " ('a13', 'a24'): -3.5,\n",
       " ('a13', 'a25'): 1.5,\n",
       " ('a13', 'a26'): -4.5,\n",
       " ('a14', 'a21'): -2,\n",
       " ('a14', 'a22'): -3,\n",
       " ('a14', 'a23'): 2,\n",
       " ('a14', 'a24'): 1,\n",
       " ('a14', 'a25'): 3,\n",
       " ('a14', 'a26'): -3}"
      ]
     },
     "execution_count": 1535,
     "metadata": {},
     "output_type": "execute_result"
    }
   ],
   "source": [
    "u1"
   ]
  },
  {
   "cell_type": "code",
   "execution_count": 1536,
   "id": "257c691a-58bf-494f-b7ec-630cdfbbc815",
   "metadata": {},
   "outputs": [
    {
     "data": {
      "text/plain": [
       "{('a11', 'a21'): 1.0,\n",
       " ('a11', 'a22'): 0.999999999999999,\n",
       " ('a11', 'a23'): -10.0,\n",
       " ('a11', 'a24'): -4.0,\n",
       " ('a11', 'a25'): -8.0,\n",
       " ('a11', 'a26'): -3,\n",
       " ('a12', 'a21'): -3,\n",
       " ('a12', 'a22'): -3,\n",
       " ('a12', 'a23'): 0,\n",
       " ('a12', 'a24'): 2,\n",
       " ('a12', 'a25'): 0,\n",
       " ('a12', 'a26'): 3,\n",
       " ('a13', 'a21'): -3,\n",
       " ('a13', 'a22'): -3,\n",
       " ('a13', 'a23'): 3,\n",
       " ('a13', 'a24'): 0,\n",
       " ('a13', 'a25'): 2,\n",
       " ('a13', 'a26'): -2,\n",
       " ('a14', 'a21'): 0,\n",
       " ('a14', 'a22'): 0,\n",
       " ('a14', 'a23'): 2,\n",
       " ('a14', 'a24'): -3,\n",
       " ('a14', 'a25'): 1,\n",
       " ('a14', 'a26'): -3}"
      ]
     },
     "execution_count": 1536,
     "metadata": {},
     "output_type": "execute_result"
    }
   ],
   "source": [
    "u2"
   ]
  },
  {
   "cell_type": "code",
   "execution_count": 1537,
   "id": "e1801655-5d0f-4027-83f8-f3ffd544ca10",
   "metadata": {},
   "outputs": [],
   "source": [
    "# Weighted zero-sum game\n",
    "z1 = { a: u1[a] - k1_sol[a] for a in pures }\n",
    "z2 = { a: u2[a] - k2_sol[a] for a in pures }\n",
    "\n",
    "z = [z1, z2]"
   ]
  },
  {
   "cell_type": "code",
   "execution_count": 1538,
   "id": "4c40616c-4811-4b5a-8d85-e6fffd1bc218",
   "metadata": {},
   "outputs": [
    {
     "data": {
      "text/plain": [
       "[{('a11', 'a21'): -5.00000000000000,\n",
       "  ('a11', 'a22'): -5.00000000000000,\n",
       "  ('a11', 'a23'): 11.5000000000000,\n",
       "  ('a11', 'a24'): 2.50000000000000,\n",
       "  ('a11', 'a25'): 8.50000000000000,\n",
       "  ('a11', 'a26'): 1.00000000000000,\n",
       "  ('a12', 'a21'): 6.50000000000000,\n",
       "  ('a12', 'a22'): 6.50000000000000,\n",
       "  ('a12', 'a23'): 2.00000000000000,\n",
       "  ('a12', 'a24'): -1.00000000000000,\n",
       "  ('a12', 'a25'): 2.00000000000000,\n",
       "  ('a12', 'a26'): -2.50000000000000,\n",
       "  ('a13', 'a21'): 6.00000000000000,\n",
       "  ('a13', 'a22'): 6.00000000000000,\n",
       "  ('a13', 'a23'): -3.00000000000000,\n",
       "  ('a13', 'a24'): 1.50000000000000,\n",
       "  ('a13', 'a25'): -1.50000000000000,\n",
       "  ('a13', 'a26'): 4.50000000000000,\n",
       "  ('a14', 'a21'): 1.50000000000000,\n",
       "  ('a14', 'a22'): 1.50000000000000,\n",
       "  ('a14', 'a23'): -1.50000000000000,\n",
       "  ('a14', 'a24'): 6.00000000000000,\n",
       "  ('a14', 'a25'): 0,\n",
       "  ('a14', 'a26'): 6.00000000000000},\n",
       " {('a11', 'a21'): 3.33333333333333,\n",
       "  ('a11', 'a22'): 3.33333333333333,\n",
       "  ('a11', 'a23'): -7.66666666666667,\n",
       "  ('a11', 'a24'): -1.66666666666667,\n",
       "  ('a11', 'a25'): -5.66666666666667,\n",
       "  ('a11', 'a26'): -0.666666666666667,\n",
       "  ('a12', 'a21'): -4.33333333333333,\n",
       "  ('a12', 'a22'): -4.33333333333333,\n",
       "  ('a12', 'a23'): -1.33333333333333,\n",
       "  ('a12', 'a24'): 0.666666666666667,\n",
       "  ('a12', 'a25'): -1.33333333333333,\n",
       "  ('a12', 'a26'): 1.66666666666667,\n",
       "  ('a13', 'a21'): -4,\n",
       "  ('a13', 'a22'): -4,\n",
       "  ('a13', 'a23'): 2,\n",
       "  ('a13', 'a24'): -1,\n",
       "  ('a13', 'a25'): 1,\n",
       "  ('a13', 'a26'): -3,\n",
       "  ('a14', 'a21'): -1,\n",
       "  ('a14', 'a22'): -1,\n",
       "  ('a14', 'a23'): 1,\n",
       "  ('a14', 'a24'): -4,\n",
       "  ('a14', 'a25'): 0,\n",
       "  ('a14', 'a26'): -4}]"
      ]
     },
     "execution_count": 1538,
     "metadata": {},
     "output_type": "execute_result"
    }
   ],
   "source": [
    "z"
   ]
  },
  {
   "cell_type": "code",
   "execution_count": 1539,
   "id": "70ab375b-4850-434e-babf-dfad968f4683",
   "metadata": {},
   "outputs": [],
   "source": [
    "# Assert is weighted zero-sum\n",
    "for a in pures:\n",
    "    weighted_sum = sum([ lam_sol[i] * z[i][a] for i in players ])\n",
    "    assert weighted_sum < 1e-12"
   ]
  },
  {
   "cell_type": "code",
   "execution_count": 1540,
   "id": "a9c5362d-4352-4659-9f06-565ea042ba5e",
   "metadata": {},
   "outputs": [
    {
     "name": "stdout",
     "output_type": "stream",
     "text": [
      "\n",
      "u = z + k\n",
      "\n",
      "Player 0\n",
      "u_0 = {('a11', 'a21'): -8.5, ('a11', 'a22'): -9.5, ('a11', 'a23'): 15.0, ('a11', 'a24'): -2.5, ('a11', 'a25'): 11.5, ('a11', 'a26'): -8.0, ('a12', 'a21'): 3.0, ('a12', 'a22'): 2.0, ('a12', 'a23'): 5.5, ('a12', 'a24'): -6.0, ('a12', 'a25'): 5.0, ('a12', 'a26'): -11.5, ('a13', 'a21'): 2.5, ('a13', 'a22'): 1.5, ('a13', 'a23'): 0.5, ('a13', 'a24'): -3.5, ('a13', 'a25'): 1.5, ('a13', 'a26'): -4.5, ('a14', 'a21'): -2, ('a14', 'a22'): -3, ('a14', 'a23'): 2, ('a14', 'a24'): 1, ('a14', 'a25'): 3, ('a14', 'a26'): -3}\n",
      "z_0 = {('a11', 'a21'): -5.00000000000000, ('a11', 'a22'): -5.00000000000000, ('a11', 'a23'): 11.5000000000000, ('a11', 'a24'): 2.50000000000000, ('a11', 'a25'): 8.50000000000000, ('a11', 'a26'): 1.00000000000000, ('a12', 'a21'): 6.50000000000000, ('a12', 'a22'): 6.50000000000000, ('a12', 'a23'): 2.00000000000000, ('a12', 'a24'): -1.00000000000000, ('a12', 'a25'): 2.00000000000000, ('a12', 'a26'): -2.50000000000000, ('a13', 'a21'): 6.00000000000000, ('a13', 'a22'): 6.00000000000000, ('a13', 'a23'): -3.00000000000000, ('a13', 'a24'): 1.50000000000000, ('a13', 'a25'): -1.50000000000000, ('a13', 'a26'): 4.50000000000000, ('a14', 'a21'): 1.50000000000000, ('a14', 'a22'): 1.50000000000000, ('a14', 'a23'): -1.50000000000000, ('a14', 'a24'): 6.00000000000000, ('a14', 'a25'): 0, ('a14', 'a26'): 6.00000000000000}\n",
      "k_0 = {('a11', 'a21'): -3.50000000000000, ('a11', 'a22'): -4.50000000000000, ('a11', 'a23'): 3.50000000000000, ('a11', 'a24'): -5.00000000000000, ('a11', 'a25'): 3.00000000000000, ('a11', 'a26'): -9.00000000000000, ('a12', 'a21'): -3.50000000000000, ('a12', 'a22'): -4.50000000000000, ('a12', 'a23'): 3.50000000000000, ('a12', 'a24'): -5.00000000000000, ('a12', 'a25'): 3.00000000000000, ('a12', 'a26'): -9.00000000000000, ('a13', 'a21'): -3.50000000000000, ('a13', 'a22'): -4.50000000000000, ('a13', 'a23'): 3.50000000000000, ('a13', 'a24'): -5.00000000000000, ('a13', 'a25'): 3.00000000000000, ('a13', 'a26'): -9.00000000000000, ('a14', 'a21'): -3.50000000000000, ('a14', 'a22'): -4.50000000000000, ('a14', 'a23'): 3.50000000000000, ('a14', 'a24'): -5.00000000000000, ('a14', 'a25'): 3.00000000000000, ('a14', 'a26'): -9.00000000000000}\n",
      "\n",
      "Player 1\n",
      "u_1 = {('a11', 'a21'): 1.0, ('a11', 'a22'): 0.999999999999999, ('a11', 'a23'): -10.0, ('a11', 'a24'): -4.0, ('a11', 'a25'): -8.0, ('a11', 'a26'): -3, ('a12', 'a21'): -3, ('a12', 'a22'): -3, ('a12', 'a23'): 0, ('a12', 'a24'): 2, ('a12', 'a25'): 0, ('a12', 'a26'): 3, ('a13', 'a21'): -3, ('a13', 'a22'): -3, ('a13', 'a23'): 3, ('a13', 'a24'): 0, ('a13', 'a25'): 2, ('a13', 'a26'): -2, ('a14', 'a21'): 0, ('a14', 'a22'): 0, ('a14', 'a23'): 2, ('a14', 'a24'): -3, ('a14', 'a25'): 1, ('a14', 'a26'): -3}\n",
      "z_1 = {('a11', 'a21'): 3.33333333333333, ('a11', 'a22'): 3.33333333333333, ('a11', 'a23'): -7.66666666666667, ('a11', 'a24'): -1.66666666666667, ('a11', 'a25'): -5.66666666666667, ('a11', 'a26'): -0.666666666666667, ('a12', 'a21'): -4.33333333333333, ('a12', 'a22'): -4.33333333333333, ('a12', 'a23'): -1.33333333333333, ('a12', 'a24'): 0.666666666666667, ('a12', 'a25'): -1.33333333333333, ('a12', 'a26'): 1.66666666666667, ('a13', 'a21'): -4, ('a13', 'a22'): -4, ('a13', 'a23'): 2, ('a13', 'a24'): -1, ('a13', 'a25'): 1, ('a13', 'a26'): -3, ('a14', 'a21'): -1, ('a14', 'a22'): -1, ('a14', 'a23'): 1, ('a14', 'a24'): -4, ('a14', 'a25'): 0, ('a14', 'a26'): -4}\n",
      "k_1 = {('a11', 'a21'): -2.33333333333333, ('a11', 'a22'): -2.33333333333333, ('a11', 'a23'): -2.33333333333333, ('a11', 'a24'): -2.33333333333333, ('a11', 'a25'): -2.33333333333333, ('a11', 'a26'): -2.33333333333333, ('a12', 'a21'): 1.33333333333333, ('a12', 'a22'): 1.33333333333333, ('a12', 'a23'): 1.33333333333333, ('a12', 'a24'): 1.33333333333333, ('a12', 'a25'): 1.33333333333333, ('a12', 'a26'): 1.33333333333333, ('a13', 'a21'): 1, ('a13', 'a22'): 1, ('a13', 'a23'): 1, ('a13', 'a24'): 1, ('a13', 'a25'): 1, ('a13', 'a26'): 1, ('a14', 'a21'): 1, ('a14', 'a22'): 1, ('a14', 'a23'): 1, ('a14', 'a24'): 1, ('a14', 'a25'): 1, ('a14', 'a26'): 1}\n",
      "\n",
      "Initial game game\n",
      "u_0 = {('a11', 'a21'): -8.5, ('a11', 'a22'): -9.5, ('a11', 'a23'): 15.0, ('a11', 'a24'): -2.5, ('a11', 'a25'): 11.5, ('a11', 'a26'): -8.0, ('a12', 'a21'): 3.0, ('a12', 'a22'): 2.0, ('a12', 'a23'): 5.5, ('a12', 'a24'): -6.0, ('a12', 'a25'): 5.0, ('a12', 'a26'): -11.5, ('a13', 'a21'): 2.5, ('a13', 'a22'): 1.5, ('a13', 'a23'): 0.5, ('a13', 'a24'): -3.5, ('a13', 'a25'): 1.5, ('a13', 'a26'): -4.5, ('a14', 'a21'): -2, ('a14', 'a22'): -3, ('a14', 'a23'): 2, ('a14', 'a24'): 1, ('a14', 'a25'): 3, ('a14', 'a26'): -3}\n",
      "u_1 = {('a11', 'a21'): 1.0, ('a11', 'a22'): 0.999999999999999, ('a11', 'a23'): -10.0, ('a11', 'a24'): -4.0, ('a11', 'a25'): -8.0, ('a11', 'a26'): -3, ('a12', 'a21'): -3, ('a12', 'a22'): -3, ('a12', 'a23'): 0, ('a12', 'a24'): 2, ('a12', 'a25'): 0, ('a12', 'a26'): 3, ('a13', 'a21'): -3, ('a13', 'a22'): -3, ('a13', 'a23'): 3, ('a13', 'a24'): 0, ('a13', 'a25'): 2, ('a13', 'a26'): -2, ('a14', 'a21'): 0, ('a14', 'a22'): 0, ('a14', 'a23'): 2, ('a14', 'a24'): -3, ('a14', 'a25'): 1, ('a14', 'a26'): -3}\n",
      "\n",
      "Weighted zero-sum game. Weights = [2.00000000000000, 3], i.e. 2.00000000000000 * z_0 + 3 * z_1 = 0\n",
      "\n",
      "z_0 = {('a11', 'a21'): -5.00000000000000, ('a11', 'a22'): -5.00000000000000, ('a11', 'a23'): 11.5000000000000, ('a11', 'a24'): 2.50000000000000, ('a11', 'a25'): 8.50000000000000, ('a11', 'a26'): 1.00000000000000, ('a12', 'a21'): 6.50000000000000, ('a12', 'a22'): 6.50000000000000, ('a12', 'a23'): 2.00000000000000, ('a12', 'a24'): -1.00000000000000, ('a12', 'a25'): 2.00000000000000, ('a12', 'a26'): -2.50000000000000, ('a13', 'a21'): 6.00000000000000, ('a13', 'a22'): 6.00000000000000, ('a13', 'a23'): -3.00000000000000, ('a13', 'a24'): 1.50000000000000, ('a13', 'a25'): -1.50000000000000, ('a13', 'a26'): 4.50000000000000, ('a14', 'a21'): 1.50000000000000, ('a14', 'a22'): 1.50000000000000, ('a14', 'a23'): -1.50000000000000, ('a14', 'a24'): 6.00000000000000, ('a14', 'a25'): 0, ('a14', 'a26'): 6.00000000000000}\n",
      "z_1 = {('a11', 'a21'): 3.33333333333333, ('a11', 'a22'): 3.33333333333333, ('a11', 'a23'): -7.66666666666667, ('a11', 'a24'): -1.66666666666667, ('a11', 'a25'): -5.66666666666667, ('a11', 'a26'): -0.666666666666667, ('a12', 'a21'): -4.33333333333333, ('a12', 'a22'): -4.33333333333333, ('a12', 'a23'): -1.33333333333333, ('a12', 'a24'): 0.666666666666667, ('a12', 'a25'): -1.33333333333333, ('a12', 'a26'): 1.66666666666667, ('a13', 'a21'): -4, ('a13', 'a22'): -4, ('a13', 'a23'): 2, ('a13', 'a24'): -1, ('a13', 'a25'): 1, ('a13', 'a26'): -3, ('a14', 'a21'): -1, ('a14', 'a22'): -1, ('a14', 'a23'): 1, ('a14', 'a24'): -4, ('a14', 'a25'): 0, ('a14', 'a26'): -4}\n",
      "\n",
      "Non-strategic game\n",
      "k_0 = {('a11', 'a21'): -3.50000000000000, ('a11', 'a22'): -4.50000000000000, ('a11', 'a23'): 3.50000000000000, ('a11', 'a24'): -5.00000000000000, ('a11', 'a25'): 3.00000000000000, ('a11', 'a26'): -9.00000000000000, ('a12', 'a21'): -3.50000000000000, ('a12', 'a22'): -4.50000000000000, ('a12', 'a23'): 3.50000000000000, ('a12', 'a24'): -5.00000000000000, ('a12', 'a25'): 3.00000000000000, ('a12', 'a26'): -9.00000000000000, ('a13', 'a21'): -3.50000000000000, ('a13', 'a22'): -4.50000000000000, ('a13', 'a23'): 3.50000000000000, ('a13', 'a24'): -5.00000000000000, ('a13', 'a25'): 3.00000000000000, ('a13', 'a26'): -9.00000000000000, ('a14', 'a21'): -3.50000000000000, ('a14', 'a22'): -4.50000000000000, ('a14', 'a23'): 3.50000000000000, ('a14', 'a24'): -5.00000000000000, ('a14', 'a25'): 3.00000000000000, ('a14', 'a26'): -9.00000000000000}\n",
      "k_1 = {('a11', 'a21'): -2.33333333333333, ('a11', 'a22'): -2.33333333333333, ('a11', 'a23'): -2.33333333333333, ('a11', 'a24'): -2.33333333333333, ('a11', 'a25'): -2.33333333333333, ('a11', 'a26'): -2.33333333333333, ('a12', 'a21'): 1.33333333333333, ('a12', 'a22'): 1.33333333333333, ('a12', 'a23'): 1.33333333333333, ('a12', 'a24'): 1.33333333333333, ('a12', 'a25'): 1.33333333333333, ('a12', 'a26'): 1.33333333333333, ('a13', 'a21'): 1, ('a13', 'a22'): 1, ('a13', 'a23'): 1, ('a13', 'a24'): 1, ('a13', 'a25'): 1, ('a13', 'a26'): 1, ('a14', 'a21'): 1, ('a14', 'a22'): 1, ('a14', 'a23'): 1, ('a14', 'a24'): 1, ('a14', 'a25'): 1, ('a14', 'a26'): 1}\n"
     ]
    }
   ],
   "source": [
    "print(f'\\nu = z + k')\n",
    "for i in players:\n",
    "\tprint(f'\\nPlayer {i}')\n",
    "\tprint(f'u_{i} = {u[i]}')\n",
    "\tprint(f'z_{i} = {z[i]}')\n",
    "\tprint(f'k_{i} = {k_sol[i]}')\n",
    "\n",
    "print('\\nInitial game game')\n",
    "for i in players:\n",
    "\tprint(f'u_{i} = {u[i]}')\n",
    "\n",
    "print(f'\\nWeighted zero-sum game. Weights = {lam_sol}, i.e. {lam_sol[0]} * z_0 + {lam_sol[1]} * z_1 = 0\\n',)\n",
    "for i in players:\n",
    "\tprint(f'z_{i} = {z[i]}')\n",
    "\n",
    "print('\\nNon-strategic game')\n",
    "for i in players:\n",
    "\tprint(f'k_{i} = {k_sol[i]}')"
   ]
  },
  {
   "cell_type": "markdown",
   "id": "e542cc66-6196-4415-b7e8-b780c2682a6c",
   "metadata": {},
   "source": []
  },
  {
   "cell_type": "markdown",
   "id": "292abe02",
   "metadata": {
    "jp-MarkdownHeadingCollapsed": true
   },
   "source": [
    "# End"
   ]
  }
 ],
 "metadata": {
  "kernelspec": {
   "display_name": "Python 3 (ipykernel)",
   "language": "python",
   "name": "python3"
  },
  "language_info": {
   "codemirror_mode": {
    "name": "ipython",
    "version": 3
   },
   "file_extension": ".py",
   "mimetype": "text/x-python",
   "name": "python",
   "nbconvert_exporter": "python",
   "pygments_lexer": "ipython3",
   "version": "3.12.3"
  }
 },
 "nbformat": 4,
 "nbformat_minor": 5
}
