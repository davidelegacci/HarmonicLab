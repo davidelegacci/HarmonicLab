{
 "cells": [
  {
   "cell_type": "code",
   "execution_count": 1,
   "id": "13956eb3-3756-43f7-997a-0114fdbcc235",
   "metadata": {},
   "outputs": [],
   "source": [
    "from sympy import *\n",
    "import itertools as it\n",
    "import numpy as np"
   ]
  },
  {
   "cell_type": "code",
   "execution_count": 2,
   "id": "60f4d655",
   "metadata": {},
   "outputs": [],
   "source": [
    "# Make symbols: methods to dynamically create as many as needed strings and Sympy symbols\n",
    "# Shift is starting index; default 0\n",
    "\n",
    "def make_strings(N,s, shift = 0):\n",
    "\tmy_strings = []\n",
    "\tfor i in range(shift, N + shift):\n",
    "\t    tmp_st = f'{s}{i}'\n",
    "\t    my_strings.append(tmp_st)\n",
    "\treturn my_strings\n",
    "\n",
    "def make_symbols(N,s, shift = 0):\n",
    "\tmy_symbols = []\n",
    "\tfor i in range(shift, N + shift):\n",
    "\t    tmp_st = f'{s}{i}'\n",
    "\t    globals()[tmp_st] = Symbol(tmp_st)\n",
    "\t    my_symbols.append(globals()[tmp_st])\n",
    "\treturn my_symbols"
   ]
  },
  {
   "cell_type": "markdown",
   "id": "a260385c-d254-478c-abad-54156b021118",
   "metadata": {},
   "source": [
    "# Generate harmonic game\n",
    "\n",
    "Given measure, find harmonic game"
   ]
  },
  {
   "cell_type": "markdown",
   "id": "ff3c29c8-f1cb-45f2-8906-56ff8c9858b8",
   "metadata": {},
   "source": [
    "# Parameters"
   ]
  },
  {
   "cell_type": "code",
   "execution_count": 3,
   "id": "cb87129a-e7fe-452c-8d2c-bc8422b3e617",
   "metadata": {},
   "outputs": [
    {
     "data": {
      "text/plain": [
       "[2, 2, 2]"
      ]
     },
     "execution_count": 3,
     "metadata": {},
     "output_type": "execute_result"
    }
   ],
   "source": [
    "# Game skeleton\n",
    "\n",
    "#numPlayers = 4\n",
    "\n",
    "#skeleton = np.random.randint(2, 6, numPlayers)\n",
    "\n",
    "skeleton = [2, 2, 2]\n",
    "skeleton"
   ]
  },
  {
   "cell_type": "code",
   "execution_count": 4,
   "id": "90f8d17d-d6a2-4b30-bf55-64a869a9009c",
   "metadata": {},
   "outputs": [],
   "source": [
    "# N\n",
    "numPlayers = len(skeleton)\n",
    "players = range(numPlayers)\n",
    "\n",
    "# -------------------------\n",
    "# Number of action profiles\n",
    "# -------------------------\n",
    "\n",
    "# A\n",
    "numPures = prod(skeleton)\n",
    "\n",
    "# List of A_{-i} = for each player, number of action profiles of other players\n",
    "numPuresMinus = [  int(numPures / skeleton[i]) for i in players ]\n",
    "\n",
    "# -------------------------\n",
    "# Number of payoff degrees of freedom\n",
    "# -------------------------\n",
    "\n",
    "# AN; number of payoff degrees of freedom\n",
    "numPays = numPlayers * numPures\n",
    "\n",
    "# sum_i A_i; number of harmonic measure dofs\n",
    "numMeas = sum(skeleton)"
   ]
  },
  {
   "cell_type": "code",
   "execution_count": 5,
   "id": "89324e17-2a67-403b-81e8-2d3317b533de",
   "metadata": {},
   "outputs": [],
   "source": [
    "# Pure actions: list of N lists, each with Ai elements; pure actions of each player\n",
    "\n",
    "#pures_play = [ make_strings(skeleton[i], f'a{i}', shift = 1) for i in players ]\n",
    "pures_play = [ ['T','B'], ['L','R'], ['A','P'] ]\n",
    "#pures_play = [ ['T','B'], ['L','R'] ]"
   ]
  },
  {
   "cell_type": "code",
   "execution_count": 6,
   "id": "2f60eaa9-8fd4-41ed-a1d9-247b572fb319",
   "metadata": {},
   "outputs": [
    {
     "data": {
      "text/plain": [
       "[['T', 'B'], ['L', 'R'], ['A', 'P']]"
      ]
     },
     "execution_count": 6,
     "metadata": {},
     "output_type": "execute_result"
    }
   ],
   "source": [
    "pures_play"
   ]
  },
  {
   "cell_type": "code",
   "execution_count": 7,
   "id": "f0ac537f-ec3b-4a94-b99c-05a6d506ca8a",
   "metadata": {},
   "outputs": [],
   "source": [
    "# Pure profiles; cartesian product of pure actions of each player\n",
    "# Returns one list with A = numPures elements; each element is a tuple of strings\n",
    "\n",
    "pures = list(it.product(*pures_play))"
   ]
  },
  {
   "cell_type": "code",
   "execution_count": 8,
   "id": "ea0fcc78-468d-42bf-b7c7-b0ba2efd4de1",
   "metadata": {},
   "outputs": [
    {
     "data": {
      "text/plain": [
       "[('T', 'L', 'A'),\n",
       " ('T', 'L', 'P'),\n",
       " ('T', 'R', 'A'),\n",
       " ('T', 'R', 'P'),\n",
       " ('B', 'L', 'A'),\n",
       " ('B', 'L', 'P'),\n",
       " ('B', 'R', 'A'),\n",
       " ('B', 'R', 'P')]"
      ]
     },
     "execution_count": 8,
     "metadata": {},
     "output_type": "execute_result"
    }
   ],
   "source": [
    "pures"
   ]
  },
  {
   "cell_type": "code",
   "execution_count": 9,
   "id": "dfd59f2a-19ae-4f77-8ca4-023d2eb637f3",
   "metadata": {},
   "outputs": [],
   "source": [
    "assert len(pures) == numPures"
   ]
  },
  {
   "cell_type": "markdown",
   "id": "a6ccacd1-b38a-4ac1-a725-ce9fe4ce4042",
   "metadata": {},
   "source": [
    "# Harmonic measure"
   ]
  },
  {
   "cell_type": "code",
   "execution_count": 10,
   "id": "77ee2b3c-dddd-40ea-85cf-0a2244cf4e0d",
   "metadata": {},
   "outputs": [
    {
     "data": {
      "text/plain": [
       "[[1, 1], [1, 1], [1, 1]]"
      ]
     },
     "execution_count": 10,
     "metadata": {},
     "output_type": "execute_result"
    }
   ],
   "source": [
    "# mu_values = [ np.random.randint(1, 5, skeleton[i]) for i in players]\n",
    "\n",
    "#mu_values = [  [1, 0], [1, 2] ]\n",
    "\n",
    "# mu_values = [  [2, 1], [3, 1], [4, 1] ]\n",
    "\n",
    "# mu_values = [  [1, 2], [1, 3], [1,4], [1, 2, 3]  ]\n",
    "\n",
    "mu_values = [  [1, 1], [1, 1], [1, 1] ]\n",
    "\n",
    "# mu_values = [ make_symbols(skeleton[i], f'mu{i}', shift = 1) for i in players ]\n",
    "\n",
    "\n",
    "# SYMBOLIC\n",
    "# mu_values = [ symbols('mu_T mu_B'), symbols('mu_L mu_R'), symbols('mu_A mu_P') ]\n",
    "\n",
    "mu_values"
   ]
  },
  {
   "cell_type": "code",
   "execution_count": 11,
   "id": "47987a3b-40d1-44c2-8c62-41814afa96b1",
   "metadata": {},
   "outputs": [
    {
     "data": {
      "text/plain": [
       "[{'T': 1, 'B': 1}, {'L': 1, 'R': 1}, {'A': 1, 'P': 1}]"
      ]
     },
     "execution_count": 11,
     "metadata": {},
     "output_type": "execute_result"
    }
   ],
   "source": [
    "# Pack mu in list of dicts\n",
    "\n",
    "mu = [   dict(zip( pures_play[i], mu_values[i] )) for i in players    ]\n",
    "mu"
   ]
  },
  {
   "cell_type": "code",
   "execution_count": 12,
   "id": "8f80c283-4b2e-42b7-ac41-4028244b1bdc",
   "metadata": {},
   "outputs": [
    {
     "data": {
      "text/plain": [
       "8"
      ]
     },
     "execution_count": 12,
     "metadata": {},
     "output_type": "execute_result"
    }
   ],
   "source": [
    "numPures"
   ]
  },
  {
   "cell_type": "code",
   "execution_count": 13,
   "id": "7b6863e0-eaee-4184-b93a-cf07ba7dcb45",
   "metadata": {},
   "outputs": [
    {
     "data": {
      "text/plain": [
       "[4, 4, 4]"
      ]
     },
     "execution_count": 13,
     "metadata": {},
     "output_type": "execute_result"
    }
   ],
   "source": [
    "numPuresMinus"
   ]
  },
  {
   "cell_type": "code",
   "execution_count": 14,
   "id": "d484d1a7-57bc-4b9d-a224-7c7f5c5c154d",
   "metadata": {},
   "outputs": [
    {
     "data": {
      "text/plain": [
       "24"
      ]
     },
     "execution_count": 14,
     "metadata": {},
     "output_type": "execute_result"
    }
   ],
   "source": [
    "numPays"
   ]
  },
  {
   "cell_type": "code",
   "execution_count": 15,
   "id": "c5e4bf53-ef31-489c-a1f9-31e53319515f",
   "metadata": {},
   "outputs": [
    {
     "data": {
      "text/plain": [
       "6"
      ]
     },
     "execution_count": 15,
     "metadata": {},
     "output_type": "execute_result"
    }
   ],
   "source": [
    "numMeas"
   ]
  },
  {
   "cell_type": "code",
   "execution_count": 16,
   "id": "4352335f-e0b2-4b81-b95a-08b788ecd13d",
   "metadata": {},
   "outputs": [],
   "source": [
    "def print_payoff(payoff_dict, payoff_symbol):\n",
    "    for i in players:\n",
    "        for a in pures:\n",
    "            print( f'{payoff_symbol}_{i}{a} = {payoff_dict[i][a]}' )\n",
    "        print()"
   ]
  },
  {
   "cell_type": "markdown",
   "id": "86c8aab7-730d-41ba-bf0b-0cacda506245",
   "metadata": {},
   "source": [
    "# Profiles of other players"
   ]
  },
  {
   "cell_type": "code",
   "execution_count": 17,
   "id": "c225d35e-abdc-4e9f-a500-8d17bc980cb6",
   "metadata": {},
   "outputs": [],
   "source": [
    "# Pure profiles of other players\n",
    "# Make list of N lists; the list pure_minus[i] contains the pure action profiles of players other than i\n",
    "# Build taking the cartesian product of pure actions of all players other than i\n",
    "# The size of the list pure_minus[i] is A_{-i} = \\prod_{j \\neq i} A_j\n",
    "\n",
    "pures_minus = [ list( it.product( *( pures_play[:i] + pures_play[i+1:] ) ) ) for i in players ]"
   ]
  },
  {
   "cell_type": "code",
   "execution_count": 18,
   "id": "428dd617-1938-494f-8342-df854e4a9ec4",
   "metadata": {},
   "outputs": [
    {
     "data": {
      "text/plain": [
       "[[('L', 'A'), ('L', 'P'), ('R', 'A'), ('R', 'P')],\n",
       " [('T', 'A'), ('T', 'P'), ('B', 'A'), ('B', 'P')],\n",
       " [('T', 'L'), ('T', 'R'), ('B', 'L'), ('B', 'R')]]"
      ]
     },
     "execution_count": 18,
     "metadata": {},
     "output_type": "execute_result"
    }
   ],
   "source": [
    "pures_minus"
   ]
  },
  {
   "cell_type": "code",
   "execution_count": 19,
   "id": "f97e0ae1-ad68-4de3-ad48-77af8627e9ef",
   "metadata": {},
   "outputs": [
    {
     "data": {
      "text/plain": [
       "[4, 4, 4]"
      ]
     },
     "execution_count": 19,
     "metadata": {},
     "output_type": "execute_result"
    }
   ],
   "source": [
    "numPuresMinus"
   ]
  },
  {
   "cell_type": "code",
   "execution_count": 20,
   "id": "dd1a4f70-3ebb-4255-8290-da6ebcdd9836",
   "metadata": {},
   "outputs": [],
   "source": [
    "for i in players:\n",
    "    assert len(pures_minus[i]) == numPuresMinus[i]"
   ]
  },
  {
   "cell_type": "markdown",
   "id": "c8b7bdae-e523-43f9-a9b7-9c8bce1914b6",
   "metadata": {},
   "source": [
    "# Make a"
   ]
  },
  {
   "cell_type": "code",
   "execution_count": 21,
   "id": "770e216c-80a2-4c09-8d22-2573dc3f46e5",
   "metadata": {},
   "outputs": [],
   "source": [
    "# Util to make (a_i, a_{-i}) given a_i and a_{-i} as tuple of strings (to be used as key for payoff dictionaries)\n",
    "def make_pure(ai, a_minus_i, i):\n",
    "    l = list(a_minus_i)\n",
    "    return tuple(l[:i] + [ai] + l[i:])"
   ]
  },
  {
   "cell_type": "code",
   "execution_count": 22,
   "id": "2a2ea4fc-d8ef-4d6d-9442-f206cc568795",
   "metadata": {},
   "outputs": [],
   "source": [
    "def split_pure(a, i):\n",
    "    \n",
    "    ai = a[i]\n",
    "\n",
    "    l = list(a)\n",
    "    a_minus_i = tuple( l[:i] + l[i+1:] )\n",
    "    return ai, a_minus_i"
   ]
  },
  {
   "cell_type": "code",
   "execution_count": 23,
   "id": "da36612c-714a-4d14-a161-942434afa021",
   "metadata": {},
   "outputs": [],
   "source": [
    "# check consistency\n",
    "for i in players:\n",
    "    for a in pures:\n",
    "        ai, a_minus_i = split_pure(a, i)\n",
    "        assert a == make_pure( ai, a_minus_i, i )"
   ]
  },
  {
   "cell_type": "markdown",
   "id": "aaed4957-305a-4d08-81b2-d1e9f8bee92f",
   "metadata": {},
   "source": [
    "# Harmonic payoff"
   ]
  },
  {
   "cell_type": "code",
   "execution_count": 24,
   "id": "1fd2c7db-3857-4b81-94d0-06778ea53d31",
   "metadata": {},
   "outputs": [
    {
     "data": {
      "text/plain": [
       "[[h01, h02, h03, h04, h05, h06, h07, h08],\n",
       " [h11, h12, h13, h14, h15, h16, h17, h18],\n",
       " [h21, h22, h23, h24, h25, h26, h27, h28]]"
      ]
     },
     "execution_count": 24,
     "metadata": {},
     "output_type": "execute_result"
    }
   ],
   "source": [
    "# harmonic payoff degrees of freedom; will build harmonic payoff h out of these\n",
    "\n",
    "# to be determined harmonic payoff of player i (as many as A)\n",
    "\n",
    "h_sym = [make_symbols(numPures, f'h{i}', shift = 1) for i in players]\n",
    "h_sym"
   ]
  },
  {
   "cell_type": "code",
   "execution_count": 25,
   "id": "9e1b082d-9c94-4736-bc3a-b2deb0339c9e",
   "metadata": {},
   "outputs": [
    {
     "data": {
      "text/plain": [
       "[{('T', 'L', 'A'): h01,\n",
       "  ('T', 'L', 'P'): h02,\n",
       "  ('T', 'R', 'A'): h03,\n",
       "  ('T', 'R', 'P'): h04,\n",
       "  ('B', 'L', 'A'): h05,\n",
       "  ('B', 'L', 'P'): h06,\n",
       "  ('B', 'R', 'A'): h07,\n",
       "  ('B', 'R', 'P'): h08},\n",
       " {('T', 'L', 'A'): h11,\n",
       "  ('T', 'L', 'P'): h12,\n",
       "  ('T', 'R', 'A'): h13,\n",
       "  ('T', 'R', 'P'): h14,\n",
       "  ('B', 'L', 'A'): h15,\n",
       "  ('B', 'L', 'P'): h16,\n",
       "  ('B', 'R', 'A'): h17,\n",
       "  ('B', 'R', 'P'): h18},\n",
       " {('T', 'L', 'A'): h21,\n",
       "  ('T', 'L', 'P'): h22,\n",
       "  ('T', 'R', 'A'): h23,\n",
       "  ('T', 'R', 'P'): h24,\n",
       "  ('B', 'L', 'A'): h25,\n",
       "  ('B', 'L', 'P'): h26,\n",
       "  ('B', 'R', 'A'): h27,\n",
       "  ('B', 'R', 'P'): h28}]"
      ]
     },
     "execution_count": 25,
     "metadata": {},
     "output_type": "execute_result"
    }
   ],
   "source": [
    "h = [  dict(zip(pures , h_sym[i] ))  for i in players]\n",
    "h"
   ]
  },
  {
   "cell_type": "code",
   "execution_count": 26,
   "id": "173beba3-f11a-4bfd-ae41-841917e59cc5",
   "metadata": {},
   "outputs": [
    {
     "data": {
      "text/plain": [
       "[('T', 'L', 'A'),\n",
       " ('T', 'L', 'P'),\n",
       " ('T', 'R', 'A'),\n",
       " ('T', 'R', 'P'),\n",
       " ('B', 'L', 'A'),\n",
       " ('B', 'L', 'P'),\n",
       " ('B', 'R', 'A'),\n",
       " ('B', 'R', 'P')]"
      ]
     },
     "execution_count": 26,
     "metadata": {},
     "output_type": "execute_result"
    }
   ],
   "source": [
    "pures"
   ]
  },
  {
   "cell_type": "code",
   "execution_count": 27,
   "id": "7578c8ea-1e09-4929-aff6-aa26f435d0a1",
   "metadata": {},
   "outputs": [],
   "source": [
    "def is_unidev(a, b):\n",
    "    if len(a) != len(b):\n",
    "        return False\n",
    "\n",
    "    differences = 0\n",
    "\n",
    "    for ai, bi in zip(a, b):\n",
    "        if ai != bi:\n",
    "            differences += 1\n",
    "            if differences > 1:\n",
    "                return False\n",
    "\n",
    "    return differences == 1"
   ]
  },
  {
   "cell_type": "code",
   "execution_count": 28,
   "id": "d0d92334-311b-431f-9784-f200b880f581",
   "metadata": {},
   "outputs": [
    {
     "name": "stdout",
     "output_type": "stream",
     "text": [
      "12\n",
      "(('T', 'L', 'A'), ('T', 'L', 'P'))\n",
      "(('T', 'L', 'A'), ('T', 'R', 'A'))\n",
      "(('T', 'L', 'A'), ('B', 'L', 'A'))\n",
      "(('T', 'L', 'P'), ('T', 'R', 'P'))\n",
      "(('T', 'L', 'P'), ('B', 'L', 'P'))\n",
      "(('T', 'R', 'A'), ('T', 'R', 'P'))\n",
      "(('T', 'R', 'A'), ('B', 'R', 'A'))\n",
      "(('T', 'R', 'P'), ('B', 'R', 'P'))\n",
      "(('B', 'L', 'A'), ('B', 'L', 'P'))\n",
      "(('B', 'L', 'A'), ('B', 'R', 'A'))\n",
      "(('B', 'L', 'P'), ('B', 'R', 'P'))\n",
      "(('B', 'R', 'A'), ('B', 'R', 'P'))\n"
     ]
    }
   ],
   "source": [
    "devs = [ ]\n",
    "for i, a in enumerate(pures):\n",
    "    for b in pures[i:]:\n",
    "        if is_unidev(a,b):\n",
    "            devs.append((a,b))\n",
    "\n",
    "print(len(devs))\n",
    "for d in devs:\n",
    "    print(d)"
   ]
  },
  {
   "cell_type": "code",
   "execution_count": 29,
   "id": "f0fb7d11-ae52-4d77-ad0a-121cdc4242ef",
   "metadata": {},
   "outputs": [],
   "source": [
    "def actor(d):\n",
    "    assert d in devs\n",
    "    a, b = d\n",
    "    i = 0\n",
    "    while a[i] == b[i]:\n",
    "        i += 1\n",
    "    return i"
   ]
  },
  {
   "cell_type": "code",
   "execution_count": 30,
   "id": "d47a6b41-84bd-442d-b17f-9627a08318b0",
   "metadata": {},
   "outputs": [
    {
     "name": "stdout",
     "output_type": "stream",
     "text": [
      "2\n",
      "1\n",
      "0\n",
      "1\n",
      "0\n",
      "2\n",
      "0\n",
      "0\n",
      "2\n",
      "1\n",
      "1\n",
      "2\n"
     ]
    }
   ],
   "source": [
    "for d in devs:\n",
    "    print(actor(d))"
   ]
  },
  {
   "cell_type": "code",
   "execution_count": 31,
   "id": "c8d74252-49ed-4683-a19e-4836ab9d9ee2",
   "metadata": {},
   "outputs": [],
   "source": [
    "# deviazioni\n",
    "dev_value = {}\n",
    "for d in devs:\n",
    "    a, b = d\n",
    "    i = actor(d)\n",
    "    dev_value[d] = h[i][a] - h[i][b]"
   ]
  },
  {
   "cell_type": "code",
   "execution_count": 32,
   "id": "b62b44ef-0070-4a03-b194-eb6c8f2c8cd8",
   "metadata": {},
   "outputs": [
    {
     "data": {
      "text/plain": [
       "{(('T', 'L', 'A'), ('T', 'L', 'P')): h21 - h22,\n",
       " (('T', 'L', 'A'), ('T', 'R', 'A')): h11 - h13,\n",
       " (('T', 'L', 'A'), ('B', 'L', 'A')): h01 - h05,\n",
       " (('T', 'L', 'P'), ('T', 'R', 'P')): h12 - h14,\n",
       " (('T', 'L', 'P'), ('B', 'L', 'P')): h02 - h06,\n",
       " (('T', 'R', 'A'), ('T', 'R', 'P')): h23 - h24,\n",
       " (('T', 'R', 'A'), ('B', 'R', 'A')): h03 - h07,\n",
       " (('T', 'R', 'P'), ('B', 'R', 'P')): h04 - h08,\n",
       " (('B', 'L', 'A'), ('B', 'L', 'P')): h25 - h26,\n",
       " (('B', 'L', 'A'), ('B', 'R', 'A')): h15 - h17,\n",
       " (('B', 'L', 'P'), ('B', 'R', 'P')): h16 - h18,\n",
       " (('B', 'R', 'A'), ('B', 'R', 'P')): h27 - h28}"
      ]
     },
     "execution_count": 32,
     "metadata": {},
     "output_type": "execute_result"
    }
   ],
   "source": [
    "dev_value"
   ]
  },
  {
   "cell_type": "code",
   "execution_count": 33,
   "id": "93fd7ec6-2d5d-4ff2-bcb9-74ed29c51519",
   "metadata": {},
   "outputs": [
    {
     "data": {
      "text/plain": [
       "(('T', 'L', 'A'), ('T', 'L', 'P'))"
      ]
     },
     "execution_count": 33,
     "metadata": {},
     "output_type": "execute_result"
    }
   ],
   "source": [
    "devs[0]"
   ]
  },
  {
   "cell_type": "code",
   "execution_count": 34,
   "id": "04cb68d6-8dde-4374-8591-6e7080d0c12b",
   "metadata": {},
   "outputs": [
    {
     "data": {
      "text/latex": [
       "$\\displaystyle h_{21} - h_{22}$"
      ],
      "text/plain": [
       "h21 - h22"
      ]
     },
     "execution_count": 34,
     "metadata": {},
     "output_type": "execute_result"
    }
   ],
   "source": [
    "dev_value[devs[0]]"
   ]
  },
  {
   "cell_type": "markdown",
   "id": "bc51e5b9-7650-4ba8-bba8-89482ba099b1",
   "metadata": {},
   "source": [
    "# System"
   ]
  },
  {
   "cell_type": "code",
   "execution_count": 35,
   "id": "4f73412c-df8e-4d3c-922c-6c3b322c0f7a",
   "metadata": {},
   "outputs": [
    {
     "data": {
      "text/plain": [
       "[('T', 'L', 'A'),\n",
       " ('T', 'L', 'P'),\n",
       " ('T', 'R', 'A'),\n",
       " ('T', 'R', 'P'),\n",
       " ('B', 'L', 'A'),\n",
       " ('B', 'L', 'P'),\n",
       " ('B', 'R', 'A'),\n",
       " ('B', 'R', 'P')]"
      ]
     },
     "execution_count": 35,
     "metadata": {},
     "output_type": "execute_result"
    }
   ],
   "source": [
    "pures"
   ]
  },
  {
   "cell_type": "code",
   "execution_count": 36,
   "id": "412a11a8-2c1b-4b07-969f-8a57b435c57c",
   "metadata": {},
   "outputs": [
    {
     "data": {
      "text/plain": [
       "[['T', 'B'], ['L', 'R'], ['A', 'P']]"
      ]
     },
     "execution_count": 36,
     "metadata": {},
     "output_type": "execute_result"
    }
   ],
   "source": [
    "pures_play"
   ]
  },
  {
   "cell_type": "code",
   "execution_count": 37,
   "id": "13613371-1f26-488d-a32c-c7d0e61e956d",
   "metadata": {},
   "outputs": [
    {
     "data": {
      "text/plain": [
       "[[('L', 'A'), ('L', 'P'), ('R', 'A'), ('R', 'P')],\n",
       " [('T', 'A'), ('T', 'P'), ('B', 'A'), ('B', 'P')],\n",
       " [('T', 'L'), ('T', 'R'), ('B', 'L'), ('B', 'R')]]"
      ]
     },
     "execution_count": 37,
     "metadata": {},
     "output_type": "execute_result"
    }
   ],
   "source": [
    "pures_minus"
   ]
  },
  {
   "cell_type": "code",
   "execution_count": 38,
   "id": "fdc5d244-fd60-4452-9d3e-ed87924a2050",
   "metadata": {},
   "outputs": [],
   "source": [
    "# --------------------------------\n",
    "# KEY: HARMONIC FUNCTION\n",
    "# --------------------------------\n",
    "def Hi(a, i):\n",
    "    ai, a_minus_i = split_pure(a, i)\n",
    "    return sum(   [   mu[i][bi] * ( h[i][a] - h[i][ make_pure(bi, a_minus_i, i) ] )    for bi in pures_play[i]   ]  )"
   ]
  },
  {
   "cell_type": "code",
   "execution_count": 39,
   "id": "036f0952-db01-4f87-875f-4d3a1bf78b12",
   "metadata": {},
   "outputs": [
    {
     "name": "stdout",
     "output_type": "stream",
     "text": [
      "2\n",
      "2\n",
      "2\n",
      "2\n",
      "2\n",
      "2\n"
     ]
    }
   ],
   "source": [
    "for i in players:\n",
    "    for bi in pures_play[i]:\n",
    "        print(mu[i][bi] + 1)"
   ]
  },
  {
   "cell_type": "code",
   "execution_count": 40,
   "id": "e723a64c-27f8-4a8a-90a2-4074bd852d8b",
   "metadata": {},
   "outputs": [
    {
     "name": "stdout",
     "output_type": "stream",
     "text": [
      "h01 - h05\n",
      "h02 - h06\n",
      "h03 - h07\n",
      "h04 - h08\n",
      "-h01 + h05\n",
      "-h02 + h06\n",
      "-h03 + h07\n",
      "-h04 + h08\n",
      "h11 - h13\n",
      "h12 - h14\n",
      "-h11 + h13\n",
      "-h12 + h14\n",
      "h15 - h17\n",
      "h16 - h18\n",
      "-h15 + h17\n",
      "-h16 + h18\n",
      "h21 - h22\n",
      "-h21 + h22\n",
      "h23 - h24\n",
      "-h23 + h24\n",
      "h25 - h26\n",
      "-h25 + h26\n",
      "h27 - h28\n",
      "-h27 + h28\n"
     ]
    }
   ],
   "source": [
    "for i in players:\n",
    "    for a in pures:\n",
    "        print( Hi( a, i ) )"
   ]
  },
  {
   "cell_type": "code",
   "execution_count": 41,
   "id": "8c300f7b-09ab-40f4-95f0-61d1d5d819fe",
   "metadata": {},
   "outputs": [],
   "source": [
    "# --------------------------------\n",
    "# KEY: HARMONIC SYSTEM in degrees of freedom h, that is payoff to be determined, prescribed the harmonic measure\n",
    "# --------------------------------\n",
    "system = [  sum( [  Hi(a,i)   for i in players ] )   for a in pures  ]"
   ]
  },
  {
   "cell_type": "code",
   "execution_count": 42,
   "id": "f6a452bd-4ee3-4ae3-963a-2cc58b0430fd",
   "metadata": {},
   "outputs": [
    {
     "data": {
      "text/plain": [
       "[h01 - h05 + h11 - h13 + h21 - h22,\n",
       " h02 - h06 + h12 - h14 - h21 + h22,\n",
       " h03 - h07 - h11 + h13 + h23 - h24,\n",
       " h04 - h08 - h12 + h14 - h23 + h24,\n",
       " -h01 + h05 + h15 - h17 + h25 - h26,\n",
       " -h02 + h06 + h16 - h18 - h25 + h26,\n",
       " -h03 + h07 - h15 + h17 + h27 - h28,\n",
       " -h04 + h08 - h16 + h18 - h27 + h28]"
      ]
     },
     "execution_count": 42,
     "metadata": {},
     "output_type": "execute_result"
    }
   ],
   "source": [
    "system"
   ]
  },
  {
   "cell_type": "code",
   "execution_count": 43,
   "id": "2a8fe2a2-8175-464f-ac7c-eab05a9d6c1b",
   "metadata": {},
   "outputs": [],
   "source": [
    "# one equation per pure in pures\n",
    "assert len(system) == numPures"
   ]
  },
  {
   "cell_type": "code",
   "execution_count": 44,
   "id": "97f7fe83-e0a4-4500-821d-c002acec01a3",
   "metadata": {},
   "outputs": [
    {
     "data": {
      "text/plain": [
       "[h01,\n",
       " h02,\n",
       " h03,\n",
       " h04,\n",
       " h05,\n",
       " h06,\n",
       " h07,\n",
       " h08,\n",
       " h11,\n",
       " h12,\n",
       " h13,\n",
       " h14,\n",
       " h15,\n",
       " h16,\n",
       " h17,\n",
       " h18,\n",
       " h21,\n",
       " h22,\n",
       " h23,\n",
       " h24,\n",
       " h25,\n",
       " h26,\n",
       " h27,\n",
       " h28]"
      ]
     },
     "execution_count": 44,
     "metadata": {},
     "output_type": "execute_result"
    }
   ],
   "source": [
    "# Unknowns of system to solve: the weights (one per player) + the non-strategic dofs\n",
    "dofs = list(it.chain(*h_sym))\n",
    "dofs"
   ]
  },
  {
   "cell_type": "code",
   "execution_count": 45,
   "id": "cf95f160-22c3-4b06-9d51-306eec8b30e5",
   "metadata": {},
   "outputs": [],
   "source": [
    "numDofs = len(dofs)"
   ]
  },
  {
   "cell_type": "code",
   "execution_count": 46,
   "id": "bae667d6-9c3e-401f-86ab-3f5ddaef0096",
   "metadata": {},
   "outputs": [],
   "source": [
    "# Unknowns of system to solve: harmonic weights\n",
    "assert numDofs == numPays"
   ]
  },
  {
   "cell_type": "code",
   "execution_count": 47,
   "id": "4fda08f7-8d90-4c6b-bbe2-fca17d1083b8",
   "metadata": {},
   "outputs": [],
   "source": [
    "# Matrix of linear system\n",
    "A, b = linear_eq_to_matrix(system, *dofs)"
   ]
  },
  {
   "cell_type": "code",
   "execution_count": 48,
   "id": "98418096-f1bf-44da-9f3d-f1182fa3ea28",
   "metadata": {},
   "outputs": [
    {
     "data": {
      "text/latex": [
       "$\\displaystyle \\left[\\begin{array}{cccccccccccccccccccccccc}1 & 0 & 0 & 0 & -1 & 0 & 0 & 0 & 1 & 0 & -1 & 0 & 0 & 0 & 0 & 0 & 1 & -1 & 0 & 0 & 0 & 0 & 0 & 0\\\\0 & 1 & 0 & 0 & 0 & -1 & 0 & 0 & 0 & 1 & 0 & -1 & 0 & 0 & 0 & 0 & -1 & 1 & 0 & 0 & 0 & 0 & 0 & 0\\\\0 & 0 & 1 & 0 & 0 & 0 & -1 & 0 & -1 & 0 & 1 & 0 & 0 & 0 & 0 & 0 & 0 & 0 & 1 & -1 & 0 & 0 & 0 & 0\\\\0 & 0 & 0 & 1 & 0 & 0 & 0 & -1 & 0 & -1 & 0 & 1 & 0 & 0 & 0 & 0 & 0 & 0 & -1 & 1 & 0 & 0 & 0 & 0\\\\-1 & 0 & 0 & 0 & 1 & 0 & 0 & 0 & 0 & 0 & 0 & 0 & 1 & 0 & -1 & 0 & 0 & 0 & 0 & 0 & 1 & -1 & 0 & 0\\\\0 & -1 & 0 & 0 & 0 & 1 & 0 & 0 & 0 & 0 & 0 & 0 & 0 & 1 & 0 & -1 & 0 & 0 & 0 & 0 & -1 & 1 & 0 & 0\\\\0 & 0 & -1 & 0 & 0 & 0 & 1 & 0 & 0 & 0 & 0 & 0 & -1 & 0 & 1 & 0 & 0 & 0 & 0 & 0 & 0 & 0 & 1 & -1\\\\0 & 0 & 0 & -1 & 0 & 0 & 0 & 1 & 0 & 0 & 0 & 0 & 0 & -1 & 0 & 1 & 0 & 0 & 0 & 0 & 0 & 0 & -1 & 1\\end{array}\\right]$"
      ],
      "text/plain": [
       "Matrix([\n",
       "[ 1,  0,  0,  0, -1,  0,  0,  0,  1,  0, -1,  0,  0,  0,  0,  0,  1, -1,  0,  0,  0,  0,  0,  0],\n",
       "[ 0,  1,  0,  0,  0, -1,  0,  0,  0,  1,  0, -1,  0,  0,  0,  0, -1,  1,  0,  0,  0,  0,  0,  0],\n",
       "[ 0,  0,  1,  0,  0,  0, -1,  0, -1,  0,  1,  0,  0,  0,  0,  0,  0,  0,  1, -1,  0,  0,  0,  0],\n",
       "[ 0,  0,  0,  1,  0,  0,  0, -1,  0, -1,  0,  1,  0,  0,  0,  0,  0,  0, -1,  1,  0,  0,  0,  0],\n",
       "[-1,  0,  0,  0,  1,  0,  0,  0,  0,  0,  0,  0,  1,  0, -1,  0,  0,  0,  0,  0,  1, -1,  0,  0],\n",
       "[ 0, -1,  0,  0,  0,  1,  0,  0,  0,  0,  0,  0,  0,  1,  0, -1,  0,  0,  0,  0, -1,  1,  0,  0],\n",
       "[ 0,  0, -1,  0,  0,  0,  1,  0,  0,  0,  0,  0, -1,  0,  1,  0,  0,  0,  0,  0,  0,  0,  1, -1],\n",
       "[ 0,  0,  0, -1,  0,  0,  0,  1,  0,  0,  0,  0,  0, -1,  0,  1,  0,  0,  0,  0,  0,  0, -1,  1]])"
      ]
     },
     "execution_count": 48,
     "metadata": {},
     "output_type": "execute_result"
    }
   ],
   "source": [
    "A"
   ]
  },
  {
   "cell_type": "code",
   "execution_count": 49,
   "id": "40094d64-90c4-4dec-8b06-1b015fe72554",
   "metadata": {},
   "outputs": [],
   "source": [
    "sol = solve(system, dofs)"
   ]
  },
  {
   "cell_type": "code",
   "execution_count": 50,
   "id": "16f9104d-d73d-433c-bc3e-01490521d82e",
   "metadata": {},
   "outputs": [
    {
     "data": {
      "text/plain": [
       "{h01: h05 + h15 - h17 + h25 - h26,\n",
       " h02: h06 + h16 - h18 - h25 + h26,\n",
       " h03: h07 - h15 + h17 + h27 - h28,\n",
       " h04: h08 - h16 + h18 - h27 + h28,\n",
       " h11: h13 - h15 + h17 + h23 - h24 + h27 - h28,\n",
       " h12: h14 - h16 + h18 - h23 + h24 - h27 + h28,\n",
       " h21: h22 - h23 + h24 - h25 + h26 - h27 + h28}"
      ]
     },
     "execution_count": 50,
     "metadata": {},
     "output_type": "execute_result"
    }
   ],
   "source": [
    "# Solution\n",
    "sol"
   ]
  },
  {
   "cell_type": "code",
   "execution_count": 51,
   "id": "971f11d1-26e8-408d-b606-ce2355b41047",
   "metadata": {},
   "outputs": [],
   "source": [
    "# Replace sol in dofs\n",
    "\n",
    "extracted_sol = [e.subs(sol) for e in dofs]"
   ]
  },
  {
   "cell_type": "code",
   "execution_count": 52,
   "id": "2fc0ac6f-0059-4fa6-9151-9db7b09e5616",
   "metadata": {},
   "outputs": [
    {
     "data": {
      "text/plain": [
       "[h05 + h15 - h17 + h25 - h26,\n",
       " h06 + h16 - h18 - h25 + h26,\n",
       " h07 - h15 + h17 + h27 - h28,\n",
       " h08 - h16 + h18 - h27 + h28,\n",
       " h05,\n",
       " h06,\n",
       " h07,\n",
       " h08,\n",
       " h13 - h15 + h17 + h23 - h24 + h27 - h28,\n",
       " h14 - h16 + h18 - h23 + h24 - h27 + h28,\n",
       " h13,\n",
       " h14,\n",
       " h15,\n",
       " h16,\n",
       " h17,\n",
       " h18,\n",
       " h22 - h23 + h24 - h25 + h26 - h27 + h28,\n",
       " h22,\n",
       " h23,\n",
       " h24,\n",
       " h25,\n",
       " h26,\n",
       " h27,\n",
       " h28]"
      ]
     },
     "execution_count": 52,
     "metadata": {},
     "output_type": "execute_result"
    }
   ],
   "source": [
    "extracted_sol"
   ]
  },
  {
   "cell_type": "markdown",
   "id": "0b0c6b94-b2f1-47c8-a000-0cee3417fcca",
   "metadata": {},
   "source": [
    "# General solution here"
   ]
  },
  {
   "cell_type": "code",
   "execution_count": 53,
   "id": "c02ce821-1aef-4d69-8285-d820f174ca69",
   "metadata": {},
   "outputs": [],
   "source": [
    "# zip solution in dictionary with dofs\n",
    "sol_dict = dict(zip(dofs, extracted_sol))"
   ]
  },
  {
   "cell_type": "code",
   "execution_count": 54,
   "id": "39d1a96e-704a-408d-b070-e18c16ba0fe7",
   "metadata": {},
   "outputs": [
    {
     "data": {
      "text/plain": [
       "{h01: h05 + h15 - h17 + h25 - h26,\n",
       " h02: h06 + h16 - h18 - h25 + h26,\n",
       " h03: h07 - h15 + h17 + h27 - h28,\n",
       " h04: h08 - h16 + h18 - h27 + h28,\n",
       " h05: h05,\n",
       " h06: h06,\n",
       " h07: h07,\n",
       " h08: h08,\n",
       " h11: h13 - h15 + h17 + h23 - h24 + h27 - h28,\n",
       " h12: h14 - h16 + h18 - h23 + h24 - h27 + h28,\n",
       " h13: h13,\n",
       " h14: h14,\n",
       " h15: h15,\n",
       " h16: h16,\n",
       " h17: h17,\n",
       " h18: h18,\n",
       " h21: h22 - h23 + h24 - h25 + h26 - h27 + h28,\n",
       " h22: h22,\n",
       " h23: h23,\n",
       " h24: h24,\n",
       " h25: h25,\n",
       " h26: h26,\n",
       " h27: h27,\n",
       " h28: h28}"
      ]
     },
     "execution_count": 54,
     "metadata": {},
     "output_type": "execute_result"
    }
   ],
   "source": [
    "sol_dict"
   ]
  },
  {
   "cell_type": "code",
   "execution_count": 55,
   "id": "7b432ae8-fbbf-481e-94b4-af0d0ad9e5bb",
   "metadata": {},
   "outputs": [
    {
     "data": {
      "text/plain": [
       "{(('T', 'L', 'A'), ('T', 'L', 'P')): h21 - h22,\n",
       " (('T', 'L', 'A'), ('T', 'R', 'A')): h11 - h13,\n",
       " (('T', 'L', 'A'), ('B', 'L', 'A')): h01 - h05,\n",
       " (('T', 'L', 'P'), ('T', 'R', 'P')): h12 - h14,\n",
       " (('T', 'L', 'P'), ('B', 'L', 'P')): h02 - h06,\n",
       " (('T', 'R', 'A'), ('T', 'R', 'P')): h23 - h24,\n",
       " (('T', 'R', 'A'), ('B', 'R', 'A')): h03 - h07,\n",
       " (('T', 'R', 'P'), ('B', 'R', 'P')): h04 - h08,\n",
       " (('B', 'L', 'A'), ('B', 'L', 'P')): h25 - h26,\n",
       " (('B', 'L', 'A'), ('B', 'R', 'A')): h15 - h17,\n",
       " (('B', 'L', 'P'), ('B', 'R', 'P')): h16 - h18,\n",
       " (('B', 'R', 'A'), ('B', 'R', 'P')): h27 - h28}"
      ]
     },
     "execution_count": 55,
     "metadata": {},
     "output_type": "execute_result"
    }
   ],
   "source": [
    "dev_value"
   ]
  },
  {
   "cell_type": "code",
   "execution_count": 56,
   "id": "6ca53b59-7dbb-4da6-bdd9-0b4434a6afeb",
   "metadata": {},
   "outputs": [
    {
     "name": "stdout",
     "output_type": "stream",
     "text": [
      "(('T', 'L', 'A'), ('T', 'L', 'P')) : -h23 + h24 - h25 + h26 - h27 + h28\n",
      "\n",
      "(('T', 'L', 'A'), ('T', 'R', 'A')) : -h15 + h17 + h23 - h24 + h27 - h28\n",
      "\n",
      "(('T', 'L', 'A'), ('B', 'L', 'A')) : h15 - h17 + h25 - h26\n",
      "\n",
      "(('T', 'L', 'P'), ('T', 'R', 'P')) : -h16 + h18 - h23 + h24 - h27 + h28\n",
      "\n",
      "(('T', 'L', 'P'), ('B', 'L', 'P')) : h16 - h18 - h25 + h26\n",
      "\n",
      "(('T', 'R', 'A'), ('T', 'R', 'P')) : h23 - h24\n",
      "\n",
      "(('T', 'R', 'A'), ('B', 'R', 'A')) : -h15 + h17 + h27 - h28\n",
      "\n",
      "(('T', 'R', 'P'), ('B', 'R', 'P')) : -h16 + h18 - h27 + h28\n",
      "\n",
      "(('B', 'L', 'A'), ('B', 'L', 'P')) : h25 - h26\n",
      "\n",
      "(('B', 'L', 'A'), ('B', 'R', 'A')) : h15 - h17\n",
      "\n",
      "(('B', 'L', 'P'), ('B', 'R', 'P')) : h16 - h18\n",
      "\n",
      "(('B', 'R', 'A'), ('B', 'R', 'P')) : h27 - h28\n",
      "\n"
     ]
    }
   ],
   "source": [
    "sol_dev_value = { d : dev_value[d].subs(sol_dict) for d in dev_value }\n",
    "\n",
    "def print_dict(my_dict):\n",
    "    for d in my_dict:\n",
    "        print(d, \":\", my_dict[d])\n",
    "        print()\n",
    "print_dict(sol_dev_value)"
   ]
  },
  {
   "cell_type": "code",
   "execution_count": 57,
   "id": "416c02ed-03b1-40d9-a00e-a6870eb81fe9",
   "metadata": {},
   "outputs": [
    {
     "data": {
      "text/plain": [
       "[(('T', 'L', 'A'), ('T', 'L', 'P')),\n",
       " (('T', 'L', 'A'), ('T', 'R', 'A')),\n",
       " (('T', 'L', 'A'), ('B', 'L', 'A')),\n",
       " (('T', 'L', 'P'), ('T', 'R', 'P')),\n",
       " (('T', 'L', 'P'), ('B', 'L', 'P')),\n",
       " (('T', 'R', 'A'), ('T', 'R', 'P')),\n",
       " (('T', 'R', 'A'), ('B', 'R', 'A')),\n",
       " (('T', 'R', 'P'), ('B', 'R', 'P')),\n",
       " (('B', 'L', 'A'), ('B', 'L', 'P')),\n",
       " (('B', 'L', 'A'), ('B', 'R', 'A')),\n",
       " (('B', 'L', 'P'), ('B', 'R', 'P')),\n",
       " (('B', 'R', 'A'), ('B', 'R', 'P'))]"
      ]
     },
     "execution_count": 57,
     "metadata": {},
     "output_type": "execute_result"
    }
   ],
   "source": [
    "devs"
   ]
  },
  {
   "cell_type": "code",
   "execution_count": 58,
   "id": "9672ecd8-c4c4-401f-a491-708776eec07c",
   "metadata": {},
   "outputs": [
    {
     "data": {
      "text/plain": [
       "[(('T', 'L', 'A'), ('B', 'L', 'A')),\n",
       " (('T', 'L', 'P'), ('B', 'L', 'P')),\n",
       " (('T', 'R', 'A'), ('B', 'R', 'A')),\n",
       " (('T', 'R', 'P'), ('B', 'R', 'P'))]"
      ]
     },
     "execution_count": 58,
     "metadata": {},
     "output_type": "execute_result"
    }
   ],
   "source": [
    "# impose CLUB face\n",
    "vertical_devs = [d for d in devs if actor(d) == 0]\n",
    "vertical_devs"
   ]
  },
  {
   "cell_type": "code",
   "execution_count": 59,
   "id": "39681577-de4e-48bc-abf1-2778b397ed6d",
   "metadata": {},
   "outputs": [
    {
     "name": "stdout",
     "output_type": "stream",
     "text": [
      "(('T', 'L', 'A'), ('B', 'L', 'A')) : h15 - h17 + h25 - h26\n",
      "\n",
      "(('T', 'L', 'P'), ('B', 'L', 'P')) : h16 - h18 - h25 + h26\n",
      "\n",
      "(('T', 'R', 'A'), ('B', 'R', 'A')) : -h15 + h17 + h27 - h28\n",
      "\n",
      "(('T', 'R', 'P'), ('B', 'R', 'P')) : -h16 + h18 - h27 + h28\n",
      "\n"
     ]
    }
   ],
   "source": [
    "vertical_devs_values = { d:sol_dev_value[d] for d in vertical_devs }\n",
    "print_dict(vertical_devs_values)"
   ]
  },
  {
   "cell_type": "code",
   "execution_count": 60,
   "id": "367fd581-fe13-4c14-bf1a-b1a7b05308cb",
   "metadata": {},
   "outputs": [
    {
     "data": {
      "text/latex": [
       "$\\displaystyle 0$"
      ],
      "text/plain": [
       "0"
      ]
     },
     "execution_count": 60,
     "metadata": {},
     "output_type": "execute_result"
    }
   ],
   "source": [
    "simplify(sum(vertical_devs_values.values()))"
   ]
  },
  {
   "cell_type": "code",
   "execution_count": 61,
   "id": "95734cfd-44f2-4d86-9178-c1db5e6aba29",
   "metadata": {},
   "outputs": [
    {
     "data": {
      "text/plain": [
       "[{'T': 1, 'B': 1}, {'L': 1, 'R': 1}, {'A': 1, 'P': 1}]"
      ]
     },
     "execution_count": 61,
     "metadata": {},
     "output_type": "execute_result"
    }
   ],
   "source": [
    "mu"
   ]
  },
  {
   "cell_type": "markdown",
   "id": "997a81d1-b08a-4a6e-8bbf-1c07643a9cd0",
   "metadata": {},
   "source": [
    "---"
   ]
  },
  {
   "cell_type": "markdown",
   "id": "9d512ff2-66bf-4cee-a5f4-024faffdd18e",
   "metadata": {},
   "source": [
    "# Build solution instance"
   ]
  },
  {
   "cell_type": "code",
   "execution_count": 62,
   "id": "417831e0-5f84-43e5-a67d-445230c6ef5b",
   "metadata": {},
   "outputs": [],
   "source": [
    "# fix remaining dofs; generate dictionary with dofs keys and random values\n",
    "fix_remaining_dofs = dict(zip(dofs, np.random.randint(-5, 5, numDofs)))"
   ]
  },
  {
   "cell_type": "code",
   "execution_count": 63,
   "id": "e66bd83e-ca13-43d3-9420-9f2b62271d16",
   "metadata": {},
   "outputs": [
    {
     "data": {
      "text/plain": [
       "{h01: 3,\n",
       " h02: 2,\n",
       " h03: -2,\n",
       " h04: 4,\n",
       " h05: -3,\n",
       " h06: -5,\n",
       " h07: -5,\n",
       " h08: 2,\n",
       " h11: -1,\n",
       " h12: 0,\n",
       " h13: 0,\n",
       " h14: 3,\n",
       " h15: 1,\n",
       " h16: 3,\n",
       " h17: 4,\n",
       " h18: 2,\n",
       " h21: -2,\n",
       " h22: -2,\n",
       " h23: 1,\n",
       " h24: 0,\n",
       " h25: 4,\n",
       " h26: -1,\n",
       " h27: 0,\n",
       " h28: 2}"
      ]
     },
     "execution_count": 63,
     "metadata": {},
     "output_type": "execute_result"
    }
   ],
   "source": [
    "fix_remaining_dofs"
   ]
  },
  {
   "cell_type": "code",
   "execution_count": 64,
   "id": "518dc722-bcc8-4787-afcd-7bebf2a8aa99",
   "metadata": {},
   "outputs": [],
   "source": [
    "# fix remaining dofs to random number by subbing in sol_dict\n",
    "sol_dict_instance = { key : sol_dict[key].subs(fix_remaining_dofs) for key in sol_dict}"
   ]
  },
  {
   "cell_type": "code",
   "execution_count": 65,
   "id": "3e8ba019-59bb-4f90-aaed-68ec814782fc",
   "metadata": {},
   "outputs": [
    {
     "data": {
      "text/plain": [
       "{h01: -1,\n",
       " h02: -9,\n",
       " h03: -4,\n",
       " h04: 3,\n",
       " h05: -3,\n",
       " h06: -5,\n",
       " h07: -5,\n",
       " h08: 2,\n",
       " h11: 2,\n",
       " h12: 3,\n",
       " h13: 0,\n",
       " h14: 3,\n",
       " h15: 1,\n",
       " h16: 3,\n",
       " h17: 4,\n",
       " h18: 2,\n",
       " h21: -6,\n",
       " h22: -2,\n",
       " h23: 1,\n",
       " h24: 0,\n",
       " h25: 4,\n",
       " h26: -1,\n",
       " h27: 0,\n",
       " h28: 2}"
      ]
     },
     "execution_count": 65,
     "metadata": {},
     "output_type": "execute_result"
    }
   ],
   "source": [
    "sol_dict_instance"
   ]
  },
  {
   "cell_type": "code",
   "execution_count": 66,
   "id": "95855b02-b155-469c-829a-ef90101fe8fc",
   "metadata": {},
   "outputs": [
    {
     "data": {
      "text/plain": [
       "[{('T', 'L', 'A'): h01,\n",
       "  ('T', 'L', 'P'): h02,\n",
       "  ('T', 'R', 'A'): h03,\n",
       "  ('T', 'R', 'P'): h04,\n",
       "  ('B', 'L', 'A'): h05,\n",
       "  ('B', 'L', 'P'): h06,\n",
       "  ('B', 'R', 'A'): h07,\n",
       "  ('B', 'R', 'P'): h08},\n",
       " {('T', 'L', 'A'): h11,\n",
       "  ('T', 'L', 'P'): h12,\n",
       "  ('T', 'R', 'A'): h13,\n",
       "  ('T', 'R', 'P'): h14,\n",
       "  ('B', 'L', 'A'): h15,\n",
       "  ('B', 'L', 'P'): h16,\n",
       "  ('B', 'R', 'A'): h17,\n",
       "  ('B', 'R', 'P'): h18},\n",
       " {('T', 'L', 'A'): h21,\n",
       "  ('T', 'L', 'P'): h22,\n",
       "  ('T', 'R', 'A'): h23,\n",
       "  ('T', 'R', 'P'): h24,\n",
       "  ('B', 'L', 'A'): h25,\n",
       "  ('B', 'L', 'P'): h26,\n",
       "  ('B', 'R', 'A'): h27,\n",
       "  ('B', 'R', 'P'): h28}]"
      ]
     },
     "execution_count": 66,
     "metadata": {},
     "output_type": "execute_result"
    }
   ],
   "source": [
    "h"
   ]
  },
  {
   "cell_type": "code",
   "execution_count": 67,
   "id": "aabdbbb2-c31f-481b-9e36-b3771a3718d2",
   "metadata": {},
   "outputs": [
    {
     "name": "stdout",
     "output_type": "stream",
     "text": [
      "('T', 'L', 'A') : -1\n",
      "('T', 'L', 'P') : -9\n",
      "('T', 'R', 'A') : -4\n",
      "('T', 'R', 'P') : 3\n",
      "('B', 'L', 'A') : -3\n",
      "('B', 'L', 'P') : -5\n",
      "('B', 'R', 'A') : -5\n",
      "('B', 'R', 'P') : 2\n",
      "\n",
      "('T', 'L', 'A') : 2\n",
      "('T', 'L', 'P') : 3\n",
      "('T', 'R', 'A') : 0\n",
      "('T', 'R', 'P') : 3\n",
      "('B', 'L', 'A') : 1\n",
      "('B', 'L', 'P') : 3\n",
      "('B', 'R', 'A') : 4\n",
      "('B', 'R', 'P') : 2\n",
      "\n",
      "('T', 'L', 'A') : -6\n",
      "('T', 'L', 'P') : -2\n",
      "('T', 'R', 'A') : 1\n",
      "('T', 'R', 'P') : 0\n",
      "('B', 'L', 'A') : 4\n",
      "('B', 'L', 'P') : -1\n",
      "('B', 'R', 'A') : 0\n",
      "('B', 'R', 'P') : 2\n",
      "\n"
     ]
    }
   ],
   "source": [
    "for D in h:\n",
    "    for key in D:\n",
    "        print(key, \":\", D[key].subs(sol_dict_instance))\n",
    "    print()"
   ]
  },
  {
   "cell_type": "markdown",
   "id": "303ed4b9-722a-4822-9b6e-7cdae6509eb0",
   "metadata": {},
   "source": [
    "# Result: harmonic game"
   ]
  },
  {
   "cell_type": "code",
   "execution_count": 68,
   "id": "90855238-7e9f-4bea-966d-84bdab2cad05",
   "metadata": {},
   "outputs": [
    {
     "name": "stdout",
     "output_type": "stream",
     "text": [
      "[2, 2, 2]\n"
     ]
    }
   ],
   "source": [
    "print(skeleton)"
   ]
  },
  {
   "cell_type": "code",
   "execution_count": 69,
   "id": "c1510456-d20a-41dd-8e15-357918dd3b18",
   "metadata": {},
   "outputs": [
    {
     "data": {
      "text/plain": [
       "dict_values([-1, -9, -4, 3, -3, -5, -5, 2, 2, 3, 0, 3, 1, 3, 4, 2, -6, -2, 1, 0, 4, -1, 0, 2])"
      ]
     },
     "execution_count": 69,
     "metadata": {},
     "output_type": "execute_result"
    }
   ],
   "source": [
    "sol_dict_instance.values()"
   ]
  },
  {
   "cell_type": "markdown",
   "id": "292abe02",
   "metadata": {},
   "source": [
    "# End"
   ]
  },
  {
   "cell_type": "code",
   "execution_count": null,
   "id": "ae217e1e-ac34-4341-aa32-61c725ed66ab",
   "metadata": {},
   "outputs": [],
   "source": []
  }
 ],
 "metadata": {
  "kernelspec": {
   "display_name": "Python 3 (ipykernel)",
   "language": "python",
   "name": "python3"
  },
  "language_info": {
   "codemirror_mode": {
    "name": "ipython",
    "version": 3
   },
   "file_extension": ".py",
   "mimetype": "text/x-python",
   "name": "python",
   "nbconvert_exporter": "python",
   "pygments_lexer": "ipython3",
   "version": "3.12.3"
  }
 },
 "nbformat": 4,
 "nbformat_minor": 5
}
