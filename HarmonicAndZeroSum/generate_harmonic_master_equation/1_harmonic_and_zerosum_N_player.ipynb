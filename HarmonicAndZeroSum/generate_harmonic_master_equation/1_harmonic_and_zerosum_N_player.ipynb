{
 "cells": [
  {
   "cell_type": "code",
   "execution_count": 115,
   "id": "13956eb3-3756-43f7-997a-0114fdbcc235",
   "metadata": {},
   "outputs": [],
   "source": [
    "from sympy import *\n",
    "import itertools as it\n",
    "import numpy as np"
   ]
  },
  {
   "cell_type": "markdown",
   "id": "a260385c-d254-478c-abad-54156b021118",
   "metadata": {},
   "source": [
    "# Strategic equivalence to weighted zero-sum games\n",
    "\n",
    "Given a game $u$ find games $z, k$ such that $u = z + k$ with $z$ weighted zero-sum game and $k$ non-strategic game solving non-linear system. For details, see Obsidian note (local file)\n",
    "\n",
    "`obsidian://open?vault=Work%20diary&file=Notes%2F2024-07-11%20Harmonic%20games%20and%20weighted%20zero%20sum%20games`"
   ]
  },
  {
   "cell_type": "markdown",
   "id": "ff3c29c8-f1cb-45f2-8906-56ff8c9858b8",
   "metadata": {},
   "source": [
    "# Parameters"
   ]
  },
  {
   "cell_type": "code",
   "execution_count": 116,
   "id": "cb87129a-e7fe-452c-8d2c-bc8422b3e617",
   "metadata": {},
   "outputs": [
    {
     "data": {
      "text/plain": [
       "[2, 3]"
      ]
     },
     "execution_count": 116,
     "metadata": {},
     "output_type": "execute_result"
    }
   ],
   "source": [
    "# Game skeleton\n",
    "\n",
    "# numPlayers = 4\n",
    "\n",
    "# skeleton = np.random.randint(2, 6, numPlayers)\n",
    "\n",
    "skeleton = [2, 3]\n",
    "skeleton"
   ]
  },
  {
   "cell_type": "code",
   "execution_count": 117,
   "id": "90f8d17d-d6a2-4b30-bf55-64a869a9009c",
   "metadata": {},
   "outputs": [],
   "source": [
    "# N\n",
    "numPlayers = len(skeleton)\n",
    "players = range(numPlayers)\n",
    "\n",
    "# -------------------------\n",
    "# Number of action profiles\n",
    "# -------------------------\n",
    "\n",
    "# A\n",
    "numPures = prod(skeleton)\n",
    "\n",
    "# List of A_{-i} = for each player, number of action profiles of other players\n",
    "numPuresMinus = [  int(numPures / skeleton[i]) for i in players ]\n",
    "\n",
    "# -------------------------\n",
    "# Number of payoff degrees of freedom\n",
    "# -------------------------\n",
    "\n",
    "# AN; number of payoff degrees of freedom\n",
    "numPays = numPlayers * numPures"
   ]
  },
  {
   "cell_type": "code",
   "execution_count": 118,
   "id": "60bcf8a9-425d-42a3-89b7-2758fa4bde6d",
   "metadata": {},
   "outputs": [],
   "source": [
    "# RANDOM PAYOFF\n",
    "# Payoff in usual Candogan format: flat list of size AN = numPays\n",
    "# u = np.random.randint(-5, 5, numPays)\n",
    "# u"
   ]
  },
  {
   "cell_type": "code",
   "execution_count": 119,
   "id": "d79e8ee9-380f-4661-ae38-a1095ceb56ef",
   "metadata": {},
   "outputs": [],
   "source": [
    "# CHOSEN PAYOFF\n",
    "# Payoff in usual Candogan format: flat list of size AN = numPays\n",
    "\n",
    "u = [17, -6, -7, 2, -1, -2, -7, 3, 3, 3, -2, -2]\n",
    "\n",
    "# 223 generalized harmonic\n",
    "# u = [-4, 12, -46, 34, -26, -49, -4, -1, 0, -2, 0, 3, 99/2, -31, -89, 1, 0, -1, -2, -2, 1, 0, -4, -5, -57/2, -24, 2, -4, -1, -5, 1, 2, -5, 3, -3, -5]\n",
    "\n",
    "# 2x2 uniform harmonic --> always ~ to exact zero-sum game (as by Candogan's), since players have same # of strategies\n",
    "# u = [4, -3, 0, 1, -1, 3, 3, -1]\n",
    "# u  = [0, 4, 1, 3, 0, -1, 1, 2]\n",
    "# u = [-2, 2, -2, 2, 1, 1, -1, -1]\n",
    "# u = [-1, 0, -1, 0, -2, -2, 3, 3]\n",
    "\n",
    "# 3x3 uniform harmonic --> always ~ to exact zero-sum game (as by Candogan's), since players have same # of strategies\n",
    "# u = [4.66666666666667, 1.66666666666667, -7.33333333333333, 1.33333333333333, 0.333333333333333, -2.66666666666667, 3, -2, -2, -3.00000000000000, -3.00000000000000, 2, 1, -1, -2, 0, 2, -2]\n",
    "# u = [0.666666666666667, -0.333333333333333, -0.333333333333333, -2.66666666666667, 0.333333333333333, 2.33333333333333, -1, 0, 1, -1.00000000000000, 1.00000000000000, 2, 3, 1, 0, -2, -2, -2]\n",
    "# u = [2.33333333333333, 6.33333333333333, -0.666666666666667, 4.66666666666667, 0.666666666666667, 2.66666666666667, 3, 3, 2, -4, -8, -3, -3, 1, -3, 3, 3, 2]\n",
    "\n",
    "# 2x2x2 uniform harmonic --> always ~ to exact zero-sum game (as by Candogan's), since players have same # of strategies\n",
    "# u = [-2.00000000000000, -5.00000000000000, 1.00000000000000, 9.00000000000000, 2, 0, 1, 0, -1.00000000000000, 10.0000000000000, -3, 3, -2, -2, 2, 3, 2.00000000000000, 0, 2, 0, -2, -2, -3, 1]"
   ]
  },
  {
   "cell_type": "code",
   "execution_count": 120,
   "id": "0cdbb71d-1380-4b3d-9cc2-8b2708eb8c82",
   "metadata": {},
   "outputs": [],
   "source": [
    "assert len(u) == numPays"
   ]
  },
  {
   "cell_type": "markdown",
   "id": "3dab4ed8-8fa5-4d82-8bf2-838f780fa689",
   "metadata": {},
   "source": [
    "Number of non-strategic dofs: each player has many dofs as number of action profiles of others; sum over those:\n",
    "\n",
    "$$\\sum_i \\prod_{j\\neq i}A_j = \\sum_i \\frac{A}{A_i}$$\n"
   ]
  },
  {
   "cell_type": "code",
   "execution_count": 121,
   "id": "d4013b81-b468-401b-8a22-a758a287bfe2",
   "metadata": {},
   "outputs": [],
   "source": [
    "# number of non-strategic payoff degrees of freedom\n",
    "numPaysNS = sum(numPuresMinus)"
   ]
  },
  {
   "cell_type": "code",
   "execution_count": 122,
   "id": "8f80c283-4b2e-42b7-ac41-4028244b1bdc",
   "metadata": {},
   "outputs": [
    {
     "data": {
      "text/plain": [
       "6"
      ]
     },
     "execution_count": 122,
     "metadata": {},
     "output_type": "execute_result"
    }
   ],
   "source": [
    "numPures"
   ]
  },
  {
   "cell_type": "code",
   "execution_count": 123,
   "id": "7b6863e0-eaee-4184-b93a-cf07ba7dcb45",
   "metadata": {},
   "outputs": [
    {
     "data": {
      "text/plain": [
       "[3, 2]"
      ]
     },
     "execution_count": 123,
     "metadata": {},
     "output_type": "execute_result"
    }
   ],
   "source": [
    "numPuresMinus"
   ]
  },
  {
   "cell_type": "code",
   "execution_count": 124,
   "id": "d484d1a7-57bc-4b9d-a224-7c7f5c5c154d",
   "metadata": {},
   "outputs": [
    {
     "data": {
      "text/plain": [
       "12"
      ]
     },
     "execution_count": 124,
     "metadata": {},
     "output_type": "execute_result"
    }
   ],
   "source": [
    "numPays"
   ]
  },
  {
   "cell_type": "code",
   "execution_count": 125,
   "id": "f0643d03-655e-4179-b717-353d1fea0594",
   "metadata": {},
   "outputs": [
    {
     "data": {
      "text/plain": [
       "5"
      ]
     },
     "execution_count": 125,
     "metadata": {},
     "output_type": "execute_result"
    }
   ],
   "source": [
    "numPaysNS"
   ]
  },
  {
   "cell_type": "markdown",
   "id": "8f554617-b8ef-4b49-8258-3bbf65e2aa76",
   "metadata": {},
   "source": [
    "---\n",
    "# Program"
   ]
  },
  {
   "cell_type": "code",
   "execution_count": 126,
   "id": "60f4d655",
   "metadata": {},
   "outputs": [],
   "source": [
    "# Make symbols: methods to dynamically create as many as needed strings and Sympy symbols\n",
    "# Shift is starting index; default 0\n",
    "\n",
    "def make_strings(N,s, shift = 0):\n",
    "\tmy_strings = []\n",
    "\tfor i in range(shift, N + shift):\n",
    "\t    tmp_st = f'{s}{i}'\n",
    "\t    my_strings.append(tmp_st)\n",
    "\treturn my_strings\n",
    "\n",
    "def make_symbols(N,s, shift = 0):\n",
    "\tmy_symbols = []\n",
    "\tfor i in range(shift, N + shift):\n",
    "\t    tmp_st = f'{s}{i}'\n",
    "\t    globals()[tmp_st] = Symbol(tmp_st)\n",
    "\t    my_symbols.append(globals()[tmp_st])\n",
    "\treturn my_symbols"
   ]
  },
  {
   "cell_type": "code",
   "execution_count": 127,
   "id": "89324e17-2a67-403b-81e8-2d3317b533de",
   "metadata": {},
   "outputs": [],
   "source": [
    "# Pure actions: list of N lists, each with Ai elements; pure actions of each player\n",
    "\n",
    "pures_play = [ make_strings(skeleton[i], f'a{i}', shift = 1) for i in players ]"
   ]
  },
  {
   "cell_type": "code",
   "execution_count": 128,
   "id": "2f60eaa9-8fd4-41ed-a1d9-247b572fb319",
   "metadata": {},
   "outputs": [
    {
     "data": {
      "text/plain": [
       "[['a01', 'a02'], ['a11', 'a12', 'a13']]"
      ]
     },
     "execution_count": 128,
     "metadata": {},
     "output_type": "execute_result"
    }
   ],
   "source": [
    "pures_play"
   ]
  },
  {
   "cell_type": "code",
   "execution_count": 129,
   "id": "f0ac537f-ec3b-4a94-b99c-05a6d506ca8a",
   "metadata": {},
   "outputs": [],
   "source": [
    "# Pure profiles; cartesian product of pure actions of each player\n",
    "# Returns one list with A = numPures elements; each element is a tuple of strings\n",
    "\n",
    "pures = list(it.product(*pures_play))"
   ]
  },
  {
   "cell_type": "code",
   "execution_count": 130,
   "id": "ea0fcc78-468d-42bf-b7c7-b0ba2efd4de1",
   "metadata": {},
   "outputs": [
    {
     "data": {
      "text/plain": [
       "[('a01', 'a11'),\n",
       " ('a01', 'a12'),\n",
       " ('a01', 'a13'),\n",
       " ('a02', 'a11'),\n",
       " ('a02', 'a12'),\n",
       " ('a02', 'a13')]"
      ]
     },
     "execution_count": 130,
     "metadata": {},
     "output_type": "execute_result"
    }
   ],
   "source": [
    "pures"
   ]
  },
  {
   "cell_type": "code",
   "execution_count": 131,
   "id": "dfd59f2a-19ae-4f77-8ca4-023d2eb637f3",
   "metadata": {},
   "outputs": [],
   "source": [
    "assert len(pures) == numPures"
   ]
  },
  {
   "cell_type": "markdown",
   "id": "78029505-6b9a-4992-84e8-14c0f9a749bb",
   "metadata": {},
   "source": [
    "# Payoff of original game"
   ]
  },
  {
   "cell_type": "code",
   "execution_count": 132,
   "id": "fb1761dd-97da-4264-8cbc-d962ed2a6544",
   "metadata": {},
   "outputs": [
    {
     "data": {
      "text/plain": [
       "[[17, -6, -7, 2, -1, -2], [-7, 3, 3, 3, -2, -2]]"
      ]
     },
     "execution_count": 132,
     "metadata": {},
     "output_type": "execute_result"
    }
   ],
   "source": [
    "# Pack flat payoff of sizer AN into a list of N lists, each of size A; player-specific payoffs\n",
    "ui = [ u[ i*numPures : (i+1)*numPures] for i in players]\n",
    "ui"
   ]
  },
  {
   "cell_type": "code",
   "execution_count": 133,
   "id": "3bab8816-c48c-4611-a9b4-dcfafcd692ac",
   "metadata": {},
   "outputs": [],
   "source": [
    "# Build payoff dict matching pures with each player-specific payoff\n",
    "u = [  dict(zip(pures , ui[i] ))  for i in players]"
   ]
  },
  {
   "cell_type": "code",
   "execution_count": 134,
   "id": "4352335f-e0b2-4b81-b95a-08b788ecd13d",
   "metadata": {},
   "outputs": [],
   "source": [
    "def print_payoff(payoff_dict, payoff_symbol):\n",
    "    for i in players:\n",
    "        for a in pures:\n",
    "            print( f'{payoff_symbol}_{i}{a} = {payoff_dict[i][a]}' )\n",
    "        print()"
   ]
  },
  {
   "cell_type": "code",
   "execution_count": 135,
   "id": "5f424e84-2851-49d1-8306-5559a0d36425",
   "metadata": {},
   "outputs": [
    {
     "name": "stdout",
     "output_type": "stream",
     "text": [
      "u_0('a01', 'a11') = 17\n",
      "u_0('a01', 'a12') = -6\n",
      "u_0('a01', 'a13') = -7\n",
      "u_0('a02', 'a11') = 2\n",
      "u_0('a02', 'a12') = -1\n",
      "u_0('a02', 'a13') = -2\n",
      "\n",
      "u_1('a01', 'a11') = -7\n",
      "u_1('a01', 'a12') = 3\n",
      "u_1('a01', 'a13') = 3\n",
      "u_1('a02', 'a11') = 3\n",
      "u_1('a02', 'a12') = -2\n",
      "u_1('a02', 'a13') = -2\n",
      "\n"
     ]
    }
   ],
   "source": [
    "# Print payoff\n",
    "print_payoff(u, 'u')"
   ]
  },
  {
   "cell_type": "markdown",
   "id": "86c8aab7-730d-41ba-bf0b-0cacda506245",
   "metadata": {},
   "source": [
    "# Profiles of other players"
   ]
  },
  {
   "cell_type": "code",
   "execution_count": 136,
   "id": "c225d35e-abdc-4e9f-a500-8d17bc980cb6",
   "metadata": {},
   "outputs": [],
   "source": [
    "# Pure profiles of other players\n",
    "# Make list of N lists; the list pure_minus[i] contains the pure action profiles of players other than i\n",
    "# Build taking the cartesian product of pure actions of all players other than i\n",
    "# The size of the list pure_minus[i] is A_{-i} = \\prod_{j \\neq i} A_j\n",
    "\n",
    "pures_minus = [ list( it.product( *( pures_play[:i] + pures_play[i+1:] ) ) ) for i in players ]"
   ]
  },
  {
   "cell_type": "code",
   "execution_count": 137,
   "id": "428dd617-1938-494f-8342-df854e4a9ec4",
   "metadata": {},
   "outputs": [
    {
     "data": {
      "text/plain": [
       "[[('a11',), ('a12',), ('a13',)], [('a01',), ('a02',)]]"
      ]
     },
     "execution_count": 137,
     "metadata": {},
     "output_type": "execute_result"
    }
   ],
   "source": [
    "pures_minus"
   ]
  },
  {
   "cell_type": "code",
   "execution_count": 138,
   "id": "f97e0ae1-ad68-4de3-ad48-77af8627e9ef",
   "metadata": {},
   "outputs": [
    {
     "data": {
      "text/plain": [
       "[3, 2]"
      ]
     },
     "execution_count": 138,
     "metadata": {},
     "output_type": "execute_result"
    }
   ],
   "source": [
    "numPuresMinus"
   ]
  },
  {
   "cell_type": "code",
   "execution_count": 139,
   "id": "dd1a4f70-3ebb-4255-8290-da6ebcdd9836",
   "metadata": {},
   "outputs": [],
   "source": [
    "for i in players:\n",
    "    assert len(pures_minus[i]) == numPuresMinus[i]"
   ]
  },
  {
   "cell_type": "markdown",
   "id": "65541bcc-550d-4dc5-80e2-7e03f8d525f9",
   "metadata": {},
   "source": [
    "# Non-strategic game"
   ]
  },
  {
   "cell_type": "code",
   "execution_count": 140,
   "id": "f625e7c4-af1c-4151-8dbc-209b0c000647",
   "metadata": {},
   "outputs": [
    {
     "data": {
      "text/plain": [
       "[[alpha01, alpha02, alpha03], [alpha11, alpha12]]"
      ]
     },
     "execution_count": 140,
     "metadata": {},
     "output_type": "execute_result"
    }
   ],
   "source": [
    "# Non-strategic payoff degrees of freedom; will build non-strategic payoff k out of these\n",
    "\n",
    "# to be determined non-strategic payoff of player i (as many as action profiles of players -i)\n",
    "\n",
    "n_sym = [make_symbols(numPuresMinus[i], f'alpha{i}', shift = 1) for i in players]\n",
    "n_sym"
   ]
  },
  {
   "cell_type": "code",
   "execution_count": 141,
   "id": "4ccdbbcb-35c5-46ae-9b39-329466376099",
   "metadata": {},
   "outputs": [],
   "source": [
    "# Given the non-strategic dofs, match them with the action profiles of other players\n",
    "\n",
    "# Build list of N dictionary.\n",
    "# The keys of the dictionary n_dicts[i] are action profiles a_{-i} of players -i (that is, list of tuples, elements of pures_minus[i] )\n",
    "# The values of the dictionary n_dicts[i] are the non-strategic payoff of player i given the profile a_{-i}\n",
    "\n",
    "# read dictionary as: when player -i plays a_{-i} , player i gets n_dicts[i][ a_{-i} ]\n",
    "\n",
    "n_dicts = [ dict(zip(pures_minus[i], n_sym[i])) for i in players ]"
   ]
  },
  {
   "cell_type": "code",
   "execution_count": 142,
   "id": "0eb03c7d-8e35-4de5-998a-d6f9fa6ab63d",
   "metadata": {},
   "outputs": [
    {
     "data": {
      "text/plain": [
       "[{('a11',): alpha01, ('a12',): alpha02, ('a13',): alpha03},\n",
       " {('a01',): alpha11, ('a02',): alpha12}]"
      ]
     },
     "execution_count": 142,
     "metadata": {},
     "output_type": "execute_result"
    }
   ],
   "source": [
    "n_dicts"
   ]
  },
  {
   "cell_type": "code",
   "execution_count": 143,
   "id": "770e216c-80a2-4c09-8d22-2573dc3f46e5",
   "metadata": {},
   "outputs": [],
   "source": [
    "# Util to make (a_i, a_{-i}) given a_i and a_{-i} as tuple of strings (to be used as key for payoff dictionaries)\n",
    "def make_a(ai, a_minus_i, i):\n",
    "    l = list(a_minus_i)\n",
    "    return tuple(l[:i] + [ai] + l[i:])"
   ]
  },
  {
   "cell_type": "code",
   "execution_count": 144,
   "id": "fc890e66-8326-4ac7-8d2f-2c5c1f116d76",
   "metadata": {},
   "outputs": [
    {
     "data": {
      "text/plain": [
       "[{('a01', 'a11'): alpha01,\n",
       "  ('a01', 'a12'): alpha02,\n",
       "  ('a01', 'a13'): alpha03,\n",
       "  ('a02', 'a11'): alpha01,\n",
       "  ('a02', 'a12'): alpha02,\n",
       "  ('a02', 'a13'): alpha03},\n",
       " {('a01', 'a11'): alpha11,\n",
       "  ('a02', 'a11'): alpha12,\n",
       "  ('a01', 'a12'): alpha11,\n",
       "  ('a02', 'a12'): alpha12,\n",
       "  ('a01', 'a13'): alpha11,\n",
       "  ('a02', 'a13'): alpha12}]"
      ]
     },
     "execution_count": 144,
     "metadata": {},
     "output_type": "execute_result"
    }
   ],
   "source": [
    "# Build full non-strategic payoff using non-strategic payoff degrees of freedom\n",
    "# For each player, k_i does not depend on a_i but only on a_{-i}, so\n",
    "# for each a_i, for each a_{-i}, build a = (a_i, a_{-i}) and assign k_i(a) = n_dicts[i][ a_{-i} ]\n",
    "\n",
    "# list of dicts\n",
    "k = []\n",
    "\n",
    "for i in players:\n",
    "    ki = {  }\n",
    "    for ai in pures_play[i]:\n",
    "        for a_minus_i in pures_minus[i]:\n",
    "            a = make_a( ai, a_minus_i, i )\n",
    "            ki[a] = n_dicts[i][a_minus_i]\n",
    "    k.append(ki)\n",
    "\n",
    "# Full payoff of non-strategic game, to be determined\n",
    "k"
   ]
  },
  {
   "cell_type": "code",
   "execution_count": 145,
   "id": "85d8bb76-aec9-4b54-a019-6be88645cf51",
   "metadata": {},
   "outputs": [],
   "source": [
    "# Check that k has the right size\n",
    "assert sum( [len(d) for d in k] ) == numPays"
   ]
  },
  {
   "cell_type": "markdown",
   "id": "aaed4957-305a-4d08-81b2-d1e9f8bee92f",
   "metadata": {},
   "source": [
    "# Zero-sum weights"
   ]
  },
  {
   "cell_type": "code",
   "execution_count": 146,
   "id": "50f89789-8189-4de9-8509-cb6371d84f19",
   "metadata": {},
   "outputs": [
    {
     "data": {
      "text/plain": [
       "[lambda1, lambda2]"
      ]
     },
     "execution_count": 146,
     "metadata": {},
     "output_type": "execute_result"
    }
   ],
   "source": [
    "# Coefficients for weighted zero-sum game\n",
    "\n",
    "lam = make_symbols(numPlayers, 'lambda', shift = 1)\n",
    "lam"
   ]
  },
  {
   "cell_type": "markdown",
   "id": "bc51e5b9-7650-4ba8-bba8-89482ba099b1",
   "metadata": {},
   "source": [
    "# System"
   ]
  },
  {
   "cell_type": "code",
   "execution_count": 147,
   "id": "97f7fe83-e0a4-4500-821d-c002acec01a3",
   "metadata": {},
   "outputs": [
    {
     "data": {
      "text/plain": [
       "[lambda1, lambda2, alpha01, alpha02, alpha03, alpha11, alpha12]"
      ]
     },
     "execution_count": 147,
     "metadata": {},
     "output_type": "execute_result"
    }
   ],
   "source": [
    "# Unknowns of system to solve: the weights (one per player) + the non-strategic dofs\n",
    "dofs = lam + list(it.chain(*n_sym))\n",
    "dofs"
   ]
  },
  {
   "cell_type": "code",
   "execution_count": 148,
   "id": "bae667d6-9c3e-401f-86ab-3f5ddaef0096",
   "metadata": {},
   "outputs": [],
   "source": [
    "# Number of unknowns of system to solve: the weights (one per player) + the non-strategic dofs\n",
    "numDofs = numPlayers + numPaysNS\n",
    "assert len(dofs) == numDofs"
   ]
  },
  {
   "cell_type": "markdown",
   "id": "18c4741a-ebec-46eb-b2c6-77d64019fd81",
   "metadata": {},
   "source": [
    "## System of non-linear equations\n",
    "\n",
    "$$\\sum_i \\lambda_i \\,  \\big[u_i (\\alpha) - k_i(\\alpha) \\big] = 0 \\quad \\text{for all } \\alpha \\in \\mathcal{A}$$\n",
    "- $u_i(\\alpha)$ known coefficients\n",
    "- $\\lambda_i$ and $k_i(\\alpha)$ unknowns"
   ]
  },
  {
   "cell_type": "code",
   "execution_count": 149,
   "id": "fdf8c209-c1b4-4046-a3b9-e3c3a67b92b4",
   "metadata": {},
   "outputs": [],
   "source": [
    "# --------------------------------------------------------------------------------------\n",
    "eqs = [  sum( [ lam[i] * ( -u[i][a] + k[i][a] ) for i in players ] )  for a in pures  ]\n",
    "# --------------------------------------------------------------------------------------"
   ]
  },
  {
   "cell_type": "code",
   "execution_count": 150,
   "id": "fc2c106a-7b69-4d7d-a9e4-03304f34096f",
   "metadata": {},
   "outputs": [
    {
     "data": {
      "text/plain": [
       "[lambda1*(alpha01 - 17) + lambda2*(alpha11 + 7),\n",
       " lambda1*(alpha02 + 6) + lambda2*(alpha11 - 3),\n",
       " lambda1*(alpha03 + 7) + lambda2*(alpha11 - 3),\n",
       " lambda1*(alpha01 - 2) + lambda2*(alpha12 - 3),\n",
       " lambda1*(alpha02 + 1) + lambda2*(alpha12 + 2),\n",
       " lambda1*(alpha03 + 2) + lambda2*(alpha12 + 2)]"
      ]
     },
     "execution_count": 150,
     "metadata": {},
     "output_type": "execute_result"
    }
   ],
   "source": [
    "eqs"
   ]
  },
  {
   "cell_type": "code",
   "execution_count": 151,
   "id": "40094d64-90c4-4dec-8b06-1b015fe72554",
   "metadata": {},
   "outputs": [],
   "source": [
    "sol = nonlinsolve(eqs, dofs)"
   ]
  },
  {
   "cell_type": "code",
   "execution_count": 152,
   "id": "16f9104d-d73d-433c-bc3e-01490521d82e",
   "metadata": {},
   "outputs": [
    {
     "data": {
      "text/plain": [
       "[lambda1, lambda2, alpha01, alpha02, alpha03, alpha11, alpha12]"
      ]
     },
     "execution_count": 152,
     "metadata": {},
     "output_type": "execute_result"
    }
   ],
   "source": [
    "dofs"
   ]
  },
  {
   "cell_type": "code",
   "execution_count": 153,
   "id": "a5b6de26-fd92-40e4-92d9-cf40af6e013f",
   "metadata": {},
   "outputs": [
    {
     "data": {
      "text/latex": [
       "$\\displaystyle \\left\\{\\left( 0, \\  0, \\  \\text{NaN}, \\  \\text{NaN}, \\  \\text{NaN}, \\  \\alpha_{11}, \\  \\alpha_{12}\\right), \\left( 0, \\  0, \\  \\text{NaN}, \\  \\text{NaN}, \\  \\alpha_{03}, \\  \\alpha_{11}, \\  \\alpha_{12}\\right), \\left( 0, \\  0, \\  \\text{NaN}, \\  \\alpha_{02}, \\  \\alpha_{03}, \\  \\alpha_{11}, \\  \\alpha_{12}\\right), \\left( 0, \\  0, \\  \\alpha_{01}, \\  \\alpha_{02}, \\  \\alpha_{03}, \\  \\alpha_{11}, \\  \\alpha_{12}\\right), \\left( \\frac{3 \\lambda_{2}}{4}, \\  \\lambda_{2}, \\  - \\frac{2 \\cdot \\left(2 \\alpha_{12} \\lambda_{2} - 9 \\lambda_{2}\\right)}{3 \\lambda_{2}}, \\  - \\frac{4 \\alpha_{12} \\lambda_{2} + 11 \\lambda_{2}}{3 \\lambda_{2}}, \\  - \\frac{2 \\cdot \\left(2 \\alpha_{12} \\lambda_{2} + 7 \\lambda_{2}\\right)}{3 \\lambda_{2}}, \\  - \\frac{- 4 \\alpha_{12} \\lambda_{2} - 5 \\lambda_{2}}{4 \\lambda_{2}}, \\  \\alpha_{12}\\right), \\left( \\frac{3 \\lambda_{2}}{4}, \\  \\lambda_{2}, \\  - \\frac{2 \\cdot \\left(2 \\alpha_{12} \\lambda_{2} - 9 \\lambda_{2}\\right)}{3 \\lambda_{2}}, \\  - \\frac{4 \\alpha_{12} \\lambda_{2} + 11 \\lambda_{2}}{3 \\lambda_{2}}, \\  - \\frac{2 \\cdot \\left(2 \\alpha_{12} \\lambda_{2} + 7 \\lambda_{2}\\right)}{3 \\lambda_{2}}, \\  \\frac{4 \\alpha_{12} \\lambda_{2} + 5 \\lambda_{2}}{4 \\lambda_{2}}, \\  \\alpha_{12}\\right), \\left( \\frac{3 \\lambda_{2}}{4}, \\  \\lambda_{2}, \\  - \\frac{2 \\cdot \\left(2 \\alpha_{12} \\lambda_{2} - 9 \\lambda_{2}\\right)}{3 \\lambda_{2}}, \\  - \\frac{4 \\alpha_{12} \\lambda_{2} + 11 \\lambda_{2}}{3 \\lambda_{2}}, \\  - \\frac{4 \\alpha_{12} \\lambda_{2} + 14 \\lambda_{2}}{3 \\lambda_{2}}, \\  - \\frac{- 4 \\alpha_{12} \\lambda_{2} - 5 \\lambda_{2}}{4 \\lambda_{2}}, \\  \\alpha_{12}\\right), \\left( \\frac{3 \\lambda_{2}}{4}, \\  \\lambda_{2}, \\  - \\frac{2 \\cdot \\left(2 \\alpha_{12} \\lambda_{2} - 9 \\lambda_{2}\\right)}{3 \\lambda_{2}}, \\  - \\frac{4 \\alpha_{12} \\lambda_{2} + 11 \\lambda_{2}}{3 \\lambda_{2}}, \\  - \\frac{4 \\alpha_{12} \\lambda_{2} + 14 \\lambda_{2}}{3 \\lambda_{2}}, \\  \\frac{4 \\alpha_{12} \\lambda_{2} + 5 \\lambda_{2}}{4 \\lambda_{2}}, \\  \\alpha_{12}\\right), \\left( \\frac{3 \\lambda_{2}}{4}, \\  \\lambda_{2}, \\  - \\frac{4 \\alpha_{12} \\lambda_{2} - 18 \\lambda_{2}}{3 \\lambda_{2}}, \\  - \\frac{4 \\alpha_{12} \\lambda_{2} + 11 \\lambda_{2}}{3 \\lambda_{2}}, \\  - \\frac{2 \\cdot \\left(2 \\alpha_{12} \\lambda_{2} + 7 \\lambda_{2}\\right)}{3 \\lambda_{2}}, \\  - \\frac{- 4 \\alpha_{12} \\lambda_{2} - 5 \\lambda_{2}}{4 \\lambda_{2}}, \\  \\alpha_{12}\\right), \\left( \\frac{3 \\lambda_{2}}{4}, \\  \\lambda_{2}, \\  - \\frac{4 \\alpha_{12} \\lambda_{2} - 18 \\lambda_{2}}{3 \\lambda_{2}}, \\  - \\frac{4 \\alpha_{12} \\lambda_{2} + 11 \\lambda_{2}}{3 \\lambda_{2}}, \\  - \\frac{2 \\cdot \\left(2 \\alpha_{12} \\lambda_{2} + 7 \\lambda_{2}\\right)}{3 \\lambda_{2}}, \\  \\frac{4 \\alpha_{12} \\lambda_{2} + 5 \\lambda_{2}}{4 \\lambda_{2}}, \\  \\alpha_{12}\\right), \\left( \\frac{3 \\lambda_{2}}{4}, \\  \\lambda_{2}, \\  - \\frac{4 \\alpha_{12} \\lambda_{2} - 18 \\lambda_{2}}{3 \\lambda_{2}}, \\  - \\frac{4 \\alpha_{12} \\lambda_{2} + 11 \\lambda_{2}}{3 \\lambda_{2}}, \\  - \\frac{4 \\alpha_{12} \\lambda_{2} + 14 \\lambda_{2}}{3 \\lambda_{2}}, \\  - \\frac{- 4 \\alpha_{12} \\lambda_{2} - 5 \\lambda_{2}}{4 \\lambda_{2}}, \\  \\alpha_{12}\\right), \\left( \\frac{3 \\lambda_{2}}{4}, \\  \\lambda_{2}, \\  - \\frac{4 \\alpha_{12} \\lambda_{2} - 18 \\lambda_{2}}{3 \\lambda_{2}}, \\  - \\frac{4 \\alpha_{12} \\lambda_{2} + 11 \\lambda_{2}}{3 \\lambda_{2}}, \\  - \\frac{4 \\alpha_{12} \\lambda_{2} + 14 \\lambda_{2}}{3 \\lambda_{2}}, \\  \\frac{4 \\alpha_{12} \\lambda_{2} + 5 \\lambda_{2}}{4 \\lambda_{2}}, \\  \\alpha_{12}\\right)\\right\\}$"
      ],
      "text/plain": [
       "{(0, 0, nan, nan, nan, alpha11, alpha12), (0, 0, nan, nan, alpha03, alpha11, alpha12), (0, 0, nan, alpha02, alpha03, alpha11, alpha12), (0, 0, alpha01, alpha02, alpha03, alpha11, alpha12), (3*lambda2/4, lambda2, -2*(2*alpha12*lambda2 - 9*lambda2)/(3*lambda2), -(4*alpha12*lambda2 + 11*lambda2)/(3*lambda2), -2*(2*alpha12*lambda2 + 7*lambda2)/(3*lambda2), -(-4*alpha12*lambda2 - 5*lambda2)/(4*lambda2), alpha12), (3*lambda2/4, lambda2, -2*(2*alpha12*lambda2 - 9*lambda2)/(3*lambda2), -(4*alpha12*lambda2 + 11*lambda2)/(3*lambda2), -2*(2*alpha12*lambda2 + 7*lambda2)/(3*lambda2), (4*alpha12*lambda2 + 5*lambda2)/(4*lambda2), alpha12), (3*lambda2/4, lambda2, -2*(2*alpha12*lambda2 - 9*lambda2)/(3*lambda2), -(4*alpha12*lambda2 + 11*lambda2)/(3*lambda2), -(4*alpha12*lambda2 + 14*lambda2)/(3*lambda2), -(-4*alpha12*lambda2 - 5*lambda2)/(4*lambda2), alpha12), (3*lambda2/4, lambda2, -2*(2*alpha12*lambda2 - 9*lambda2)/(3*lambda2), -(4*alpha12*lambda2 + 11*lambda2)/(3*lambda2), -(4*alpha12*lambda2 + 14*lambda2)/(3*lambda2), (4*alpha12*lambda2 + 5*lambda2)/(4*lambda2), alpha12), (3*lambda2/4, lambda2, -(4*alpha12*lambda2 - 18*lambda2)/(3*lambda2), -(4*alpha12*lambda2 + 11*lambda2)/(3*lambda2), -2*(2*alpha12*lambda2 + 7*lambda2)/(3*lambda2), -(-4*alpha12*lambda2 - 5*lambda2)/(4*lambda2), alpha12), (3*lambda2/4, lambda2, -(4*alpha12*lambda2 - 18*lambda2)/(3*lambda2), -(4*alpha12*lambda2 + 11*lambda2)/(3*lambda2), -2*(2*alpha12*lambda2 + 7*lambda2)/(3*lambda2), (4*alpha12*lambda2 + 5*lambda2)/(4*lambda2), alpha12), (3*lambda2/4, lambda2, -(4*alpha12*lambda2 - 18*lambda2)/(3*lambda2), -(4*alpha12*lambda2 + 11*lambda2)/(3*lambda2), -(4*alpha12*lambda2 + 14*lambda2)/(3*lambda2), -(-4*alpha12*lambda2 - 5*lambda2)/(4*lambda2), alpha12), (3*lambda2/4, lambda2, -(4*alpha12*lambda2 - 18*lambda2)/(3*lambda2), -(4*alpha12*lambda2 + 11*lambda2)/(3*lambda2), -(4*alpha12*lambda2 + 14*lambda2)/(3*lambda2), (4*alpha12*lambda2 + 5*lambda2)/(4*lambda2), alpha12)}"
      ]
     },
     "execution_count": 153,
     "metadata": {},
     "output_type": "execute_result"
    }
   ],
   "source": [
    "sol"
   ]
  },
  {
   "cell_type": "code",
   "execution_count": 154,
   "id": "971f11d1-26e8-408d-b606-ce2355b41047",
   "metadata": {},
   "outputs": [],
   "source": [
    "# select sols with lambda1 and lambda2 non-zero (if it exists)\n",
    "extracted_sol = list(list(sol)[-1])"
   ]
  },
  {
   "cell_type": "code",
   "execution_count": 155,
   "id": "2fc0ac6f-0059-4fa6-9151-9db7b09e5616",
   "metadata": {},
   "outputs": [
    {
     "data": {
      "text/plain": [
       "[3*lambda2/4,\n",
       " lambda2,\n",
       " -(4*alpha12*lambda2 - 18*lambda2)/(3*lambda2),\n",
       " -(4*alpha12*lambda2 + 11*lambda2)/(3*lambda2),\n",
       " -(4*alpha12*lambda2 + 14*lambda2)/(3*lambda2),\n",
       " (4*alpha12*lambda2 + 5*lambda2)/(4*lambda2),\n",
       " alpha12]"
      ]
     },
     "execution_count": 155,
     "metadata": {},
     "output_type": "execute_result"
    }
   ],
   "source": [
    "extracted_sol"
   ]
  },
  {
   "cell_type": "code",
   "execution_count": 156,
   "id": "c02ce821-1aef-4d69-8285-d820f174ca69",
   "metadata": {},
   "outputs": [],
   "source": [
    "# zip solution in dictionary with dofs\n",
    "sol_dict = dict(zip(dofs, extracted_sol))"
   ]
  },
  {
   "cell_type": "code",
   "execution_count": 157,
   "id": "39d1a96e-704a-408d-b070-e18c16ba0fe7",
   "metadata": {},
   "outputs": [
    {
     "data": {
      "text/plain": [
       "{lambda1: 3*lambda2/4,\n",
       " lambda2: lambda2,\n",
       " alpha01: -(4*alpha12*lambda2 - 18*lambda2)/(3*lambda2),\n",
       " alpha02: -(4*alpha12*lambda2 + 11*lambda2)/(3*lambda2),\n",
       " alpha03: -(4*alpha12*lambda2 + 14*lambda2)/(3*lambda2),\n",
       " alpha11: (4*alpha12*lambda2 + 5*lambda2)/(4*lambda2),\n",
       " alpha12: alpha12}"
      ]
     },
     "execution_count": 157,
     "metadata": {},
     "output_type": "execute_result"
    }
   ],
   "source": [
    "sol_dict"
   ]
  },
  {
   "cell_type": "code",
   "execution_count": 158,
   "id": "417831e0-5f84-43e5-a67d-445230c6ef5b",
   "metadata": {},
   "outputs": [],
   "source": [
    "# fix remaining dofs; to avoid generating zero lambda, generate dictionary with dofs keys and with positive random values\n",
    "fix_remaining_dofs = dict(zip(dofs, np.random.randint(1, 5, numDofs)))"
   ]
  },
  {
   "cell_type": "code",
   "execution_count": 159,
   "id": "e66bd83e-ca13-43d3-9420-9f2b62271d16",
   "metadata": {},
   "outputs": [
    {
     "data": {
      "text/plain": [
       "{lambda1: 1,\n",
       " lambda2: 2,\n",
       " alpha01: 1,\n",
       " alpha02: 2,\n",
       " alpha03: 4,\n",
       " alpha11: 1,\n",
       " alpha12: 1}"
      ]
     },
     "execution_count": 159,
     "metadata": {},
     "output_type": "execute_result"
    }
   ],
   "source": [
    "fix_remaining_dofs"
   ]
  },
  {
   "cell_type": "code",
   "execution_count": 160,
   "id": "518dc722-bcc8-4787-afcd-7bebf2a8aa99",
   "metadata": {},
   "outputs": [],
   "source": [
    "# fix remaining dofs to random number by subbing in sol_dict\n",
    "sol_dict_instance = { key : sol_dict[key].subs(fix_remaining_dofs) for key in sol_dict}"
   ]
  },
  {
   "cell_type": "code",
   "execution_count": 161,
   "id": "3e8ba019-59bb-4f90-aaed-68ec814782fc",
   "metadata": {},
   "outputs": [
    {
     "data": {
      "text/plain": [
       "{lambda1: 3/2,\n",
       " lambda2: 2,\n",
       " alpha01: 14/3,\n",
       " alpha02: -5,\n",
       " alpha03: -6,\n",
       " alpha11: 9/4,\n",
       " alpha12: 1}"
      ]
     },
     "execution_count": 161,
     "metadata": {},
     "output_type": "execute_result"
    }
   ],
   "source": [
    "sol_dict_instance"
   ]
  },
  {
   "cell_type": "code",
   "execution_count": 162,
   "id": "528b6f83-9554-405b-9072-be1676336710",
   "metadata": {},
   "outputs": [
    {
     "data": {
      "text/plain": [
       "{lambda1: 3/2,\n",
       " lambda2: 2,\n",
       " alpha01: 14/3,\n",
       " alpha02: -5,\n",
       " alpha03: -6,\n",
       " alpha11: 9/4,\n",
       " alpha12: 1}"
      ]
     },
     "execution_count": 162,
     "metadata": {},
     "output_type": "execute_result"
    }
   ],
   "source": [
    "# Sometimes solution returns finite set; convert to float\n",
    "for key in sol_dict_instance:\n",
    "    value = sol_dict_instance[key]\n",
    "    if type(value) == FiniteSet:\n",
    "        sol_dict_instance[key] = value.args[0]\n",
    "    elif type(value) == Interval:\n",
    "        print(f'\\nThere is interval solution: {key} in {value}\\n')\n",
    "\n",
    "sol_dict_instance"
   ]
  },
  {
   "cell_type": "code",
   "execution_count": 163,
   "id": "b5156193-f119-4207-a18c-e4ed2d56094c",
   "metadata": {},
   "outputs": [],
   "source": [
    "# Manually fix solution in interval if needed\n",
    "#sol_dict_instance[lambda2] = 1\n",
    "#sol_dict_instance"
   ]
  },
  {
   "cell_type": "code",
   "execution_count": 164,
   "id": "c1510456-d20a-41dd-8e15-357918dd3b18",
   "metadata": {},
   "outputs": [],
   "source": [
    "# util to replace solution dictionary in target dictionary\n",
    "\n",
    "def replace_in_dict(target_dict, sol_dict):\n",
    "    return { key : target_dict[key].subs(sol_dict) for key in target_dict }"
   ]
  },
  {
   "cell_type": "code",
   "execution_count": 165,
   "id": "7ce75350-c85f-4479-bf0b-2f89d31ad9f9",
   "metadata": {},
   "outputs": [],
   "source": [
    "k_sol = [replace_in_dict(ki, sol_dict_instance) for ki in k]"
   ]
  },
  {
   "cell_type": "code",
   "execution_count": 166,
   "id": "bd159549-dd87-4a41-9cb8-e6e195551f40",
   "metadata": {},
   "outputs": [
    {
     "data": {
      "text/plain": [
       "[{('a01', 'a11'): 14/3,\n",
       "  ('a01', 'a12'): -5,\n",
       "  ('a01', 'a13'): -6,\n",
       "  ('a02', 'a11'): 14/3,\n",
       "  ('a02', 'a12'): -5,\n",
       "  ('a02', 'a13'): -6},\n",
       " {('a01', 'a11'): 9/4,\n",
       "  ('a02', 'a11'): 1,\n",
       "  ('a01', 'a12'): 9/4,\n",
       "  ('a02', 'a12'): 1,\n",
       "  ('a01', 'a13'): 9/4,\n",
       "  ('a02', 'a13'): 1}]"
      ]
     },
     "execution_count": 166,
     "metadata": {},
     "output_type": "execute_result"
    }
   ],
   "source": [
    "# Solution : full payoff of non-strategic game\n",
    "k_sol"
   ]
  },
  {
   "cell_type": "code",
   "execution_count": 167,
   "id": "3f681d54-622f-4cb9-80b1-cf993bd6a0b6",
   "metadata": {},
   "outputs": [
    {
     "data": {
      "text/plain": [
       "[3/2, 2]"
      ]
     },
     "execution_count": 167,
     "metadata": {},
     "output_type": "execute_result"
    }
   ],
   "source": [
    "# Solution: zero-sum weights\n",
    "lam_sol = [l.subs(sol_dict_instance) for l in lam]\n",
    "lam_sol"
   ]
  },
  {
   "cell_type": "markdown",
   "id": "15cf984a-ac16-4cb2-959e-ebe25495d6df",
   "metadata": {},
   "source": [
    "# Build weighted zero sum game\n",
    "$$u = z+k$$ so $$z = u-k$$"
   ]
  },
  {
   "cell_type": "code",
   "execution_count": 168,
   "id": "e1801655-5d0f-4027-83f8-f3ffd544ca10",
   "metadata": {},
   "outputs": [
    {
     "data": {
      "text/plain": [
       "[{('a01', 'a11'): 37/3,\n",
       "  ('a01', 'a12'): -1,\n",
       "  ('a01', 'a13'): -1,\n",
       "  ('a02', 'a11'): -8/3,\n",
       "  ('a02', 'a12'): 4,\n",
       "  ('a02', 'a13'): 4},\n",
       " {('a01', 'a11'): -37/4,\n",
       "  ('a01', 'a12'): 3/4,\n",
       "  ('a01', 'a13'): 3/4,\n",
       "  ('a02', 'a11'): 2,\n",
       "  ('a02', 'a12'): -3,\n",
       "  ('a02', 'a13'): -3}]"
      ]
     },
     "execution_count": 168,
     "metadata": {},
     "output_type": "execute_result"
    }
   ],
   "source": [
    "# Weighted zero-sum game full payoff dictionary\n",
    "\n",
    "z = [ { a: u[i][a] - k_sol[i][a] for a in pures } for i in players   ]\n",
    "\n",
    "z"
   ]
  },
  {
   "cell_type": "code",
   "execution_count": 169,
   "id": "70ab375b-4850-434e-babf-dfad968f4683",
   "metadata": {},
   "outputs": [],
   "source": [
    "# Assert is weighted zero-sum\n",
    "for a in pures:\n",
    "    weighted_sum = sum( [ lam_sol[i] * z[i][a] for i in players ] )\n",
    "    assert weighted_sum < 1e-12"
   ]
  },
  {
   "cell_type": "markdown",
   "id": "1d77c56b-435a-4f8e-aee7-c3c0bb277ab7",
   "metadata": {},
   "source": [
    "# Print results"
   ]
  },
  {
   "cell_type": "code",
   "execution_count": 170,
   "id": "4b5e9253-1435-4527-8d19-feb908f60a0b",
   "metadata": {},
   "outputs": [
    {
     "name": "stdout",
     "output_type": "stream",
     "text": [
      "\n",
      "Game: [2, 3]\n",
      "\n",
      "u = z + k\n",
      "\n",
      "u original game\n",
      "z weighetd zero-sum game\n",
      "k non-strategic game\n",
      "\n",
      "Weights = [3/2, 2] such that sum_i λ_i z_i = 0\n",
      "\n",
      "Solution found\n"
     ]
    }
   ],
   "source": [
    "print(f'\\nGame: {skeleton}')\n",
    "print(f'\\nu = z + k')\n",
    "print('\\nu original game')\n",
    "print('z weighetd zero-sum game')\n",
    "print('k non-strategic game')\n",
    "print(f'\\nWeights = {lam_sol} such that sum_i λ_i z_i = 0\\n' )\n",
    "\n",
    "sol_exist = True\n",
    "for l in lam_sol:\n",
    "    if l == 0:\n",
    "        sol_exist = False\n",
    "        print('Solution not found')\n",
    "        break\n",
    "if sol_exist: print('Solution found')"
   ]
  },
  {
   "cell_type": "code",
   "execution_count": 171,
   "id": "ad19b498-d3e4-452d-906b-379167eeb446",
   "metadata": {},
   "outputs": [
    {
     "name": "stdout",
     "output_type": "stream",
     "text": [
      "u_0('a01', 'a11') = 17\n",
      "u_0('a01', 'a12') = -6\n",
      "u_0('a01', 'a13') = -7\n",
      "u_0('a02', 'a11') = 2\n",
      "u_0('a02', 'a12') = -1\n",
      "u_0('a02', 'a13') = -2\n",
      "\n",
      "u_1('a01', 'a11') = -7\n",
      "u_1('a01', 'a12') = 3\n",
      "u_1('a01', 'a13') = 3\n",
      "u_1('a02', 'a11') = 3\n",
      "u_1('a02', 'a12') = -2\n",
      "u_1('a02', 'a13') = -2\n",
      "\n",
      "z_0('a01', 'a11') = 37/3\n",
      "z_0('a01', 'a12') = -1\n",
      "z_0('a01', 'a13') = -1\n",
      "z_0('a02', 'a11') = -8/3\n",
      "z_0('a02', 'a12') = 4\n",
      "z_0('a02', 'a13') = 4\n",
      "\n",
      "z_1('a01', 'a11') = -37/4\n",
      "z_1('a01', 'a12') = 3/4\n",
      "z_1('a01', 'a13') = 3/4\n",
      "z_1('a02', 'a11') = 2\n",
      "z_1('a02', 'a12') = -3\n",
      "z_1('a02', 'a13') = -3\n",
      "\n",
      "k_0('a01', 'a11') = 14/3\n",
      "k_0('a01', 'a12') = -5\n",
      "k_0('a01', 'a13') = -6\n",
      "k_0('a02', 'a11') = 14/3\n",
      "k_0('a02', 'a12') = -5\n",
      "k_0('a02', 'a13') = -6\n",
      "\n",
      "k_1('a01', 'a11') = 9/4\n",
      "k_1('a01', 'a12') = 9/4\n",
      "k_1('a01', 'a13') = 9/4\n",
      "k_1('a02', 'a11') = 1\n",
      "k_1('a02', 'a12') = 1\n",
      "k_1('a02', 'a13') = 1\n",
      "\n"
     ]
    }
   ],
   "source": [
    "print_payoff(u, 'u')\n",
    "print_payoff(z, 'z')\n",
    "print_payoff(k_sol, 'k')"
   ]
  },
  {
   "cell_type": "markdown",
   "id": "526913e8-0a55-47bf-ba09-407f006e18b8",
   "metadata": {},
   "source": [
    "# Findings\n",
    "Being $\\sim$ means being strategically equivalent to a weighted zero-sum game.\n",
    "\n",
    "## Random\n",
    "### 2-player\n",
    "- random $2\\times2$ seems always $\\sim$\n",
    "- random $2$-player game other than $2\\times2$  seems never $\\sim$\n",
    "\n",
    "### 3-player\n",
    "- random $3$-player seems often $\\sim$\n",
    "\n",
    "### 4-player\n",
    "- random $4$-player seems never $\\sim$\n",
    "\n",
    "## Harmonic (generalized, N player)\n",
    "- **proved: always ~**"
   ]
  },
  {
   "cell_type": "markdown",
   "id": "292abe02",
   "metadata": {},
   "source": [
    "# End"
   ]
  }
 ],
 "metadata": {
  "kernelspec": {
   "display_name": "Python 3 (ipykernel)",
   "language": "python",
   "name": "python3"
  },
  "language_info": {
   "codemirror_mode": {
    "name": "ipython",
    "version": 3
   },
   "file_extension": ".py",
   "mimetype": "text/x-python",
   "name": "python",
   "nbconvert_exporter": "python",
   "pygments_lexer": "ipython3",
   "version": "3.12.3"
  }
 },
 "nbformat": 4,
 "nbformat_minor": 5
}
