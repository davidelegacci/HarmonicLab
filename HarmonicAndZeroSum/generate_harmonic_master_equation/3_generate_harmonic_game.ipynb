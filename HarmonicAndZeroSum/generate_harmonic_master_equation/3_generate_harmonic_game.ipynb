{
 "cells": [
  {
   "cell_type": "code",
   "execution_count": 2,
   "id": "13956eb3-3756-43f7-997a-0114fdbcc235",
   "metadata": {},
   "outputs": [],
   "source": [
    "from sympy import *\n",
    "import itertools as it\n",
    "import numpy as np"
   ]
  },
  {
   "cell_type": "code",
   "execution_count": 3,
   "id": "60f4d655",
   "metadata": {},
   "outputs": [],
   "source": [
    "# Make symbols: methods to dynamically create as many as needed strings and Sympy symbols\n",
    "# Shift is starting index; default 0\n",
    "\n",
    "def make_strings(N,s, shift = 0):\n",
    "\tmy_strings = []\n",
    "\tfor i in range(shift, N + shift):\n",
    "\t    tmp_st = f'{s}{i}'\n",
    "\t    my_strings.append(tmp_st)\n",
    "\treturn my_strings\n",
    "\n",
    "def make_symbols(N,s, shift = 0):\n",
    "\tmy_symbols = []\n",
    "\tfor i in range(shift, N + shift):\n",
    "\t    tmp_st = f'{s}{i}'\n",
    "\t    globals()[tmp_st] = Symbol(tmp_st)\n",
    "\t    my_symbols.append(globals()[tmp_st])\n",
    "\treturn my_symbols"
   ]
  },
  {
   "cell_type": "markdown",
   "id": "a260385c-d254-478c-abad-54156b021118",
   "metadata": {},
   "source": [
    "# Generate harmonic game\n",
    "\n",
    "Given measure, find harmonic game"
   ]
  },
  {
   "cell_type": "markdown",
   "id": "ff3c29c8-f1cb-45f2-8906-56ff8c9858b8",
   "metadata": {},
   "source": [
    "# Parameters"
   ]
  },
  {
   "cell_type": "code",
   "execution_count": 4,
   "id": "cb87129a-e7fe-452c-8d2c-bc8422b3e617",
   "metadata": {},
   "outputs": [
    {
     "data": {
      "text/plain": [
       "[2, 2]"
      ]
     },
     "execution_count": 4,
     "metadata": {},
     "output_type": "execute_result"
    }
   ],
   "source": [
    "# Game skeleton\n",
    "\n",
    "#numPlayers = 4\n",
    "\n",
    "#skeleton = np.random.randint(2, 6, numPlayers)\n",
    "\n",
    "skeleton = [2, 2]\n",
    "skeleton"
   ]
  },
  {
   "cell_type": "code",
   "execution_count": 5,
   "id": "90f8d17d-d6a2-4b30-bf55-64a869a9009c",
   "metadata": {},
   "outputs": [],
   "source": [
    "# N\n",
    "numPlayers = len(skeleton)\n",
    "players = range(numPlayers)\n",
    "\n",
    "# -------------------------\n",
    "# Number of action profiles\n",
    "# -------------------------\n",
    "\n",
    "# A\n",
    "numPures = prod(skeleton)\n",
    "\n",
    "# List of A_{-i} = for each player, number of action profiles of other players\n",
    "numPuresMinus = [  int(numPures / skeleton[i]) for i in players ]\n",
    "\n",
    "# -------------------------\n",
    "# Number of payoff degrees of freedom\n",
    "# -------------------------\n",
    "\n",
    "# AN; number of payoff degrees of freedom\n",
    "numPays = numPlayers * numPures\n",
    "\n",
    "# sum_i A_i; number of harmonic measure dofs\n",
    "numMeas = sum(skeleton)"
   ]
  },
  {
   "cell_type": "code",
   "execution_count": 6,
   "id": "89324e17-2a67-403b-81e8-2d3317b533de",
   "metadata": {},
   "outputs": [],
   "source": [
    "# Pure actions: list of N lists, each with Ai elements; pure actions of each player\n",
    "\n",
    "pures_play = [ make_strings(skeleton[i], f'a{i}', shift = 1) for i in players ]"
   ]
  },
  {
   "cell_type": "code",
   "execution_count": 7,
   "id": "2f60eaa9-8fd4-41ed-a1d9-247b572fb319",
   "metadata": {},
   "outputs": [
    {
     "data": {
      "text/plain": [
       "[['a01', 'a02'], ['a11', 'a12']]"
      ]
     },
     "execution_count": 7,
     "metadata": {},
     "output_type": "execute_result"
    }
   ],
   "source": [
    "pures_play"
   ]
  },
  {
   "cell_type": "code",
   "execution_count": 8,
   "id": "f0ac537f-ec3b-4a94-b99c-05a6d506ca8a",
   "metadata": {},
   "outputs": [],
   "source": [
    "# Pure profiles; cartesian product of pure actions of each player\n",
    "# Returns one list with A = numPures elements; each element is a tuple of strings\n",
    "\n",
    "pures = list(it.product(*pures_play))"
   ]
  },
  {
   "cell_type": "code",
   "execution_count": 9,
   "id": "ea0fcc78-468d-42bf-b7c7-b0ba2efd4de1",
   "metadata": {},
   "outputs": [
    {
     "data": {
      "text/plain": [
       "[('a01', 'a11'), ('a01', 'a12'), ('a02', 'a11'), ('a02', 'a12')]"
      ]
     },
     "execution_count": 9,
     "metadata": {},
     "output_type": "execute_result"
    }
   ],
   "source": [
    "pures"
   ]
  },
  {
   "cell_type": "code",
   "execution_count": 10,
   "id": "dfd59f2a-19ae-4f77-8ca4-023d2eb637f3",
   "metadata": {},
   "outputs": [],
   "source": [
    "assert len(pures) == numPures"
   ]
  },
  {
   "cell_type": "markdown",
   "id": "a6ccacd1-b38a-4ac1-a725-ce9fe4ce4042",
   "metadata": {},
   "source": [
    "# Harmonic measure"
   ]
  },
  {
   "cell_type": "code",
   "execution_count": 11,
   "id": "77ee2b3c-dddd-40ea-85cf-0a2244cf4e0d",
   "metadata": {},
   "outputs": [
    {
     "data": {
      "text/plain": [
       "[[1, 2], [1, 1]]"
      ]
     },
     "execution_count": 11,
     "metadata": {},
     "output_type": "execute_result"
    }
   ],
   "source": [
    "# mu_values = [ np.random.randint(1, 5, skeleton[i]) for i in players]\n",
    "\n",
    "mu_values = [  [1, 2], [1, 1] ]\n",
    "\n",
    "# mu_values = [  [1, 2], [1, 3], [1,4], [1, 2, 3]  ]\n",
    "\n",
    "mu_values"
   ]
  },
  {
   "cell_type": "code",
   "execution_count": 12,
   "id": "47987a3b-40d1-44c2-8c62-41814afa96b1",
   "metadata": {},
   "outputs": [
    {
     "data": {
      "text/plain": [
       "[{'a01': 1, 'a02': 2}, {'a11': 1, 'a12': 1}]"
      ]
     },
     "execution_count": 12,
     "metadata": {},
     "output_type": "execute_result"
    }
   ],
   "source": [
    "# Pack mu in list of dicts\n",
    "\n",
    "mu = [   dict(zip( pures_play[i], mu_values[i] )) for i in players    ]\n",
    "mu"
   ]
  },
  {
   "cell_type": "code",
   "execution_count": 13,
   "id": "8f80c283-4b2e-42b7-ac41-4028244b1bdc",
   "metadata": {},
   "outputs": [
    {
     "data": {
      "text/plain": [
       "4"
      ]
     },
     "execution_count": 13,
     "metadata": {},
     "output_type": "execute_result"
    }
   ],
   "source": [
    "numPures"
   ]
  },
  {
   "cell_type": "code",
   "execution_count": 14,
   "id": "7b6863e0-eaee-4184-b93a-cf07ba7dcb45",
   "metadata": {},
   "outputs": [
    {
     "data": {
      "text/plain": [
       "[2, 2]"
      ]
     },
     "execution_count": 14,
     "metadata": {},
     "output_type": "execute_result"
    }
   ],
   "source": [
    "numPuresMinus"
   ]
  },
  {
   "cell_type": "code",
   "execution_count": 15,
   "id": "d484d1a7-57bc-4b9d-a224-7c7f5c5c154d",
   "metadata": {},
   "outputs": [
    {
     "data": {
      "text/plain": [
       "8"
      ]
     },
     "execution_count": 15,
     "metadata": {},
     "output_type": "execute_result"
    }
   ],
   "source": [
    "numPays"
   ]
  },
  {
   "cell_type": "code",
   "execution_count": 16,
   "id": "c5e4bf53-ef31-489c-a1f9-31e53319515f",
   "metadata": {},
   "outputs": [
    {
     "data": {
      "text/plain": [
       "4"
      ]
     },
     "execution_count": 16,
     "metadata": {},
     "output_type": "execute_result"
    }
   ],
   "source": [
    "numMeas"
   ]
  },
  {
   "cell_type": "code",
   "execution_count": 17,
   "id": "4352335f-e0b2-4b81-b95a-08b788ecd13d",
   "metadata": {},
   "outputs": [],
   "source": [
    "def print_payoff(payoff_dict, payoff_symbol):\n",
    "    for i in players:\n",
    "        for a in pures:\n",
    "            print( f'{payoff_symbol}_{i}{a} = {payoff_dict[i][a]}' )\n",
    "        print()"
   ]
  },
  {
   "cell_type": "markdown",
   "id": "86c8aab7-730d-41ba-bf0b-0cacda506245",
   "metadata": {},
   "source": [
    "# Profiles of other players"
   ]
  },
  {
   "cell_type": "code",
   "execution_count": 18,
   "id": "c225d35e-abdc-4e9f-a500-8d17bc980cb6",
   "metadata": {},
   "outputs": [],
   "source": [
    "# Pure profiles of other players\n",
    "# Make list of N lists; the list pure_minus[i] contains the pure action profiles of players other than i\n",
    "# Build taking the cartesian product of pure actions of all players other than i\n",
    "# The size of the list pure_minus[i] is A_{-i} = \\prod_{j \\neq i} A_j\n",
    "\n",
    "pures_minus = [ list( it.product( *( pures_play[:i] + pures_play[i+1:] ) ) ) for i in players ]"
   ]
  },
  {
   "cell_type": "code",
   "execution_count": 19,
   "id": "428dd617-1938-494f-8342-df854e4a9ec4",
   "metadata": {},
   "outputs": [
    {
     "data": {
      "text/plain": [
       "[[('a11',), ('a12',)], [('a01',), ('a02',)]]"
      ]
     },
     "execution_count": 19,
     "metadata": {},
     "output_type": "execute_result"
    }
   ],
   "source": [
    "pures_minus"
   ]
  },
  {
   "cell_type": "code",
   "execution_count": 20,
   "id": "f97e0ae1-ad68-4de3-ad48-77af8627e9ef",
   "metadata": {},
   "outputs": [
    {
     "data": {
      "text/plain": [
       "[2, 2]"
      ]
     },
     "execution_count": 20,
     "metadata": {},
     "output_type": "execute_result"
    }
   ],
   "source": [
    "numPuresMinus"
   ]
  },
  {
   "cell_type": "code",
   "execution_count": 21,
   "id": "dd1a4f70-3ebb-4255-8290-da6ebcdd9836",
   "metadata": {},
   "outputs": [],
   "source": [
    "for i in players:\n",
    "    assert len(pures_minus[i]) == numPuresMinus[i]"
   ]
  },
  {
   "cell_type": "markdown",
   "id": "c8b7bdae-e523-43f9-a9b7-9c8bce1914b6",
   "metadata": {},
   "source": [
    "# Make a"
   ]
  },
  {
   "cell_type": "code",
   "execution_count": 22,
   "id": "770e216c-80a2-4c09-8d22-2573dc3f46e5",
   "metadata": {},
   "outputs": [],
   "source": [
    "# Util to make (a_i, a_{-i}) given a_i and a_{-i} as tuple of strings (to be used as key for payoff dictionaries)\n",
    "def make_pure(ai, a_minus_i, i):\n",
    "    l = list(a_minus_i)\n",
    "    return tuple(l[:i] + [ai] + l[i:])"
   ]
  },
  {
   "cell_type": "code",
   "execution_count": 23,
   "id": "2a2ea4fc-d8ef-4d6d-9442-f206cc568795",
   "metadata": {},
   "outputs": [],
   "source": [
    "def split_pure(a, i):\n",
    "    \n",
    "    ai = a[i]\n",
    "\n",
    "    l = list(a)\n",
    "    a_minus_i = tuple( l[:i] + l[i+1:] )\n",
    "    return ai, a_minus_i"
   ]
  },
  {
   "cell_type": "code",
   "execution_count": 24,
   "id": "da36612c-714a-4d14-a161-942434afa021",
   "metadata": {},
   "outputs": [],
   "source": [
    "# check consistency\n",
    "for i in players:\n",
    "    for a in pures:\n",
    "        ai, a_minus_i = split_pure(a, i)\n",
    "        assert a == make_pure( ai, a_minus_i, i )"
   ]
  },
  {
   "cell_type": "markdown",
   "id": "aaed4957-305a-4d08-81b2-d1e9f8bee92f",
   "metadata": {},
   "source": [
    "# Harmonic payoff"
   ]
  },
  {
   "cell_type": "code",
   "execution_count": 25,
   "id": "1fd2c7db-3857-4b81-94d0-06778ea53d31",
   "metadata": {},
   "outputs": [
    {
     "data": {
      "text/plain": [
       "[[h01, h02, h03, h04], [h11, h12, h13, h14]]"
      ]
     },
     "execution_count": 25,
     "metadata": {},
     "output_type": "execute_result"
    }
   ],
   "source": [
    "# harmonic payoff degrees of freedom; will build harmonic payoff h out of these\n",
    "\n",
    "# to be determined harmonic payoff of player i (as many as A)\n",
    "\n",
    "h_sym = [make_symbols(numPures, f'h{i}', shift = 1) for i in players]\n",
    "h_sym"
   ]
  },
  {
   "cell_type": "code",
   "execution_count": 26,
   "id": "9e1b082d-9c94-4736-bc3a-b2deb0339c9e",
   "metadata": {},
   "outputs": [
    {
     "data": {
      "text/plain": [
       "[{('a01', 'a11'): h01,\n",
       "  ('a01', 'a12'): h02,\n",
       "  ('a02', 'a11'): h03,\n",
       "  ('a02', 'a12'): h04},\n",
       " {('a01', 'a11'): h11,\n",
       "  ('a01', 'a12'): h12,\n",
       "  ('a02', 'a11'): h13,\n",
       "  ('a02', 'a12'): h14}]"
      ]
     },
     "execution_count": 26,
     "metadata": {},
     "output_type": "execute_result"
    }
   ],
   "source": [
    "h = [  dict(zip(pures , h_sym[i] ))  for i in players]\n",
    "h"
   ]
  },
  {
   "cell_type": "code",
   "execution_count": 27,
   "id": "173beba3-f11a-4bfd-ae41-841917e59cc5",
   "metadata": {},
   "outputs": [
    {
     "data": {
      "text/plain": [
       "[('a01', 'a11'), ('a01', 'a12'), ('a02', 'a11'), ('a02', 'a12')]"
      ]
     },
     "execution_count": 27,
     "metadata": {},
     "output_type": "execute_result"
    }
   ],
   "source": [
    "pures"
   ]
  },
  {
   "cell_type": "markdown",
   "id": "bc51e5b9-7650-4ba8-bba8-89482ba099b1",
   "metadata": {},
   "source": [
    "# System"
   ]
  },
  {
   "cell_type": "code",
   "execution_count": 28,
   "id": "4f73412c-df8e-4d3c-922c-6c3b322c0f7a",
   "metadata": {},
   "outputs": [
    {
     "data": {
      "text/plain": [
       "[('a01', 'a11'), ('a01', 'a12'), ('a02', 'a11'), ('a02', 'a12')]"
      ]
     },
     "execution_count": 28,
     "metadata": {},
     "output_type": "execute_result"
    }
   ],
   "source": [
    "pures"
   ]
  },
  {
   "cell_type": "code",
   "execution_count": 29,
   "id": "412a11a8-2c1b-4b07-969f-8a57b435c57c",
   "metadata": {},
   "outputs": [
    {
     "data": {
      "text/plain": [
       "[['a01', 'a02'], ['a11', 'a12']]"
      ]
     },
     "execution_count": 29,
     "metadata": {},
     "output_type": "execute_result"
    }
   ],
   "source": [
    "pures_play"
   ]
  },
  {
   "cell_type": "code",
   "execution_count": 30,
   "id": "13613371-1f26-488d-a32c-c7d0e61e956d",
   "metadata": {},
   "outputs": [
    {
     "data": {
      "text/plain": [
       "[[('a11',), ('a12',)], [('a01',), ('a02',)]]"
      ]
     },
     "execution_count": 30,
     "metadata": {},
     "output_type": "execute_result"
    }
   ],
   "source": [
    "pures_minus"
   ]
  },
  {
   "cell_type": "code",
   "execution_count": 31,
   "id": "fdc5d244-fd60-4452-9d3e-ed87924a2050",
   "metadata": {},
   "outputs": [],
   "source": [
    "# --------------------------------\n",
    "# KEY: HARMONIC FUNCTION\n",
    "# --------------------------------\n",
    "def Hi(a, i):\n",
    "    ai, a_minus_i = split_pure(a, i)\n",
    "    return sum(   [   mu[i][bi] * ( h[i][a] - h[i][ make_pure(bi, a_minus_i, i) ] )    for bi in pures_play[i]   ]  )"
   ]
  },
  {
   "cell_type": "code",
   "execution_count": 32,
   "id": "e723a64c-27f8-4a8a-90a2-4074bd852d8b",
   "metadata": {},
   "outputs": [
    {
     "name": "stdout",
     "output_type": "stream",
     "text": [
      "2*h01 - 2*h03\n",
      "2*h02 - 2*h04\n",
      "-h01 + h03\n",
      "-h02 + h04\n",
      "h11 - h12\n",
      "-h11 + h12\n",
      "h13 - h14\n",
      "-h13 + h14\n"
     ]
    }
   ],
   "source": [
    "for i in players:\n",
    "    for a in pures:\n",
    "        print( Hi( a, i ) )"
   ]
  },
  {
   "cell_type": "code",
   "execution_count": 33,
   "id": "8c300f7b-09ab-40f4-95f0-61d1d5d819fe",
   "metadata": {},
   "outputs": [],
   "source": [
    "# --------------------------------\n",
    "# KEY: HARMONIC SYSTEM in degrees of freedom h, that is payoff to be determined, prescribed the harmonic measure\n",
    "# --------------------------------\n",
    "system = [  sum( [  Hi(a,i)   for i in players ] )   for a in pures  ]"
   ]
  },
  {
   "cell_type": "code",
   "execution_count": 34,
   "id": "f6a452bd-4ee3-4ae3-963a-2cc58b0430fd",
   "metadata": {},
   "outputs": [
    {
     "data": {
      "text/plain": [
       "[2*h01 - 2*h03 + h11 - h12,\n",
       " 2*h02 - 2*h04 - h11 + h12,\n",
       " -h01 + h03 + h13 - h14,\n",
       " -h02 + h04 - h13 + h14]"
      ]
     },
     "execution_count": 34,
     "metadata": {},
     "output_type": "execute_result"
    }
   ],
   "source": [
    "system"
   ]
  },
  {
   "cell_type": "code",
   "execution_count": 35,
   "id": "2a8fe2a2-8175-464f-ac7c-eab05a9d6c1b",
   "metadata": {},
   "outputs": [],
   "source": [
    "# one equation per pure in pures\n",
    "assert len(system) == numPures"
   ]
  },
  {
   "cell_type": "code",
   "execution_count": 36,
   "id": "97f7fe83-e0a4-4500-821d-c002acec01a3",
   "metadata": {},
   "outputs": [
    {
     "data": {
      "text/plain": [
       "[h01, h02, h03, h04, h11, h12, h13, h14]"
      ]
     },
     "execution_count": 36,
     "metadata": {},
     "output_type": "execute_result"
    }
   ],
   "source": [
    "# Unknowns of system to solve: the weights (one per player) + the non-strategic dofs\n",
    "dofs = list(it.chain(*h_sym))\n",
    "dofs"
   ]
  },
  {
   "cell_type": "code",
   "execution_count": 37,
   "id": "cf95f160-22c3-4b06-9d51-306eec8b30e5",
   "metadata": {},
   "outputs": [],
   "source": [
    "numDofs = len(dofs)"
   ]
  },
  {
   "cell_type": "code",
   "execution_count": 38,
   "id": "bae667d6-9c3e-401f-86ab-3f5ddaef0096",
   "metadata": {},
   "outputs": [],
   "source": [
    "# Unknowns of system to solve: harmonic weights\n",
    "assert numDofs == numPays"
   ]
  },
  {
   "cell_type": "code",
   "execution_count": 39,
   "id": "4fda08f7-8d90-4c6b-bbe2-fca17d1083b8",
   "metadata": {},
   "outputs": [],
   "source": [
    "# Matrix of linear system\n",
    "A, b = linear_eq_to_matrix(system, *dofs)"
   ]
  },
  {
   "cell_type": "code",
   "execution_count": 40,
   "id": "98418096-f1bf-44da-9f3d-f1182fa3ea28",
   "metadata": {},
   "outputs": [
    {
     "data": {
      "text/latex": [
       "$\\displaystyle \\left[\\begin{matrix}2 & 0 & -2 & 0 & 1 & -1 & 0 & 0\\\\0 & 2 & 0 & -2 & -1 & 1 & 0 & 0\\\\-1 & 0 & 1 & 0 & 0 & 0 & 1 & -1\\\\0 & -1 & 0 & 1 & 0 & 0 & -1 & 1\\end{matrix}\\right]$"
      ],
      "text/plain": [
       "Matrix([\n",
       "[ 2,  0, -2,  0,  1, -1,  0,  0],\n",
       "[ 0,  2,  0, -2, -1,  1,  0,  0],\n",
       "[-1,  0,  1,  0,  0,  0,  1, -1],\n",
       "[ 0, -1,  0,  1,  0,  0, -1,  1]])"
      ]
     },
     "execution_count": 40,
     "metadata": {},
     "output_type": "execute_result"
    }
   ],
   "source": [
    "A"
   ]
  },
  {
   "cell_type": "code",
   "execution_count": 41,
   "id": "40094d64-90c4-4dec-8b06-1b015fe72554",
   "metadata": {},
   "outputs": [],
   "source": [
    "sol = solve(system, dofs)"
   ]
  },
  {
   "cell_type": "code",
   "execution_count": 42,
   "id": "16f9104d-d73d-433c-bc3e-01490521d82e",
   "metadata": {},
   "outputs": [
    {
     "data": {
      "text/plain": [
       "{h01: h03 + h13 - h14, h02: h04 - h13 + h14, h11: h12 - 2*h13 + 2*h14}"
      ]
     },
     "execution_count": 42,
     "metadata": {},
     "output_type": "execute_result"
    }
   ],
   "source": [
    "# Solution\n",
    "sol"
   ]
  },
  {
   "cell_type": "code",
   "execution_count": 43,
   "id": "971f11d1-26e8-408d-b606-ce2355b41047",
   "metadata": {},
   "outputs": [],
   "source": [
    "# Replace sol in dofs\n",
    "\n",
    "extracted_sol = [e.subs(sol) for e in dofs]"
   ]
  },
  {
   "cell_type": "code",
   "execution_count": 44,
   "id": "2fc0ac6f-0059-4fa6-9151-9db7b09e5616",
   "metadata": {
    "scrolled": true
   },
   "outputs": [
    {
     "data": {
      "text/plain": [
       "[h03 + h13 - h14,\n",
       " h04 - h13 + h14,\n",
       " h03,\n",
       " h04,\n",
       " h12 - 2*h13 + 2*h14,\n",
       " h12,\n",
       " h13,\n",
       " h14]"
      ]
     },
     "execution_count": 44,
     "metadata": {},
     "output_type": "execute_result"
    }
   ],
   "source": [
    "extracted_sol"
   ]
  },
  {
   "cell_type": "markdown",
   "id": "0b0c6b94-b2f1-47c8-a000-0cee3417fcca",
   "metadata": {},
   "source": [
    "# General solution here"
   ]
  },
  {
   "cell_type": "code",
   "execution_count": 45,
   "id": "c02ce821-1aef-4d69-8285-d820f174ca69",
   "metadata": {},
   "outputs": [],
   "source": [
    "# zip solution in dictionary with dofs\n",
    "sol_dict = dict(zip(dofs, extracted_sol))"
   ]
  },
  {
   "cell_type": "code",
   "execution_count": 46,
   "id": "39d1a96e-704a-408d-b070-e18c16ba0fe7",
   "metadata": {},
   "outputs": [
    {
     "data": {
      "text/plain": [
       "{h01: h03 + h13 - h14,\n",
       " h02: h04 - h13 + h14,\n",
       " h03: h03,\n",
       " h04: h04,\n",
       " h11: h12 - 2*h13 + 2*h14,\n",
       " h12: h12,\n",
       " h13: h13,\n",
       " h14: h14}"
      ]
     },
     "execution_count": 46,
     "metadata": {},
     "output_type": "execute_result"
    }
   ],
   "source": [
    "sol_dict"
   ]
  },
  {
   "cell_type": "markdown",
   "id": "997a81d1-b08a-4a6e-8bbf-1c07643a9cd0",
   "metadata": {},
   "source": [
    "---"
   ]
  },
  {
   "cell_type": "markdown",
   "id": "9d512ff2-66bf-4cee-a5f4-024faffdd18e",
   "metadata": {},
   "source": [
    "# Build solution instance"
   ]
  },
  {
   "cell_type": "code",
   "execution_count": 47,
   "id": "417831e0-5f84-43e5-a67d-445230c6ef5b",
   "metadata": {},
   "outputs": [],
   "source": [
    "# fix remaining dofs; generate dictionary with dofs keys and random values\n",
    "fix_remaining_dofs = dict(zip(dofs, np.random.randint(-5, 5, numDofs)))"
   ]
  },
  {
   "cell_type": "code",
   "execution_count": 48,
   "id": "e66bd83e-ca13-43d3-9420-9f2b62271d16",
   "metadata": {},
   "outputs": [
    {
     "data": {
      "text/plain": [
       "{h01: 0, h02: -3, h03: -2, h04: -1, h11: 1, h12: 0, h13: -1, h14: -3}"
      ]
     },
     "execution_count": 48,
     "metadata": {},
     "output_type": "execute_result"
    }
   ],
   "source": [
    "fix_remaining_dofs"
   ]
  },
  {
   "cell_type": "code",
   "execution_count": 49,
   "id": "518dc722-bcc8-4787-afcd-7bebf2a8aa99",
   "metadata": {},
   "outputs": [],
   "source": [
    "# fix remaining dofs to random number by subbing in sol_dict\n",
    "sol_dict_instance = { key : sol_dict[key].subs(fix_remaining_dofs) for key in sol_dict}"
   ]
  },
  {
   "cell_type": "code",
   "execution_count": 50,
   "id": "3e8ba019-59bb-4f90-aaed-68ec814782fc",
   "metadata": {},
   "outputs": [
    {
     "data": {
      "text/plain": [
       "{h01: 0, h02: -3, h03: -2, h04: -1, h11: -4, h12: 0, h13: -1, h14: -3}"
      ]
     },
     "execution_count": 50,
     "metadata": {},
     "output_type": "execute_result"
    }
   ],
   "source": [
    "sol_dict_instance"
   ]
  },
  {
   "cell_type": "markdown",
   "id": "303ed4b9-722a-4822-9b6e-7cdae6509eb0",
   "metadata": {},
   "source": [
    "# Result: harmonic game"
   ]
  },
  {
   "cell_type": "code",
   "execution_count": 51,
   "id": "90855238-7e9f-4bea-966d-84bdab2cad05",
   "metadata": {},
   "outputs": [
    {
     "name": "stdout",
     "output_type": "stream",
     "text": [
      "[2, 2]\n"
     ]
    }
   ],
   "source": [
    "print(skeleton)"
   ]
  },
  {
   "cell_type": "code",
   "execution_count": 52,
   "id": "c1510456-d20a-41dd-8e15-357918dd3b18",
   "metadata": {},
   "outputs": [
    {
     "data": {
      "text/plain": [
       "dict_values([0, -3, -2, -1, -4, 0, -1, -3])"
      ]
     },
     "execution_count": 52,
     "metadata": {},
     "output_type": "execute_result"
    }
   ],
   "source": [
    "sol_dict_instance.values()"
   ]
  },
  {
   "cell_type": "markdown",
   "id": "292abe02",
   "metadata": {},
   "source": [
    "# End"
   ]
  }
 ],
 "metadata": {
  "kernelspec": {
   "display_name": "Python 3 (ipykernel)",
   "language": "python",
   "name": "python3"
  },
  "language_info": {
   "codemirror_mode": {
    "name": "ipython",
    "version": 3
   },
   "file_extension": ".py",
   "mimetype": "text/x-python",
   "name": "python",
   "nbconvert_exporter": "python",
   "pygments_lexer": "ipython3",
   "version": "3.12.3"
  }
 },
 "nbformat": 4,
 "nbformat_minor": 5
}
